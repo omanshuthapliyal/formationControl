{
  "nbformat": 4,
  "nbformat_minor": 0,
  "metadata": {
    "colab": {
      "name": "SupervisoryControlAttack-formation-of-robots.ipynb",
      "provenance": [],
      "collapsed_sections": [],
      "toc_visible": true,
      "include_colab_link": true
    },
    "kernelspec": {
      "name": "python3",
      "display_name": "Python 3"
    }
  },
  "cells": [
    {
      "cell_type": "markdown",
      "metadata": {
        "id": "view-in-github",
        "colab_type": "text"
      },
      "source": [
        "<a href=\"https://colab.research.google.com/github/omanshuthapliyal/formationControl/blob/master/SupervisoryControlAttack_formation_of_robots.ipynb\" target=\"_parent\"><img src=\"https://colab.research.google.com/assets/colab-badge.svg\" alt=\"Open In Colab\"/></a>"
      ]
    },
    {
      "cell_type": "markdown",
      "metadata": {
        "id": "IEV93_SMyNrO",
        "colab_type": "text"
      },
      "source": [
        "# Defining ***Robot Formation*** model.\n",
        "\n",
        "Adapted from [Hybrid Control of Formation of Robots](https://ieeexplore.ieee.org/stamp/stamp.jsp?arnumber=932546).\n",
        "\n"
      ]
    },
    {
      "cell_type": "code",
      "metadata": {
        "id": "rbfwqjD0yDAA",
        "colab_type": "code",
        "colab": {}
      },
      "source": [
        "from numpy import matmul \n",
        "import numpy as np\n",
        "from numpy import pi\n",
        "import scipy.linalg\n",
        "import matplotlib.pyplot as plt\n",
        "from matplotlib import collections  as mc\n",
        "from math import sin, cos, acos, atan, sqrt\n",
        "import scipy.integrate as integrate\n",
        "from copy import copy"
      ],
      "execution_count": 0,
      "outputs": []
    },
    {
      "cell_type": "markdown",
      "metadata": {
        "id": "FiexJL813Ek1",
        "colab_type": "text"
      },
      "source": [
        "## Plant Objects"
      ]
    },
    {
      "cell_type": "code",
      "metadata": {
        "id": "JeT3mNvOytXt",
        "colab_type": "code",
        "colab": {}
      },
      "source": [
        "def stateProp(xDot, x, t, dt):\n",
        "  # xDot = dx/dt = constant during dT, x = x(t), dt = Delta T\n",
        "  dx = xDot*dt\n",
        "  return (x + dx)\n",
        "  \n",
        "class PLANT:\n",
        "  def __init__(self, rIN):\n",
        "    self.r = rIN # Sensor radius, unspecified in the paper\n",
        "    \n",
        "    # See beginning of section 4\n",
        "    eps = 0.0001\n",
        "    self.d = 0.1  # Robot dimension\n",
        "    self.l_des = [[0, 1, 1],\n",
        "                  [1, 0, 1],\n",
        "                  [1, 1, 0]]\n",
        "    # See Eq. 19\n",
        "    d12 = pi/2\n",
        "    d13 = acos((self.l_des[0][1]**2 + self.l_des[0][2]**2 - self.l_des[1][2]**2)/\n",
        "               (2*self.l_des[0][1]*self.l_des[0][2])) + d12\n",
        "    d23 = pi + pi/6\n",
        "    self.psi_des = [[eps, d12, d13],\n",
        "                    [d12, eps, d23],\n",
        "                    [d13, d23, eps]]\n",
        "    self.t = 0\n",
        "    self.dt = 0.1\n",
        "    self.l = [[eps, 1.5, sqrt(1.04)],\n",
        "              [1.5, eps, sqrt(5.69)],\n",
        "              [sqrt(1.04), sqrt(5.69), eps]]\n",
        "    self.lDot = np.zeros_like(self.l)\n",
        "    self.psi = [[eps, -pi/6, -pi/6 + atan(10)],\n",
        "                [-pi/6, eps, pi - atan(2/1.3)],\n",
        "                [-pi/6 + atan(10), pi - atan(2/1.3), eps]]\n",
        "    self.psiDot = np.zeros_like(self.psi)\n",
        "    # Initial conditions in global coordinates\n",
        "    self.x = np.array([eps, 1.5, 0.2])\n",
        "    self.y = np.array([eps, eps, 2])\n",
        "    self.theta = np.array([pi/6, eps, pi/6])\n",
        "    self.thetaDot = np.zeros_like(self.theta)\n",
        "    self.v = np.array([0.5,eps,eps])\n",
        "    self.w = np.array([0.1*sin(0.2*self.t), eps, eps])\n",
        "\n",
        "    self.xDot = np.zeros_like(self.x)\n",
        "    self.xDot[0] = self.v[0]*cos(self.theta[0])\n",
        "    self.yDot = np.zeros_like(self.x)\n",
        "    self.yDot[0] = self.v[0]*sin(self.theta[0])\n",
        "    self.thetaDot[0] = self.w[0]\n",
        "    \n",
        "    self.k1 = 1.5\n",
        "    self.k2 = 1.5\n",
        "    self.k3 = 1.5\n",
        "\n",
        "    self.modes = np.array([np.nan, np.nan, np.nan])\n",
        "\n",
        "  def SB_ijC(self,i,j):\n",
        "    # Robots j follows Robot i\n",
        "    \n",
        "    # Global coordinate equations from Eq 2-4\n",
        "    gamma_ij = self.theta[i] - self.theta[j] + self.psi[i][j]\n",
        "    s_ij = self.k1 * (self.l_des[i][j] - self.l[i][j])\n",
        "    b_ij = self.k2 * (self.psi_des[i][j] - self.psi[i][j])\n",
        "    # Eqs. 2-3\n",
        "    self.v[j] = ( s_ij * cos(gamma_ij) - self.l[i][j] * sin(gamma_ij) * (b_ij + self.w[i]) + \n",
        "                 self.v[i]*cos(self.theta[i]-self.theta[j]) )\n",
        "    self.w[j] = ( s_ij * sin(gamma_ij) + self.l[i][j] * cos(gamma_ij) * (b_ij + self.w[i]) + \n",
        "                 self.v[i]*sin(self.theta[i]-self.theta[j]) )/self.d\n",
        "\n",
        "    # See Eqs. 15 - 17\n",
        "    self.lDot[i][j] = s_ij\n",
        "    self.psiDot[i][j] = b_ij\n",
        "    self.thetaDot[j] = copy(self.w[j])\n",
        "\n",
        "  def S_ikS_jkC(self,i,j,k):\n",
        "    # Robot k follows Robots i & j\n",
        "    # Global coordinate equations from Eqs 6-7\n",
        "    gamma_jk = self.theta[j] - self.theta[k] + self.psi[j][k]\n",
        "    gamma_ik = self.theta[i] - self.theta[k] + self.psi[i][k]\n",
        "\n",
        "    s_ik = self.k1 * (self.l_des[i][k] - self.l[i][k])\n",
        "    s_jk = self.k1 * (self.l_des[j][k] - self.l[j][k])\n",
        "\n",
        "    self.v[k] = (  s_ik * sin(gamma_jk) - s_jk * sin(gamma_ik) + \n",
        "                 self.v[i]*cos(self.psi[i][k]) * sin(gamma_jk) -\n",
        "                 self.v[j]*cos(self.psi[j][k]) * sin(gamma_ik) )/(sin(gamma_jk - gamma_ik))\n",
        "    self.w[k] = ( -s_ik * cos(gamma_jk) + s_jk * cos(gamma_ik) - \n",
        "                 self.v[i]*cos(self.psi[i][k]) * cos(gamma_jk) +\n",
        "                 self.v[j]*cos(self.psi[j][k]) * cos(gamma_ik) )/(self.d * sin(gamma_jk - gamma_ik))\n",
        "\n",
        "    self.lDot[i][k] = s_ik\n",
        "    self.lDot[j][k] = s_jk\n",
        "    self.thetaDot[k] = copy(self.w[k])\n",
        "\n",
        "    # self.psi[i][k] = stateProp(self.psiDot[i][k],\n",
        "    #                       self.psi[i][k], self.t, self.dt)\n",
        "    # self.psi[j][k] = stateProp(self.psiDot[j][k],\n",
        "    #                   self.psi[j][k], self.t, self.dt)\n",
        "\n",
        "  def autoNavig(self, i):\n",
        "    self.xDot[i] = self.v[i]*cos(self.theta[i])\n",
        "    self.yDot[i] = self.v[i]*sin(self.theta[i])\n",
        "    self.thetaDot[i] = copy(self.w[i])\n",
        "    \n",
        "  def updatePosition(self, i):\n",
        "    # Update the position of robot i following robot 1\n",
        "    # Updates using position of Robot 1\n",
        "    \n",
        "    self.theta[i] = stateProp(self.thetaDot[i], \n",
        "                              self.theta[i], \n",
        "                              self.t, self.dt)\n",
        "    self.y[i] = stateProp(self.yDot[i], \n",
        "                          self.y[i], self.t, self.dt)\n",
        "    self.x[i] = stateProp(self.xDot[i], \n",
        "                          self.x[i], self.t, self.dt)\n",
        "    \n",
        "    for n in range(3):\n",
        "      self.l[n][i] = np.linalg.norm([self.x[n] - self.x[i] ,\n",
        "                                     self.y[n] - self.y[i]])\n",
        "      \n",
        "      self.psi[n][i] = stateProp(self.psiDot[n][i],\n",
        "                          self.psi[n][i], \n",
        "                          self.t, self.dt)\n",
        "\n",
        "  def letUsUpdate(self,i):\n",
        "    self.autoNavig(i)\n",
        "    self.updatePosition(i) \n",
        "\n",
        "  def propagate(self, supervObj, i):\n",
        "    # ID = 1, 2, 3 are robot numbers. We are interested in Robot 3\n",
        "    if i == 0:\n",
        "      # leader's dynamics are given by Eq. 1\n",
        "      self.w[i] = 0.1*sin(0.2*self.t)\n",
        "      self.letUsUpdate(i)\n",
        "\n",
        "    elif i == 1:\n",
        "      # Robot 2 is always in SB_12C mode,that is, following robot 1\n",
        "      self.SB_ijC(0,1)    # (1,2) = (0,1) due to zero indexing\n",
        "      self.letUsUpdate(i)\n",
        "    \n",
        "    else:\n",
        "      # Choose mode for Robot 3\n",
        "      mode = supervObj.switch(self, self.l[0][2], self.l[1][2])\n",
        "      if mode == 1: \n",
        "        self.SB_ijC(0,2)         # Robot 3 follows Robot 1\n",
        "      elif mode == 2: \n",
        "        self.SB_ijC(1,2)         # Robot 3 follows Robot 2\n",
        "      elif mode == 3: \n",
        "        self.S_ikS_jkC(0,2,1)    # Robot 3 follows Robot 1 & 2 \n",
        "      elif mode == 4: pass       # Autonomous Navigation for Robot 3\n",
        "      self.letUsUpdate(i)\n",
        "      self.modes[i] = mode"
      ],
      "execution_count": 0,
      "outputs": []
    },
    {
      "cell_type": "markdown",
      "metadata": {
        "id": "TrT7qcXXCzs9",
        "colab_type": "text"
      },
      "source": [
        "## Supervisor Model"
      ]
    },
    {
      "cell_type": "code",
      "metadata": {
        "id": "U0kFFvA0Cerk",
        "colab_type": "code",
        "colab": {}
      },
      "source": [
        " class supervisor:\n",
        "    def switch(self, Plant, l13, l23):\n",
        "    # Supervisory Logic for Robot 3, where it can detect robots 1 & 2\n",
        "    # based on Section 3.1\n",
        "      b1 = ((l13 < l23) and (l23 > Plant.r[0]) and\n",
        "            (l13 < Plant.r[1]) )\n",
        "      b2 = ((l13 > l23) and (l13 > Plant.r[0]) and\n",
        "            (l23 < Plant.r[1]) )\n",
        "      b3 = (l13 < Plant.r[0]) and (l23 < Plant.r[0])\n",
        "      b4 = (l13 > Plant.r[1]) and (l23 > Plant.r[1])\n",
        "      if b1: return 1\n",
        "      elif b2: return 2\n",
        "      elif b3: return 3\n",
        "      elif b4: return 4"
      ],
      "execution_count": 0,
      "outputs": []
    },
    {
      "cell_type": "markdown",
      "metadata": {
        "id": "mATX1kF73Jhl",
        "colab_type": "text"
      },
      "source": [
        "## Propagate plant to simulate supervisor\n",
        "Not used in training, only to visualize plant behaviour"
      ]
    },
    {
      "cell_type": "code",
      "metadata": {
        "id": "1YvD-Kz-y0xz",
        "colab_type": "code",
        "colab": {}
      },
      "source": [
        "# Initial parameters for running plant \n",
        "# r = np.array([0.5, 1.2, 2])\n",
        "r = np.array([0.75, 1.2, 2])\n",
        "ROBOTS = PLANT(r)\n",
        "tSim = 30\n",
        "SUPER = supervisor()\n",
        "tHISTORY = np.zeros((int(tSim/ROBOTS.dt)+1,1))\n",
        "xHISTORY = np.zeros((tHISTORY.size,3))\n",
        "yHISTORY = np.zeros_like(xHISTORY)\n",
        "thetaHISTORY = np.zeros_like(xHISTORY)\n",
        "modeHISTORY = np.zeros_like(tHISTORY)\n",
        "for t in range(tHISTORY.size):\n",
        "# Looping across time\n",
        "  for i in range(3):\n",
        "    # Looping over robots\n",
        "    xHISTORY[t][i] = ROBOTS.x[i]\n",
        "    yHISTORY[t][i] = ROBOTS.y[i]\n",
        "    thetaHISTORY[t][i] = ROBOTS.theta[i]\n",
        "    modeHISTORY[t] = ROBOTS.modes[2]\n",
        "    tHISTORY[t] = ROBOTS.t\n",
        "    ROBOTS.propagate(SUPER,i)\n",
        "  ROBOTS.t += ROBOTS.dt"
      ],
      "execution_count": 0,
      "outputs": []
    },
    {
      "cell_type": "code",
      "metadata": {
        "id": "dv7BY4hadyAQ",
        "colab_type": "code",
        "colab": {}
      },
      "source": [
        "def modePlotter(modeHISTORY, filename, saveTag=False):\n",
        "  # Plotting mode change for Robot 3\n",
        "  plt.plot(tHISTORY, modeHISTORY)\n",
        "  if saveTag:\n",
        "    plt.savefig(filename)\n",
        "    files.download(filename)\n",
        "  plt.show()\n",
        "\n",
        "def trajectoryPlotter(xHISTORY, yHISTORY, filename, saveTag=False):\n",
        "  # Plotting trajectories:\n",
        "  colors = ['k-','g-','r:']\n",
        "  for j in range(3):\n",
        "    plt.plot(xHISTORY[0,j], yHISTORY[0,j], 'ko')\n",
        "    plt.plot(xHISTORY[-1,j], yHISTORY[-1,j], 'ko')\n",
        "\n",
        "  for i in range(3):\n",
        "    plt.plot( xHISTORY[:,i], yHISTORY[:,i],\n",
        "            colors[i], \n",
        "            label = \"Robot \"+str(i+1))\n",
        "  plt.xlim(-8,8)\n",
        "  plt.ylim(-0.2,14)\n",
        "  plt.grid(True)\n",
        "  plt.axis('scaled')\n",
        "  plt.legend(loc='upper left')\n",
        "  plt.title('Robot trajectories over time')\n",
        "  plt.xlabel(\"$x$\")\n",
        "  plt.ylabel(\"$y$\")\n",
        "  if saveTag:\n",
        "    plt.savefig(filename)\n",
        "    files.download(filename)\n",
        "  plt.show()\n"
      ],
      "execution_count": 0,
      "outputs": []
    },
    {
      "cell_type": "code",
      "metadata": {
        "id": "xoPEH--vFdyI",
        "colab_type": "code",
        "outputId": "4b54549c-e719-4167-fca6-da969a4048b0",
        "colab": {
          "base_uri": "https://localhost:8080/",
          "height": 72
        }
      },
      "source": [
        "from google.colab import drive\n",
        "drive.mount('/content/drive')\n",
        "from google.colab import files\n",
        "!pwd\n"
      ],
      "execution_count": 0,
      "outputs": [
        {
          "output_type": "stream",
          "text": [
            "Drive already mounted at /content/drive; to attempt to forcibly remount, call drive.mount(\"/content/drive\", force_remount=True).\n",
            "/content\n"
          ],
          "name": "stdout"
        }
      ]
    },
    {
      "cell_type": "code",
      "metadata": {
        "id": "hqZ59G1rG5nG",
        "colab_type": "code",
        "outputId": "43d249a1-09a2-4670-b7c4-82551f08e032",
        "colab": {
          "base_uri": "https://localhost:8080/",
          "height": 543
        }
      },
      "source": [
        "modePlotter(modeHISTORY, \"modes1.eps\")\n",
        "# files.download(\"modes1.eps\")\n",
        "\n",
        "trajectoryPlotter(xHISTORY, yHISTORY, \"traj1.eps\")\n",
        "# files.download(\"traj1.eps\")\n"
      ],
      "execution_count": 0,
      "outputs": [
        {
          "output_type": "display_data",
          "data": {
            "image/png": "[encoded data removed]",
            "text/plain": [
              "<Figure size 432x288 with 1 Axes>"
            ]
          },
          "metadata": {
            "tags": []
          }
        },
        {
          "output_type": "display_data",
          "data": {
            "image/png": "[encoded data removed]",
            "text/plain": [
              "<Figure size 432x288 with 1 Axes>"
            ]
          },
          "metadata": {
            "tags": []
          }
        }
      ]
    },
    {
      "cell_type": "markdown",
      "metadata": {
        "id": "9Jjezam53UGE",
        "colab_type": "text"
      },
      "source": [
        "\n",
        "plt.savefig(\"modes1.eps\")\n",
        "files.download('modes1.eps')\n",
        "# Building Statistical model of Supervisory logic"
      ]
    },
    {
      "cell_type": "markdown",
      "metadata": {
        "id": "KC4Mo3zz4Dvl",
        "colab_type": "text"
      },
      "source": [
        "## Making Queries to the Supervisor object"
      ]
    },
    {
      "cell_type": "code",
      "metadata": {
        "id": "v-0RRNwYNgRT",
        "colab_type": "code",
        "colab": {}
      },
      "source": [
        "#Import necessary packages\n",
        "import numpy as np\n",
        "import keras\n",
        "import tensorflow as tf\n",
        "from keras.datasets import mnist\n",
        "from keras.layers import Dense, Dropout\n",
        "from keras.models import Sequential\n",
        "import matplotlib.pyplot as plt\n",
        "from keras import backend as K"
      ],
      "execution_count": 0,
      "outputs": []
    },
    {
      "cell_type": "code",
      "metadata": {
        "id": "mh27QxSN0IGZ",
        "colab_type": "code",
        "outputId": "9168fa45-c21b-408a-d777-cd1091c1fe76",
        "colab": {
          "base_uri": "https://localhost:8080/",
          "height": 87
        }
      },
      "source": [
        "# Making Queries to the Supervisor\n",
        "SUPER2 = supervisor()\n",
        "DUMMY = PLANT(r)    # Using same 'r' as that is a sensor property and can be easily found\n",
        "nDim = 2\n",
        "nModes = 4\n",
        "# mean = np.zeros(nDim)\n",
        "# cov = np.eye(nDim)*100\n",
        "Low = 0\n",
        "High = 3\n",
        "nQueries = 500\n",
        "# Collecting data from Queries\n",
        "data = np.zeros((nQueries, nDim))\n",
        "labels = np.zeros(nQueries)\n",
        "counts = np.empty((nModes, 1))\n",
        "\n",
        "for i in range(nQueries):\n",
        "  data[i,:] = np.random.uniform(low = Low, high = High, size = (1,2))\n",
        "  s = SUPER2.switch(DUMMY, data[i,0], data[i,1])\n",
        "  if s == 1: \n",
        "    counts[s-1]+=1\n",
        "  elif s==2:\n",
        "    counts[s-1]+=1\n",
        "  elif s==3:\n",
        "    counts[s-1]+=1\n",
        "  else: counts[s-1]+=1\n",
        "  labels[i] = s-1  # Because label 0 = mode 1 and so on\n",
        "\n",
        "print(counts)\n",
        "\n",
        "k = np.random.choice(nQueries)\n",
        "# Converting labels to one-hot-vectors\n",
        "_labels = keras.utils.np_utils.to_categorical(labels, num_classes=4)\n",
        "# Splitting dataset\n",
        "split = int(0.75*nQueries)\n",
        "data_train = data[0:split,:]\n",
        "labels_train = _labels[0:split,:]\n",
        "data_test = data[split:,:]\n",
        "labels_test = _labels[split:,:]\n"
      ],
      "execution_count": 0,
      "outputs": [
        {
          "output_type": "stream",
          "text": [
            "[[209.  ]\n",
            " [188.  ]\n",
            " [415.8 ]\n",
            " [431.44]]\n"
          ],
          "name": "stdout"
        }
      ]
    },
    {
      "cell_type": "code",
      "metadata": {
        "id": "Yt0pcIaWtS3n",
        "colab_type": "code",
        "outputId": "52aac475-aca6-4989-ed28-59920648c1cb",
        "colab": {
          "base_uri": "https://localhost:8080/",
          "height": 1000
        }
      },
      "source": [
        "labels_test"
      ],
      "execution_count": 0,
      "outputs": [
        {
          "output_type": "execute_result",
          "data": {
            "text/plain": [
              "array([[0., 1., 0., 0.],\n",
              "       [0., 0., 0., 1.],\n",
              "       [1., 0., 0., 0.],\n",
              "       [0., 1., 0., 0.],\n",
              "       [0., 0., 0., 1.],\n",
              "       [0., 0., 0., 1.],\n",
              "       [0., 1., 0., 0.],\n",
              "       [0., 1., 0., 0.],\n",
              "       [1., 0., 0., 0.],\n",
              "       [0., 1., 0., 0.],\n",
              "       [1., 0., 0., 0.],\n",
              "       [0., 0., 0., 1.],\n",
              "       [1., 0., 0., 0.],\n",
              "       [1., 0., 0., 0.],\n",
              "       [0., 0., 1., 0.],\n",
              "       [1., 0., 0., 0.],\n",
              "       [0., 0., 0., 1.],\n",
              "       [0., 0., 0., 1.],\n",
              "       [0., 0., 0., 1.],\n",
              "       [0., 1., 0., 0.],\n",
              "       [0., 1., 0., 0.],\n",
              "       [0., 1., 0., 0.],\n",
              "       [0., 1., 0., 0.],\n",
              "       [0., 1., 0., 0.],\n",
              "       [1., 0., 0., 0.],\n",
              "       [0., 0., 0., 1.],\n",
              "       [0., 1., 0., 0.],\n",
              "       [1., 0., 0., 0.],\n",
              "       [0., 0., 0., 1.],\n",
              "       [0., 1., 0., 0.],\n",
              "       [0., 0., 0., 1.],\n",
              "       [0., 0., 0., 1.],\n",
              "       [0., 0., 0., 1.],\n",
              "       [1., 0., 0., 0.],\n",
              "       [0., 1., 0., 0.],\n",
              "       [1., 0., 0., 0.],\n",
              "       [0., 1., 0., 0.],\n",
              "       [0., 0., 0., 1.],\n",
              "       [1., 0., 0., 0.],\n",
              "       [0., 0., 0., 1.],\n",
              "       [1., 0., 0., 0.],\n",
              "       [0., 1., 0., 0.],\n",
              "       [0., 1., 0., 0.],\n",
              "       [0., 1., 0., 0.],\n",
              "       [0., 0., 0., 1.],\n",
              "       [0., 0., 0., 1.],\n",
              "       [0., 0., 0., 1.],\n",
              "       [0., 1., 0., 0.],\n",
              "       [0., 0., 0., 1.],\n",
              "       [1., 0., 0., 0.],\n",
              "       [0., 1., 0., 0.],\n",
              "       [0., 0., 0., 1.],\n",
              "       [0., 1., 0., 0.],\n",
              "       [0., 1., 0., 0.],\n",
              "       [1., 0., 0., 0.],\n",
              "       [0., 0., 0., 1.],\n",
              "       [0., 0., 0., 1.],\n",
              "       [1., 0., 0., 0.],\n",
              "       [0., 0., 0., 1.],\n",
              "       [0., 0., 1., 0.],\n",
              "       [1., 0., 0., 0.],\n",
              "       [0., 0., 0., 1.],\n",
              "       [0., 1., 0., 0.],\n",
              "       [0., 1., 0., 0.],\n",
              "       [0., 0., 0., 1.],\n",
              "       [0., 0., 0., 1.],\n",
              "       [0., 0., 0., 1.],\n",
              "       [0., 0., 0., 1.],\n",
              "       [0., 1., 0., 0.],\n",
              "       [1., 0., 0., 0.],\n",
              "       [0., 1., 0., 0.],\n",
              "       [1., 0., 0., 0.],\n",
              "       [1., 0., 0., 0.],\n",
              "       [0., 1., 0., 0.],\n",
              "       [0., 0., 1., 0.],\n",
              "       [0., 1., 0., 0.],\n",
              "       [0., 0., 1., 0.],\n",
              "       [0., 0., 0., 1.],\n",
              "       [1., 0., 0., 0.],\n",
              "       [0., 0., 0., 1.],\n",
              "       [0., 0., 0., 1.],\n",
              "       [1., 0., 0., 0.],\n",
              "       [0., 1., 0., 0.],\n",
              "       [0., 0., 0., 1.],\n",
              "       [1., 0., 0., 0.],\n",
              "       [0., 0., 0., 1.],\n",
              "       [0., 0., 0., 1.],\n",
              "       [1., 0., 0., 0.],\n",
              "       [0., 1., 0., 0.],\n",
              "       [0., 0., 0., 1.],\n",
              "       [0., 1., 0., 0.],\n",
              "       [0., 0., 0., 1.],\n",
              "       [0., 1., 0., 0.],\n",
              "       [0., 1., 0., 0.],\n",
              "       [0., 0., 0., 1.],\n",
              "       [1., 0., 0., 0.],\n",
              "       [0., 0., 0., 1.],\n",
              "       [1., 0., 0., 0.],\n",
              "       [0., 0., 0., 1.],\n",
              "       [1., 0., 0., 0.],\n",
              "       [0., 0., 0., 1.],\n",
              "       [0., 0., 0., 1.],\n",
              "       [0., 0., 0., 1.],\n",
              "       [0., 0., 0., 1.],\n",
              "       [1., 0., 0., 0.],\n",
              "       [1., 0., 0., 0.],\n",
              "       [1., 0., 0., 0.],\n",
              "       [1., 0., 0., 0.],\n",
              "       [1., 0., 0., 0.],\n",
              "       [0., 0., 1., 0.],\n",
              "       [0., 0., 0., 1.],\n",
              "       [1., 0., 0., 0.],\n",
              "       [0., 1., 0., 0.],\n",
              "       [0., 1., 0., 0.],\n",
              "       [0., 1., 0., 0.],\n",
              "       [0., 0., 1., 0.],\n",
              "       [0., 1., 0., 0.],\n",
              "       [1., 0., 0., 0.],\n",
              "       [0., 0., 0., 1.],\n",
              "       [1., 0., 0., 0.],\n",
              "       [0., 1., 0., 0.],\n",
              "       [0., 0., 0., 1.],\n",
              "       [0., 0., 0., 1.],\n",
              "       [0., 0., 1., 0.],\n",
              "       [1., 0., 0., 0.]], dtype=float32)"
            ]
          },
          "metadata": {
            "tags": []
          },
          "execution_count": 84
        }
      ]
    },
    {
      "cell_type": "markdown",
      "metadata": {
        "id": "bU0OgI4M4Ftj",
        "colab_type": "text"
      },
      "source": [
        "## Defining Neural Network Architecture"
      ]
    },
    {
      "cell_type": "code",
      "metadata": {
        "id": "4oTfSSFm29Ri",
        "colab_type": "code",
        "colab": {}
      },
      "source": [
        "def NN_arch():\n",
        "  model = Sequential()\n",
        "\n",
        "  # Input Layer: accepts nDim number of inputs\n",
        "  model.add(Dense(units = nDim, \n",
        "                  use_bias = True))\n",
        "                  # kernel_initializer = \"uniform\"))\n",
        "  # Second Layer \n",
        "  model.add(Dense(units = 8,\n",
        "                  use_bias = True,\n",
        "                  # kernel_initializer = \"uniform\",\n",
        "                  activation = \"relu\"))\n",
        "  # model.add(Dropout(0.10))\n",
        "\n",
        "  # Third Layer \n",
        "  # model.add(Dense(units = 5,\n",
        "  #                 use_bias = True,\n",
        "  #                 # kernel_initializer = \"uniform\",\n",
        "                  # activation = \"relu\"))\n",
        "  # model.add(Dropout(0.10))\n",
        "\n",
        "  # Output Layer with 4 units\n",
        "  model.add(Dense(units = nModes,\n",
        "                  activation = \"softmax\"))\n",
        "  return model"
      ],
      "execution_count": 0,
      "outputs": []
    },
    {
      "cell_type": "markdown",
      "metadata": {
        "id": "fy1oUJAqER8i",
        "colab_type": "text"
      },
      "source": [
        "## Training model"
      ]
    },
    {
      "cell_type": "markdown",
      "metadata": {
        "id": "RUGcBZNdKz1x",
        "colab_type": "text"
      },
      "source": [
        "### Building Model"
      ]
    },
    {
      "cell_type": "code",
      "metadata": {
        "id": "Ooj7kAO-EUQa",
        "colab_type": "code",
        "outputId": "ad977bbf-da43-4c69-c6bc-8d8574274847",
        "colab": {
          "base_uri": "https://localhost:8080/",
          "height": 283
        }
      },
      "source": [
        "supervisorApprox = NN_arch()\n",
        "supervisorApprox.build((None, nDim))\n",
        "print(supervisorApprox.summary())"
      ],
      "execution_count": 0,
      "outputs": [
        {
          "output_type": "stream",
          "text": [
            "Model: \"sequential_2\"\n",
            "_________________________________________________________________\n",
            "Layer (type)                 Output Shape              Param #   \n",
            "=================================================================\n",
            "dense_4 (Dense)              (None, 2)                 6         \n",
            "_________________________________________________________________\n",
            "dense_5 (Dense)              (None, 8)                 24        \n",
            "_________________________________________________________________\n",
            "dense_6 (Dense)              (None, 4)                 36        \n",
            "=================================================================\n",
            "Total params: 66\n",
            "Trainable params: 66\n",
            "Non-trainable params: 0\n",
            "_________________________________________________________________\n",
            "None\n"
          ],
          "name": "stdout"
        }
      ]
    },
    {
      "cell_type": "markdown",
      "metadata": {
        "id": "bJckMDL9K2Ub",
        "colab_type": "text"
      },
      "source": [
        "### Training model"
      ]
    },
    {
      "cell_type": "code",
      "metadata": {
        "id": "angXvmYEK29l",
        "colab_type": "code",
        "outputId": "f103bced-7c95-4d13-dc39-dc80eba5e0e5",
        "colab": {
          "base_uri": "https://localhost:8080/",
          "height": 1000
        }
      },
      "source": [
        "supervisorApprox.compile(loss=\"mean_squared_error\", \n",
        "                    optimizer = \"adam\", \n",
        "                    metrics = ['accuracy'])\n",
        "supervisorApprox_metaData = supervisorApprox.fit(\n",
        "                data_train, labels_train, \n",
        "                validation_data = (data_test, labels_test), \n",
        "                epochs = 100, \n",
        "                batch_size = 5, \n",
        "                shuffle = True)\n",
        "#Print accuracy of model on testing set after training \n",
        "scores = supervisorApprox.evaluate(data_test, labels_test)\n",
        "print(\"Accuracy: %0.4f%%\" %(scores[1]*100) )"
      ],
      "execution_count": 0,
      "outputs": [
        {
          "output_type": "stream",
          "text": [
            "Train on 375 samples, validate on 125 samples\n",
            "Epoch 1/100\n",
            "375/375 [==============================] - 2s 5ms/step - loss: 0.1159 - acc: 0.6800 - val_loss: 0.1146 - val_acc: 0.7360\n",
            "Epoch 2/100\n",
            "375/375 [==============================] - 0s 333us/step - loss: 0.1057 - acc: 0.7360 - val_loss: 0.1068 - val_acc: 0.7760\n",
            "Epoch 3/100\n",
            "375/375 [==============================] - 0s 312us/step - loss: 0.0981 - acc: 0.7653 - val_loss: 0.0995 - val_acc: 0.8160\n",
            "Epoch 4/100\n",
            "375/375 [==============================] - 0s 357us/step - loss: 0.0912 - acc: 0.8080 - val_loss: 0.0924 - val_acc: 0.8480\n",
            "Epoch 5/100\n",
            "375/375 [==============================] - 0s 365us/step - loss: 0.0846 - acc: 0.8667 - val_loss: 0.0857 - val_acc: 0.9040\n",
            "Epoch 6/100\n",
            "375/375 [==============================] - 0s 384us/step - loss: 0.0789 - acc: 0.8933 - val_loss: 0.0798 - val_acc: 0.9040\n",
            "Epoch 7/100\n",
            "375/375 [==============================] - 0s 373us/step - loss: 0.0726 - acc: 0.9227 - val_loss: 0.0737 - val_acc: 0.9520\n",
            "Epoch 8/100\n",
            "375/375 [==============================] - 0s 375us/step - loss: 0.0670 - acc: 0.9307 - val_loss: 0.0683 - val_acc: 0.9440\n",
            "Epoch 9/100\n",
            "375/375 [==============================] - 0s 376us/step - loss: 0.0621 - acc: 0.9253 - val_loss: 0.0639 - val_acc: 0.9600\n",
            "Epoch 10/100\n",
            "375/375 [==============================] - 0s 389us/step - loss: 0.0579 - acc: 0.9307 - val_loss: 0.0602 - val_acc: 0.9440\n",
            "Epoch 11/100\n",
            "375/375 [==============================] - 0s 371us/step - loss: 0.0543 - acc: 0.9253 - val_loss: 0.0569 - val_acc: 0.9600\n",
            "Epoch 12/100\n",
            "375/375 [==============================] - 0s 336us/step - loss: 0.0514 - acc: 0.9200 - val_loss: 0.0537 - val_acc: 0.9440\n",
            "Epoch 13/100\n",
            "375/375 [==============================] - 0s 357us/step - loss: 0.0486 - acc: 0.9307 - val_loss: 0.0512 - val_acc: 0.9440\n",
            "Epoch 14/100\n",
            "375/375 [==============================] - 0s 367us/step - loss: 0.0460 - acc: 0.9253 - val_loss: 0.0490 - val_acc: 0.9520\n",
            "Epoch 15/100\n",
            "375/375 [==============================] - 0s 413us/step - loss: 0.0439 - acc: 0.9413 - val_loss: 0.0475 - val_acc: 0.9440\n",
            "Epoch 16/100\n",
            "375/375 [==============================] - 0s 391us/step - loss: 0.0420 - acc: 0.9280 - val_loss: 0.0453 - val_acc: 0.9440\n",
            "Epoch 17/100\n",
            "375/375 [==============================] - 0s 376us/step - loss: 0.0401 - acc: 0.9440 - val_loss: 0.0439 - val_acc: 0.9440\n",
            "Epoch 18/100\n",
            "375/375 [==============================] - 0s 350us/step - loss: 0.0383 - acc: 0.9387 - val_loss: 0.0419 - val_acc: 0.9520\n",
            "Epoch 19/100\n",
            "375/375 [==============================] - 0s 350us/step - loss: 0.0369 - acc: 0.9387 - val_loss: 0.0404 - val_acc: 0.9360\n",
            "Epoch 20/100\n",
            "375/375 [==============================] - 0s 391us/step - loss: 0.0346 - acc: 0.9440 - val_loss: 0.0375 - val_acc: 0.9520\n",
            "Epoch 21/100\n",
            "375/375 [==============================] - 0s 373us/step - loss: 0.0322 - acc: 0.9493 - val_loss: 0.0359 - val_acc: 0.9600\n",
            "Epoch 22/100\n",
            "375/375 [==============================] - 0s 391us/step - loss: 0.0308 - acc: 0.9520 - val_loss: 0.0344 - val_acc: 0.9600\n",
            "Epoch 23/100\n",
            "375/375 [==============================] - 0s 329us/step - loss: 0.0295 - acc: 0.9547 - val_loss: 0.0333 - val_acc: 0.9600\n",
            "Epoch 24/100\n",
            "375/375 [==============================] - 0s 385us/step - loss: 0.0282 - acc: 0.9600 - val_loss: 0.0321 - val_acc: 0.9680\n",
            "Epoch 25/100\n",
            "375/375 [==============================] - 0s 338us/step - loss: 0.0273 - acc: 0.9627 - val_loss: 0.0313 - val_acc: 0.9680\n",
            "Epoch 26/100\n",
            "375/375 [==============================] - 0s 342us/step - loss: 0.0263 - acc: 0.9680 - val_loss: 0.0301 - val_acc: 0.9680\n",
            "Epoch 27/100\n",
            "375/375 [==============================] - 0s 339us/step - loss: 0.0254 - acc: 0.9760 - val_loss: 0.0296 - val_acc: 0.9680\n",
            "Epoch 28/100\n",
            "375/375 [==============================] - 0s 340us/step - loss: 0.0250 - acc: 0.9680 - val_loss: 0.0287 - val_acc: 0.9680\n",
            "Epoch 29/100\n",
            "375/375 [==============================] - 0s 359us/step - loss: 0.0241 - acc: 0.9707 - val_loss: 0.0282 - val_acc: 0.9680\n",
            "Epoch 30/100\n",
            "375/375 [==============================] - 0s 377us/step - loss: 0.0233 - acc: 0.9733 - val_loss: 0.0275 - val_acc: 0.9600\n",
            "Epoch 31/100\n",
            "375/375 [==============================] - 0s 383us/step - loss: 0.0229 - acc: 0.9733 - val_loss: 0.0267 - val_acc: 0.9600\n",
            "Epoch 32/100\n",
            "375/375 [==============================] - 0s 364us/step - loss: 0.0221 - acc: 0.9760 - val_loss: 0.0264 - val_acc: 0.9680\n",
            "Epoch 33/100\n",
            "375/375 [==============================] - 0s 372us/step - loss: 0.0215 - acc: 0.9760 - val_loss: 0.0258 - val_acc: 0.9680\n",
            "Epoch 34/100\n",
            "375/375 [==============================] - 0s 370us/step - loss: 0.0210 - acc: 0.9707 - val_loss: 0.0254 - val_acc: 0.9680\n",
            "Epoch 35/100\n",
            "375/375 [==============================] - 0s 393us/step - loss: 0.0206 - acc: 0.9733 - val_loss: 0.0253 - val_acc: 0.9680\n",
            "Epoch 36/100\n",
            "375/375 [==============================] - 0s 432us/step - loss: 0.0203 - acc: 0.9787 - val_loss: 0.0245 - val_acc: 0.9680\n",
            "Epoch 37/100\n",
            "375/375 [==============================] - 0s 342us/step - loss: 0.0198 - acc: 0.9733 - val_loss: 0.0239 - val_acc: 0.9680\n",
            "Epoch 38/100\n",
            "375/375 [==============================] - 0s 375us/step - loss: 0.0194 - acc: 0.9760 - val_loss: 0.0234 - val_acc: 0.9680\n",
            "Epoch 39/100\n",
            "375/375 [==============================] - 0s 362us/step - loss: 0.0192 - acc: 0.9760 - val_loss: 0.0228 - val_acc: 0.9680\n",
            "Epoch 40/100\n",
            "375/375 [==============================] - 0s 419us/step - loss: 0.0188 - acc: 0.9760 - val_loss: 0.0227 - val_acc: 0.9680\n",
            "Epoch 41/100\n",
            "375/375 [==============================] - 0s 362us/step - loss: 0.0186 - acc: 0.9733 - val_loss: 0.0226 - val_acc: 0.9680\n",
            "Epoch 42/100\n",
            "375/375 [==============================] - 0s 379us/step - loss: 0.0182 - acc: 0.9733 - val_loss: 0.0217 - val_acc: 0.9680\n",
            "Epoch 43/100\n",
            "375/375 [==============================] - 0s 401us/step - loss: 0.0177 - acc: 0.9787 - val_loss: 0.0214 - val_acc: 0.9680\n",
            "Epoch 44/100\n",
            "375/375 [==============================] - 0s 393us/step - loss: 0.0176 - acc: 0.9760 - val_loss: 0.0210 - val_acc: 0.9680\n",
            "Epoch 45/100\n",
            "375/375 [==============================] - 0s 359us/step - loss: 0.0175 - acc: 0.9760 - val_loss: 0.0206 - val_acc: 0.9680\n",
            "Epoch 46/100\n",
            "375/375 [==============================] - 0s 363us/step - loss: 0.0169 - acc: 0.9813 - val_loss: 0.0205 - val_acc: 0.9680\n",
            "Epoch 47/100\n",
            "375/375 [==============================] - 0s 358us/step - loss: 0.0167 - acc: 0.9787 - val_loss: 0.0202 - val_acc: 0.9680\n",
            "Epoch 48/100\n",
            "375/375 [==============================] - 0s 368us/step - loss: 0.0168 - acc: 0.9787 - val_loss: 0.0201 - val_acc: 0.9680\n",
            "Epoch 49/100\n",
            "375/375 [==============================] - 0s 363us/step - loss: 0.0163 - acc: 0.9840 - val_loss: 0.0198 - val_acc: 0.9680\n",
            "Epoch 50/100\n",
            "375/375 [==============================] - 0s 358us/step - loss: 0.0161 - acc: 0.9760 - val_loss: 0.0196 - val_acc: 0.9680\n",
            "Epoch 51/100\n",
            "375/375 [==============================] - 0s 366us/step - loss: 0.0158 - acc: 0.9787 - val_loss: 0.0196 - val_acc: 0.9680\n",
            "Epoch 52/100\n",
            "375/375 [==============================] - 0s 369us/step - loss: 0.0158 - acc: 0.9760 - val_loss: 0.0193 - val_acc: 0.9680\n",
            "Epoch 53/100\n",
            "375/375 [==============================] - 0s 344us/step - loss: 0.0154 - acc: 0.9813 - val_loss: 0.0188 - val_acc: 0.9680\n",
            "Epoch 54/100\n",
            "375/375 [==============================] - 0s 354us/step - loss: 0.0151 - acc: 0.9813 - val_loss: 0.0188 - val_acc: 0.9680\n",
            "Epoch 55/100\n",
            "375/375 [==============================] - 0s 342us/step - loss: 0.0151 - acc: 0.9760 - val_loss: 0.0187 - val_acc: 0.9680\n",
            "Epoch 56/100\n",
            "375/375 [==============================] - 0s 341us/step - loss: 0.0149 - acc: 0.9813 - val_loss: 0.0183 - val_acc: 0.9760\n",
            "Epoch 57/100\n",
            "375/375 [==============================] - 0s 322us/step - loss: 0.0147 - acc: 0.9840 - val_loss: 0.0179 - val_acc: 0.9680\n",
            "Epoch 58/100\n",
            "375/375 [==============================] - 0s 379us/step - loss: 0.0148 - acc: 0.9733 - val_loss: 0.0180 - val_acc: 0.9680\n",
            "Epoch 59/100\n",
            "375/375 [==============================] - 0s 366us/step - loss: 0.0143 - acc: 0.9893 - val_loss: 0.0182 - val_acc: 0.9760\n",
            "Epoch 60/100\n",
            "375/375 [==============================] - 0s 367us/step - loss: 0.0144 - acc: 0.9840 - val_loss: 0.0176 - val_acc: 0.9680\n",
            "Epoch 61/100\n",
            "375/375 [==============================] - 0s 385us/step - loss: 0.0140 - acc: 0.9840 - val_loss: 0.0181 - val_acc: 0.9760\n",
            "Epoch 62/100\n",
            "375/375 [==============================] - 0s 370us/step - loss: 0.0140 - acc: 0.9760 - val_loss: 0.0174 - val_acc: 0.9760\n",
            "Epoch 63/100\n",
            "375/375 [==============================] - 0s 388us/step - loss: 0.0141 - acc: 0.9787 - val_loss: 0.0171 - val_acc: 0.9680\n",
            "Epoch 64/100\n",
            "375/375 [==============================] - 0s 359us/step - loss: 0.0136 - acc: 0.9787 - val_loss: 0.0176 - val_acc: 0.9760\n",
            "Epoch 65/100\n",
            "375/375 [==============================] - 0s 411us/step - loss: 0.0137 - acc: 0.9813 - val_loss: 0.0168 - val_acc: 0.9680\n",
            "Epoch 66/100\n",
            "375/375 [==============================] - 0s 398us/step - loss: 0.0133 - acc: 0.9813 - val_loss: 0.0167 - val_acc: 0.9680\n",
            "Epoch 67/100\n",
            "375/375 [==============================] - 0s 396us/step - loss: 0.0133 - acc: 0.9867 - val_loss: 0.0164 - val_acc: 0.9680\n",
            "Epoch 68/100\n",
            "375/375 [==============================] - 0s 365us/step - loss: 0.0132 - acc: 0.9787 - val_loss: 0.0164 - val_acc: 0.9680\n",
            "Epoch 69/100\n",
            "375/375 [==============================] - 0s 376us/step - loss: 0.0130 - acc: 0.9840 - val_loss: 0.0167 - val_acc: 0.9840\n",
            "Epoch 70/100\n",
            "375/375 [==============================] - 0s 388us/step - loss: 0.0128 - acc: 0.9813 - val_loss: 0.0164 - val_acc: 0.9840\n",
            "Epoch 71/100\n",
            "375/375 [==============================] - 0s 410us/step - loss: 0.0128 - acc: 0.9840 - val_loss: 0.0163 - val_acc: 0.9840\n",
            "Epoch 72/100\n",
            "375/375 [==============================] - 0s 410us/step - loss: 0.0127 - acc: 0.9840 - val_loss: 0.0159 - val_acc: 0.9760\n",
            "Epoch 73/100\n",
            "375/375 [==============================] - 0s 388us/step - loss: 0.0126 - acc: 0.9840 - val_loss: 0.0161 - val_acc: 0.9840\n",
            "Epoch 74/100\n",
            "375/375 [==============================] - 0s 402us/step - loss: 0.0125 - acc: 0.9813 - val_loss: 0.0158 - val_acc: 0.9760\n",
            "Epoch 75/100\n",
            "375/375 [==============================] - 0s 437us/step - loss: 0.0123 - acc: 0.9893 - val_loss: 0.0161 - val_acc: 0.9840\n",
            "Epoch 76/100\n",
            "375/375 [==============================] - 0s 388us/step - loss: 0.0123 - acc: 0.9840 - val_loss: 0.0156 - val_acc: 0.9840\n",
            "Epoch 77/100\n",
            "375/375 [==============================] - 0s 394us/step - loss: 0.0122 - acc: 0.9893 - val_loss: 0.0160 - val_acc: 0.9840\n",
            "Epoch 78/100\n",
            "375/375 [==============================] - 0s 382us/step - loss: 0.0121 - acc: 0.9813 - val_loss: 0.0161 - val_acc: 0.9840\n",
            "Epoch 79/100\n",
            "375/375 [==============================] - 0s 424us/step - loss: 0.0118 - acc: 0.9813 - val_loss: 0.0154 - val_acc: 0.9840\n",
            "Epoch 80/100\n",
            "375/375 [==============================] - 0s 373us/step - loss: 0.0117 - acc: 0.9840 - val_loss: 0.0152 - val_acc: 0.9840\n",
            "Epoch 81/100\n",
            "375/375 [==============================] - 0s 370us/step - loss: 0.0118 - acc: 0.9813 - val_loss: 0.0153 - val_acc: 0.9840\n",
            "Epoch 82/100\n",
            "375/375 [==============================] - 0s 375us/step - loss: 0.0115 - acc: 0.9840 - val_loss: 0.0155 - val_acc: 0.9840\n",
            "Epoch 83/100\n",
            "375/375 [==============================] - 0s 372us/step - loss: 0.0114 - acc: 0.9893 - val_loss: 0.0150 - val_acc: 0.9840\n",
            "Epoch 84/100\n",
            "375/375 [==============================] - 0s 386us/step - loss: 0.0114 - acc: 0.9840 - val_loss: 0.0149 - val_acc: 0.9840\n",
            "Epoch 85/100\n",
            "375/375 [==============================] - 0s 382us/step - loss: 0.0112 - acc: 0.9920 - val_loss: 0.0150 - val_acc: 0.9840\n",
            "Epoch 86/100\n",
            "375/375 [==============================] - 0s 379us/step - loss: 0.0114 - acc: 0.9840 - val_loss: 0.0148 - val_acc: 0.9840\n",
            "Epoch 87/100\n",
            "375/375 [==============================] - 0s 362us/step - loss: 0.0111 - acc: 0.9813 - val_loss: 0.0150 - val_acc: 0.9840\n",
            "Epoch 88/100\n",
            "375/375 [==============================] - 0s 351us/step - loss: 0.0110 - acc: 0.9893 - val_loss: 0.0146 - val_acc: 0.9840\n",
            "Epoch 89/100\n",
            "375/375 [==============================] - 0s 377us/step - loss: 0.0112 - acc: 0.9840 - val_loss: 0.0148 - val_acc: 0.9840\n",
            "Epoch 90/100\n",
            "375/375 [==============================] - 0s 370us/step - loss: 0.0109 - acc: 0.9920 - val_loss: 0.0145 - val_acc: 0.9840\n",
            "Epoch 91/100\n",
            "375/375 [==============================] - 0s 332us/step - loss: 0.0106 - acc: 0.9893 - val_loss: 0.0146 - val_acc: 0.9840\n",
            "Epoch 92/100\n",
            "375/375 [==============================] - 0s 383us/step - loss: 0.0106 - acc: 0.9867 - val_loss: 0.0144 - val_acc: 0.9840\n",
            "Epoch 93/100\n",
            "375/375 [==============================] - 0s 373us/step - loss: 0.0107 - acc: 0.9893 - val_loss: 0.0143 - val_acc: 0.9840\n",
            "Epoch 94/100\n",
            "375/375 [==============================] - 0s 372us/step - loss: 0.0107 - acc: 0.9867 - val_loss: 0.0142 - val_acc: 0.9840\n",
            "Epoch 95/100\n",
            "375/375 [==============================] - 0s 365us/step - loss: 0.0103 - acc: 0.9867 - val_loss: 0.0142 - val_acc: 0.9760\n",
            "Epoch 96/100\n",
            "375/375 [==============================] - 0s 362us/step - loss: 0.0105 - acc: 0.9893 - val_loss: 0.0145 - val_acc: 0.9840\n",
            "Epoch 97/100\n",
            "375/375 [==============================] - 0s 366us/step - loss: 0.0104 - acc: 0.9867 - val_loss: 0.0146 - val_acc: 0.9840\n",
            "Epoch 98/100\n",
            "375/375 [==============================] - 0s 376us/step - loss: 0.0102 - acc: 0.9893 - val_loss: 0.0140 - val_acc: 0.9840\n",
            "Epoch 99/100\n",
            "375/375 [==============================] - 0s 377us/step - loss: 0.0102 - acc: 0.9840 - val_loss: 0.0143 - val_acc: 0.9760\n",
            "Epoch 100/100\n",
            "375/375 [==============================] - 0s 403us/step - loss: 0.0102 - acc: 0.9840 - val_loss: 0.0136 - val_acc: 0.9840\n",
            "125/125 [==============================] - 0s 61us/step\n",
            "Accuracy: 98.4000%\n"
          ],
          "name": "stdout"
        }
      ]
    },
    {
      "cell_type": "code",
      "metadata": {
        "id": "0J5PIviSsvi_",
        "colab_type": "code",
        "outputId": "02e0ff8b-27d6-4584-dbcc-bc1bbdf05e91",
        "colab": {
          "base_uri": "https://localhost:8080/",
          "height": 1000
        }
      },
      "source": [
        "data_test"
      ],
      "execution_count": 0,
      "outputs": [
        {
          "output_type": "execute_result",
          "data": {
            "text/plain": [
              "array([[1.49288854, 0.17250872],\n",
              "       [2.69065044, 1.62604043],\n",
              "       [0.15326984, 1.8479258 ],\n",
              "       [1.35409782, 0.62593123],\n",
              "       [2.50652532, 1.46974002],\n",
              "       [1.52023066, 2.96422449],\n",
              "       [2.17457043, 0.27252823],\n",
              "       [1.8352099 , 0.64888001],\n",
              "       [0.6396357 , 2.56876287],\n",
              "       [1.1092655 , 0.82003693],\n",
              "       [1.02753067, 1.99944802],\n",
              "       [1.60440323, 2.99216231],\n",
              "       [0.82819758, 2.17756826],\n",
              "       [0.40719504, 1.57092922],\n",
              "       [0.56382739, 0.12053702],\n",
              "       [0.32147793, 2.86429083],\n",
              "       [2.79837419, 1.84605523],\n",
              "       [2.72313421, 2.49924733],\n",
              "       [2.04017368, 2.38363522],\n",
              "       [0.78023927, 0.05359878],\n",
              "       [0.85497667, 0.53853327],\n",
              "       [2.72507644, 0.40359119],\n",
              "       [2.52278397, 0.43019158],\n",
              "       [2.35940572, 0.31703104],\n",
              "       [0.91637089, 2.90650983],\n",
              "       [2.41751415, 2.23075817],\n",
              "       [2.29921514, 0.98089475],\n",
              "       [0.98022204, 2.86464875],\n",
              "       [2.19833232, 1.79981806],\n",
              "       [1.02610449, 0.58868995],\n",
              "       [2.26986371, 2.29150299],\n",
              "       [2.99204761, 1.99662891],\n",
              "       [2.71647316, 2.44109317],\n",
              "       [0.36093006, 1.93345222],\n",
              "       [2.73185529, 0.74097271],\n",
              "       [0.88855842, 1.27977379],\n",
              "       [2.27800196, 0.09055264],\n",
              "       [1.88023146, 1.44033287],\n",
              "       [0.85269489, 2.23174327],\n",
              "       [2.87431702, 1.4575535 ],\n",
              "       [0.53201666, 0.95378482],\n",
              "       [1.06711939, 0.08280077],\n",
              "       [2.43011768, 1.16569573],\n",
              "       [1.73124782, 1.05986623],\n",
              "       [1.5728118 , 1.27142986],\n",
              "       [1.64859881, 1.38807581],\n",
              "       [1.66947275, 2.89438723],\n",
              "       [2.17470248, 0.97231991],\n",
              "       [2.05326317, 1.45459678],\n",
              "       [0.02918817, 0.81973208],\n",
              "       [0.87250086, 0.11105338],\n",
              "       [2.31694288, 2.30877426],\n",
              "       [1.65620625, 0.49397927],\n",
              "       [2.58042282, 0.3339725 ],\n",
              "       [0.59519096, 2.26066647],\n",
              "       [1.23964508, 1.71118194],\n",
              "       [2.18296056, 1.36917667],\n",
              "       [1.15643239, 2.47327751],\n",
              "       [2.60445419, 1.937789  ],\n",
              "       [0.15929387, 0.48544083],\n",
              "       [0.43241257, 1.79378666],\n",
              "       [1.37295615, 2.08520764],\n",
              "       [1.56309694, 0.50672904],\n",
              "       [1.4544336 , 0.92600338],\n",
              "       [1.9580986 , 2.86310052],\n",
              "       [2.31559736, 2.40118884],\n",
              "       [1.40202105, 2.40542824],\n",
              "       [2.31128406, 1.69010597],\n",
              "       [1.7655512 , 0.94825625],\n",
              "       [0.91236246, 2.67509015],\n",
              "       [0.96010502, 0.54405825],\n",
              "       [0.77519644, 0.98725738],\n",
              "       [0.73575316, 2.38239905],\n",
              "       [1.62148158, 0.93535926],\n",
              "       [0.61947966, 0.46743794],\n",
              "       [2.28397826, 1.04921159],\n",
              "       [0.66518382, 0.59809376],\n",
              "       [2.17496354, 1.4115343 ],\n",
              "       [1.02187655, 2.79037274],\n",
              "       [1.21842247, 1.49604873],\n",
              "       [2.45337472, 1.94759356],\n",
              "       [0.16300234, 1.71146208],\n",
              "       [0.98671575, 0.63311507],\n",
              "       [2.09052044, 2.75301361],\n",
              "       [0.46470904, 2.90703241],\n",
              "       [1.31417209, 1.80551791],\n",
              "       [1.30292372, 1.86989686],\n",
              "       [0.01552085, 1.19404113],\n",
              "       [1.06900835, 0.67704843],\n",
              "       [2.55639539, 1.56628015],\n",
              "       [1.82194926, 1.13233065],\n",
              "       [1.65461336, 2.83941776],\n",
              "       [1.52554738, 1.12610231],\n",
              "       [2.21257681, 0.79712291],\n",
              "       [2.58188057, 1.93343957],\n",
              "       [0.37013276, 1.39230536],\n",
              "       [1.80859021, 1.68119643],\n",
              "       [0.43062909, 1.50225395],\n",
              "       [1.36784061, 1.52469375],\n",
              "       [0.44762955, 1.87439564],\n",
              "       [2.91244496, 2.36749906],\n",
              "       [2.70077365, 2.4176737 ],\n",
              "       [1.53730314, 1.32722383],\n",
              "       [1.70412153, 1.48899503],\n",
              "       [0.88736166, 2.01469215],\n",
              "       [0.51942071, 1.97427724],\n",
              "       [0.1548674 , 2.24699866],\n",
              "       [0.48946557, 2.65970545],\n",
              "       [0.69484795, 2.58141711],\n",
              "       [0.72443408, 0.30355645],\n",
              "       [2.80500727, 1.83522327],\n",
              "       [0.0833733 , 1.54155219],\n",
              "       [0.80351235, 0.15159843],\n",
              "       [1.32357337, 0.6713378 ],\n",
              "       [2.61000158, 0.7164906 ],\n",
              "       [0.02579169, 0.0594247 ],\n",
              "       [2.2361246 , 0.7710617 ],\n",
              "       [0.19964016, 2.22165635],\n",
              "       [2.16361541, 1.58298265],\n",
              "       [0.06697005, 2.95176479],\n",
              "       [1.52118483, 0.71476705],\n",
              "       [2.18640695, 2.14938756],\n",
              "       [2.60278761, 2.23032405],\n",
              "       [0.55339355, 0.12947558],\n",
              "       [1.11122709, 1.48914644]])"
            ]
          },
          "metadata": {
            "tags": []
          },
          "execution_count": 86
        }
      ]
    },
    {
      "cell_type": "markdown",
      "metadata": {
        "id": "EqkiZ6eq40Sd",
        "colab_type": "text"
      },
      "source": [
        "## Model performance"
      ]
    },
    {
      "cell_type": "markdown",
      "metadata": {
        "id": "I6_y_C4CRNLw",
        "colab_type": "text"
      },
      "source": [
        "### Model Performance Plots"
      ]
    },
    {
      "cell_type": "code",
      "metadata": {
        "id": "5E8RuHsSPPe0",
        "colab_type": "code",
        "outputId": "492df05e-8f00-46c8-aef4-34577bcc94a2",
        "colab": {
          "base_uri": "https://localhost:8080/",
          "height": 573
        }
      },
      "source": [
        "#Plot accuracy vs epoch\n",
        "plt.plot(supervisorApprox_metaData.history['acc'], label = 'train')\n",
        "plt.plot(supervisorApprox_metaData.history['val_acc'], label = 'test')\n",
        "plt.title('Supervisor Approximator Accuracy v/s Epoch')\n",
        "plt.xlabel('# Epoch')\n",
        "plt.ylabel('Accuracy')\n",
        "plt.legend(loc = 'lower right')\n",
        "# plt.ylim(0, 1.1)\n",
        "plt.show()\n",
        "\n",
        "#Plot loss vs epoch\n",
        "plt.plot(supervisorApprox_metaData.history['loss'], label = 'train')\n",
        "plt.plot(supervisorApprox_metaData.history['val_loss'], label = 'test')\n",
        "plt.title('Supervisor Approximator Loss v/s Epoch')\n",
        "plt.xlabel('# Epoch')\n",
        "plt.ylabel('Loss')\n",
        "plt.legend(loc = 'upper right')\n",
        "# plt.ylim(0,0.5)\n",
        "plt.show()"
      ],
      "execution_count": 0,
      "outputs": [
        {
          "output_type": "display_data",
          "data": {
            "image/png": "[encoded data removed]",
            "text/plain": [
              "<Figure size 432x288 with 1 Axes>"
            ]
          },
          "metadata": {
            "tags": []
          }
        },
        {
          "output_type": "display_data",
          "data": {
            "image/png": "[encoded data removed]",
            "text/plain": [
              "<Figure size 432x288 with 1 Axes>"
            ]
          },
          "metadata": {
            "tags": []
          }
        }
      ]
    },
    {
      "cell_type": "markdown",
      "metadata": {
        "id": "84HHYWdg473A",
        "colab_type": "text"
      },
      "source": [
        "### Visualizing Decision Boundary "
      ]
    },
    {
      "cell_type": "code",
      "metadata": {
        "id": "8PiR_4p844dO",
        "colab_type": "code",
        "outputId": "e7ec808f-6ac3-4b59-9bb1-f131af7756f4",
        "colab": {
          "base_uri": "https://localhost:8080/",
          "height": 283
        }
      },
      "source": [
        "def plotModelOut(x,y,nClasses,model):\n",
        "  grid = np.stack((x,y))\n",
        "  grid = grid.T.reshape(-1,2)\n",
        "  outs = model.predict(grid)\n",
        "  y1 = outs.T[0].reshape(x.shape[0],x.shape[0])\n",
        "  plt.contourf(x,y,y1, levels = 100) \n",
        "  # Subtracting 1, because levels = n draws n+1 contour lines\n",
        "  plt.show()\n",
        "  \n",
        "def plotModelScatter(x,y,nClasses,model, r1, r2, filename, saveTag):\n",
        "  # Scattering query data\n",
        "  grid = np.stack((x,y))\n",
        "  grid = grid.T.reshape(-1,2)\n",
        "  labels = model.predict_classes(grid)\n",
        "  t = np.arange(nClasses)\n",
        "  n = x.shape[0]\n",
        "  plt.scatter(x,y,s = 4, c = labels.reshape((n,n)) )\n",
        "  plt.axis('scaled')\n",
        "  axes = plt.gca()\n",
        "  xx = axes.get_xlim()\n",
        "  lines = [[(r1,0), (r1, r1)], [(r1, r1), (r2, r2)], [(r2, r2), (3, r2)],\n",
        "           [(0, r1), (r1, r1)], [(r2, r2), (r2, 3)]]\n",
        "  lc = mc.LineCollection(lines, colors = 'r',linewidths=1.0)\n",
        "  axes.add_collection(lc)\n",
        "  plt.xlabel(r\"relative position, $x_2-x_3$\")\n",
        "  plt.ylabel(r\"relative position, $x_1-x_3$\")\n",
        "  if saveTag:\n",
        "    plt.savefig(filename)\n",
        "    files.download(filename)\n",
        "  plt.show()\n",
        "\n",
        "xr = np.linspace(Low,High,100)\n",
        "x,y = np.meshgrid(xr,xr)\n",
        "# plotModelOut(x,y,nModes,supervisorApprox)\n",
        "x_, y_ = np.meshgrid(data_test[:,0], data_test[:,1])\n",
        "plotModelScatter(x,y,nModes,supervisorApprox, ROBOTS.r[0], ROBOTS.r[1], \"decisionBoundary.eps\", False)"
      ],
      "execution_count": 0,
      "outputs": [
        {
          "output_type": "display_data",
          "data": {
            "image/png": "[encoded data removed]",
            "text/plain": [
              "<Figure size 432x288 with 1 Axes>"
            ]
          },
          "metadata": {
            "tags": []
          }
        }
      ]
    },
    {
      "cell_type": "code",
      "metadata": {
        "id": "oNRaJQ0pAe5C",
        "colab_type": "code",
        "colab": {}
      },
      "source": [
        ""
      ],
      "execution_count": 0,
      "outputs": []
    },
    {
      "cell_type": "markdown",
      "metadata": {
        "id": "mkAkptOJRRY7",
        "colab_type": "text"
      },
      "source": [
        "# Performing Attacks"
      ]
    },
    {
      "cell_type": "markdown",
      "metadata": {
        "id": "licccEVbogxi",
        "colab_type": "text"
      },
      "source": [
        "## Gradient Calculation for Statistical model of Supervisory logic"
      ]
    },
    {
      "cell_type": "code",
      "metadata": {
        "id": "3-RHDWbTRRjz",
        "colab_type": "code",
        "outputId": "3055ca32-01c7-4f2e-aa87-67e7908cb744",
        "colab": {
          "base_uri": "https://localhost:8080/",
          "height": 72
        }
      },
      "source": [
        "listOfVariableTensors = supervisorApprox.inputs\n",
        "outputTensor = supervisorApprox.output\n",
        "gradients = K.gradients(outputTensor, listOfVariableTensors)\n",
        "trainingExample = np.random.random((1,8))\n",
        "sess = tf.InteractiveSession()\n",
        "sess.run(tf.initialize_all_variables())\n",
        "def evalGrad(xIn):\n",
        "  G = evaluated_gradients = sess.run(gradients,\n",
        "                                     feed_dict={supervisorApprox.input:xCurr})\n",
        "\n",
        "  return G"
      ],
      "execution_count": 0,
      "outputs": [
        {
          "output_type": "stream",
          "text": [
            "/usr/local/lib/python3.6/dist-packages/tensorflow_core/python/client/session.py:1750: UserWarning: An interactive session is already active. This can cause out-of-memory errors in some cases. You must explicitly call `InteractiveSession.close()` to release resources held by the other session(s).\n",
            "  warnings.warn('An interactive session is already active. This can '\n"
          ],
          "name": "stderr"
        }
      ]
    },
    {
      "cell_type": "markdown",
      "metadata": {
        "id": "6kXjiJ5j04w3",
        "colab_type": "text"
      },
      "source": [
        "## Attacking some point ***x***\n",
        "This is based on infinity norm attack, given by [ECE 559, Spring 2019 Lecture notes excerpts.](https://i.imgur.com/nycltSw.jpg)\n",
        "\n",
        "See [this paper](https://arxiv.org/pdf/1602.02697.pdf) for further details."
      ]
    },
    {
      "cell_type": "code",
      "metadata": {
        "id": "xetW5MjJ1AHC",
        "colab_type": "code",
        "colab": {}
      },
      "source": [
        "def attacker(grads, xCurrent, pertMax, normCase):\n",
        "# Inputs: \n",
        "# grads: gradient of trained model\n",
        "# xCurrent: current point to be perturbed\n",
        "# pertMax: maximum allowable perturbation, or maximum attack strength\n",
        "    gradientCurrent = evalGrad(xCurrent)\n",
        "    # print(\"Gradient = \",gradientCurrent, \" Position = \",xCurrent)\n",
        "    if normCase == 1:\n",
        "      # For infinity norm attack\n",
        "      xPert = pertMax * (np.sign(gradientCurrent))\n",
        "    elif normCase == 2:\n",
        "      # For L2 norm attack\n",
        "      normG = np.linalg.norm(gradientCurrent)\n",
        "      if normG != 0:\n",
        "        xPert = pertMax * (gradientCurrent/normG)   \n",
        "      else:\n",
        "        xPert = gradientCurrent # Setting xPert = 0\n",
        "    return xPert"
      ],
      "execution_count": 0,
      "outputs": []
    },
    {
      "cell_type": "markdown",
      "metadata": {
        "id": "MWhNjIUn2w0f",
        "colab_type": "text"
      },
      "source": [
        "## Validating Attacker"
      ]
    },
    {
      "cell_type": "code",
      "metadata": {
        "id": "dggsdXsK20P6",
        "colab_type": "code",
        "colab": {}
      },
      "source": [
        "# Initial parameters for running plant \n",
        "r = np.array([0.75, 1.2, 2])\n",
        "_ROBOTS = PLANT(r)\n",
        "tSim = 30\n",
        "_SUPER = supervisor()\n",
        "# deltaMax = 0.35 results in final formation being distorted\n",
        "# deltaMax = 0.375 results in the final formation being off by a LOT!\n",
        "deltaMax = 0.375\n",
        "_tHISTORY = np.zeros((int(tSim/ROBOTS.dt)+1,1))\n",
        "_xHISTORY = np.zeros((tHISTORY.size,3))\n",
        "_yHISTORY = np.zeros_like(xHISTORY)\n",
        "_thetaHISTORY = np.zeros_like(xHISTORY)\n",
        "_modeHISTORY = np.zeros_like(tHISTORY)\n",
        "attVector = np.empty_like([_ROBOTS.l[0][2], _ROBOTS.l[1][2]]).reshape(1,2)\n",
        "for t in range(_tHISTORY.size):\n",
        "# Looping across time\n",
        "  for i in range(3):\n",
        "    # Looping over robots\n",
        "    if i == 2:\n",
        "      # Attack on 3rd Robot\n",
        "      xCurr = np.array([_ROBOTS.l[0][i], _ROBOTS.l[1][i]]).reshape(1,2)\n",
        "      attVector = np.array(attacker(gradients, xCurr, deltaMax, 2))\n",
        "      _ROBOTS.l[0][i] += attVector[0,0,0]\n",
        "      _ROBOTS.l[1][i] += attVector[0,0,1]\n",
        "      # print(np.linalg.norm(attVector))\n",
        "    _xHISTORY[t][i] = _ROBOTS.x[i]\n",
        "    _yHISTORY[t][i] = _ROBOTS.y[i]\n",
        "    _thetaHISTORY[t][i] = _ROBOTS.theta[i]\n",
        "    _modeHISTORY[t] = _ROBOTS.modes[2]\n",
        "    _tHISTORY[t] = _ROBOTS.t\n",
        "    _ROBOTS.propagate(SUPER,i)\n",
        "  _ROBOTS.t += _ROBOTS.dt"
      ],
      "execution_count": 0,
      "outputs": []
    },
    {
      "cell_type": "code",
      "metadata": {
        "id": "JlX2pIaGnC0e",
        "colab_type": "code",
        "outputId": "bf55fbcf-5267-4909-f853-47675d556d97",
        "colab": {
          "base_uri": "https://localhost:8080/",
          "height": 543
        }
      },
      "source": [
        "# Plotting results\n",
        "modePlotter(_modeHISTORY, \"mode2.eps\")\n",
        "\n",
        "trajectoryPlotter(_xHISTORY, _yHISTORY, \"traj2.eps\")\n"
      ],
      "execution_count": 0,
      "outputs": [
        {
          "output_type": "display_data",
          "data": {
            "image/png": "[encoded data removed]",
            "text/plain": [
              "<Figure size 432x288 with 1 Axes>"
            ]
          },
          "metadata": {
            "tags": []
          }
        },
        {
          "output_type": "display_data",
          "data": {
            "image/png": "[encoded data removed]",
            "text/plain": [
              "<Figure size 432x288 with 1 Axes>"
            ]
          },
          "metadata": {
            "tags": []
          }
        }
      ]
    },
    {
      "cell_type": "code",
      "metadata": {
        "id": "LI152LtBTKbO",
        "colab_type": "code",
        "outputId": "196af281-b01e-4354-d17e-218b1e493759",
        "colab": {
          "base_uri": "https://localhost:8080/",
          "height": 633
        }
      },
      "source": [
        "# comparing modes\n",
        "plt.figure(figsize = (10,7))\n",
        "plt.step(tHISTORY, modeHISTORY, \n",
        "         'k:', alpha = 0.9, label='unaltered',\n",
        "         linestyle = '--')\n",
        "plt.step(tHISTORY, _modeHISTORY,\n",
        "         'r:', alpha = 0.85,label='after attack',\n",
        "         linestyle = ':')\n",
        "plt.legend(title='Controller history',loc='lower right', fontsize=16)\n",
        "plt.yticks([1,2,3,4])\n",
        "ylabels = ['$\\sigma_k=1$\\n$(SB_{13}C)$','$\\sigma_k=2$\\n$(SB_{23}C)$',\n",
        "           '$\\sigma_k=3$\\n$(S_{13}S_{23}C)$','$\\sigma_k=4$\\n (Autonomous)']\n",
        "ax = plt.gca()\n",
        "ax.set_yticklabels(ylabels, fontsize=16)\n",
        "# ax.set_facecolor('w')\n",
        "# ax.set_visible(True)\n",
        "plt.tight_layout()\n",
        "plt.xlabel(\"time\")\n",
        "plt.savefig(\"modes.eps\")\n",
        "files.download(\"modes.eps\")\n",
        "plt.show()\n"
      ],
      "execution_count": 0,
      "outputs": [
        {
          "output_type": "stream",
          "text": [
            "The PostScript backend does not support transparency; partially transparent artists will be rendered opaque.\n",
            "The PostScript backend does not support transparency; partially transparent artists will be rendered opaque.\n",
            "The PostScript backend does not support transparency; partially transparent artists will be rendered opaque.\n",
            "The PostScript backend does not support transparency; partially transparent artists will be rendered opaque.\n",
            "The PostScript backend does not support transparency; partially transparent artists will be rendered opaque.\n",
            "The PostScript backend does not support transparency; partially transparent artists will be rendered opaque.\n"
          ],
          "name": "stderr"
        },
        {
          "output_type": "display_data",
          "data": {
            "image/png": "[encoded data removed]",
            "text/plain": [
              "<Figure size 720x504 with 1 Axes>"
            ]
          },
          "metadata": {
            "tags": []
          }
        }
      ]
    },
    {
      "cell_type": "markdown",
      "metadata": {
        "id": "Cl2IixL8dJXE",
        "colab_type": "text"
      },
      "source": [
        "## Confusion matrix of NN"
      ]
    },
    {
      "cell_type": "code",
      "metadata": {
        "id": "XF16hLOUdOWw",
        "colab_type": "code",
        "colab": {}
      },
      "source": [
        "from sklearn.metrics import confusion_matrix\n",
        "from sklearn.preprocessing import normalize\n",
        "import seaborn as sn\n",
        "import pandas as pd"
      ],
      "execution_count": 0,
      "outputs": []
    },
    {
      "cell_type": "code",
      "metadata": {
        "id": "AeOcVHG0Y8sL",
        "colab_type": "code",
        "outputId": "956af339-9de4-4dc8-ca77-a4aaa87e092e",
        "colab": {
          "base_uri": "https://localhost:8080/",
          "height": 354
        }
      },
      "source": [
        "y_true = labels\n",
        "y_pred = supervisorApprox.predict_classes(data)\n",
        "nClasses = 4\n",
        "with tf.Session() as sess:\n",
        "  confusion_matrix = tf.confusion_matrix(labels=y_true,\n",
        "                                         predictions=y_pred, \n",
        "                                         num_classes=nClasses)\n",
        "  confusion_matrix_to_Print = sess.run(confusion_matrix)\n",
        "  normalized_confusion = normalize(confusion_matrix_to_Print, \n",
        "                                   axis=1, norm='l1')\n",
        "  print(confusion_matrix_to_Print)\n",
        "\n",
        "   \n",
        "df_cm = pd.DataFrame(normalized_confusion, \n",
        "                     range(nClasses),range(nClasses))\n",
        "#plt.figure(figsize = (10,7))\n",
        "sn.set(font_scale=1.5) #for label size\n",
        "sn.heatmap(df_cm, cmap =  sn.cm.rocket_r, \n",
        "           annot=True,\n",
        "           annot_kws={\"size\": 16}) # font size\n",
        "plt.savefig(\"confusion.eps\")\n",
        "files.download(\"confusion.eps\")"
      ],
      "execution_count": 0,
      "outputs": [
        {
          "output_type": "stream",
          "text": [
            "[[  0 148   0   0]\n",
            " [  0 142   0   0]\n",
            " [  0  33   0   0]\n",
            " [  0 177   0   0]]\n"
          ],
          "name": "stdout"
        },
        {
          "output_type": "display_data",
          "data": {
            "image/png": "[encoded data removed]",
            "text/plain": [
              "<Figure size 432x288 with 2 Axes>"
            ]
          },
          "metadata": {
            "tags": []
          }
        }
      ]
    },
    {
      "cell_type": "markdown",
      "metadata": {
        "id": "UXj-Y3tcFX4k",
        "colab_type": "text"
      },
      "source": [
        "## ROC Analysis\n",
        "\n",
        "See this link for source:\n",
        "[https://www.dlology.com/blog/simple-guide-on-how-to-generate-roc-plot-for-keras-classifier/](https://www.dlology.com/blog/simple-guide-on-how-to-generate-roc-plot-for-keras-classifier/)"
      ]
    },
    {
      "cell_type": "code",
      "metadata": {
        "id": "mwG97Do7FV-y",
        "colab_type": "code",
        "colab": {}
      },
      "source": [
        "from itertools import cycle\n",
        "from sklearn import svm, datasets\n",
        "from sklearn.metrics import roc_curve, auc\n",
        "from sklearn.model_selection import train_test_split\n",
        "from sklearn.preprocessing import label_binarize\n",
        "from sklearn.multiclass import OneVsRestClassifier\n",
        "from scipy import interp"
      ],
      "execution_count": 0,
      "outputs": []
    },
    {
      "cell_type": "code",
      "metadata": {
        "id": "tFTTwfyiFXGh",
        "colab_type": "code",
        "outputId": "fbfffee2-7b40-4df5-f60f-e6524cb4ef54",
        "colab": {
          "base_uri": "https://localhost:8080/",
          "height": 1000
        }
      },
      "source": [
        "supervisorApprox = NN_arch()\n",
        "supervisorApprox.build((None, nDim))\n",
        "print(supervisorApprox.summary())\n",
        "nClasses = 4\n",
        "supervisorApprox.compile(loss=\"mean_squared_error\", \n",
        "                    optimizer = \"adam\", \n",
        "                    metrics = ['accuracy'])\n",
        "supervisorApprox_metaData = supervisorApprox.fit(\n",
        "                data_train, labels_train, \n",
        "                validation_data = (data_test, labels_test), \n",
        "                epochs = 100, \n",
        "                batch_size = 5, \n",
        "                shuffle = True)\n",
        "#Print accuracy of model on testing set after training \n",
        "scores = supervisorApprox.evaluate(data_test, labels_test)\n",
        "print(\"Accuracy: %0.4f%%\" %(scores[1]*100) )"
      ],
      "execution_count": 0,
      "outputs": [
        {
          "output_type": "stream",
          "text": [
            "Model: \"sequential_2\"\n",
            "_________________________________________________________________\n",
            "Layer (type)                 Output Shape              Param #   \n",
            "=================================================================\n",
            "dense_4 (Dense)              (None, 2)                 6         \n",
            "_________________________________________________________________\n",
            "dense_5 (Dense)              (None, 8)                 24        \n",
            "_________________________________________________________________\n",
            "dense_6 (Dense)              (None, 4)                 36        \n",
            "=================================================================\n",
            "Total params: 66\n",
            "Trainable params: 66\n",
            "Non-trainable params: 0\n",
            "_________________________________________________________________\n",
            "None\n",
            "Train on 375 samples, validate on 125 samples\n",
            "Epoch 1/100\n",
            "375/375 [==============================] - 0s 584us/step - loss: 0.2012 - acc: 0.3520 - val_loss: 0.1913 - val_acc: 0.4960\n",
            "Epoch 2/100\n",
            "375/375 [==============================] - 0s 256us/step - loss: 0.1783 - acc: 0.5520 - val_loss: 0.1730 - val_acc: 0.4880\n",
            "Epoch 3/100\n",
            "375/375 [==============================] - 0s 265us/step - loss: 0.1616 - acc: 0.5813 - val_loss: 0.1558 - val_acc: 0.7040\n",
            "Epoch 4/100\n",
            "375/375 [==============================] - 0s 282us/step - loss: 0.1434 - acc: 0.7547 - val_loss: 0.1378 - val_acc: 0.7520\n",
            "Epoch 5/100\n",
            "375/375 [==============================] - 0s 263us/step - loss: 0.1259 - acc: 0.8000 - val_loss: 0.1226 - val_acc: 0.8000\n",
            "Epoch 6/100\n",
            "375/375 [==============================] - 0s 248us/step - loss: 0.1106 - acc: 0.8240 - val_loss: 0.1095 - val_acc: 0.7920\n",
            "Epoch 7/100\n",
            "375/375 [==============================] - 0s 263us/step - loss: 0.0980 - acc: 0.8107 - val_loss: 0.0992 - val_acc: 0.8000\n",
            "Epoch 8/100\n",
            "375/375 [==============================] - 0s 262us/step - loss: 0.0880 - acc: 0.8080 - val_loss: 0.0921 - val_acc: 0.7840\n",
            "Epoch 9/100\n",
            "375/375 [==============================] - 0s 263us/step - loss: 0.0809 - acc: 0.8293 - val_loss: 0.0852 - val_acc: 0.8000\n",
            "Epoch 10/100\n",
            "375/375 [==============================] - 0s 289us/step - loss: 0.0749 - acc: 0.8400 - val_loss: 0.0805 - val_acc: 0.8080\n",
            "Epoch 11/100\n",
            "375/375 [==============================] - 0s 267us/step - loss: 0.0705 - acc: 0.8320 - val_loss: 0.0765 - val_acc: 0.8080\n",
            "Epoch 12/100\n",
            "375/375 [==============================] - 0s 258us/step - loss: 0.0674 - acc: 0.8320 - val_loss: 0.0742 - val_acc: 0.8080\n",
            "Epoch 13/100\n",
            "375/375 [==============================] - 0s 274us/step - loss: 0.0647 - acc: 0.8293 - val_loss: 0.0726 - val_acc: 0.7840\n",
            "Epoch 14/100\n",
            "375/375 [==============================] - 0s 275us/step - loss: 0.0622 - acc: 0.8427 - val_loss: 0.0692 - val_acc: 0.8080\n",
            "Epoch 15/100\n",
            "375/375 [==============================] - 0s 277us/step - loss: 0.0602 - acc: 0.8400 - val_loss: 0.0674 - val_acc: 0.8080\n",
            "Epoch 16/100\n",
            "375/375 [==============================] - 0s 259us/step - loss: 0.0584 - acc: 0.8480 - val_loss: 0.0661 - val_acc: 0.8160\n",
            "Epoch 17/100\n",
            "375/375 [==============================] - 0s 276us/step - loss: 0.0566 - acc: 0.8533 - val_loss: 0.0645 - val_acc: 0.8240\n",
            "Epoch 18/100\n",
            "375/375 [==============================] - 0s 261us/step - loss: 0.0550 - acc: 0.8533 - val_loss: 0.0644 - val_acc: 0.8000\n",
            "Epoch 19/100\n",
            "375/375 [==============================] - 0s 277us/step - loss: 0.0542 - acc: 0.8480 - val_loss: 0.0628 - val_acc: 0.8160\n",
            "Epoch 20/100\n",
            "375/375 [==============================] - 0s 276us/step - loss: 0.0528 - acc: 0.8533 - val_loss: 0.0611 - val_acc: 0.8240\n",
            "Epoch 21/100\n",
            "375/375 [==============================] - 0s 272us/step - loss: 0.0515 - acc: 0.8533 - val_loss: 0.0593 - val_acc: 0.8240\n",
            "Epoch 22/100\n",
            "375/375 [==============================] - 0s 268us/step - loss: 0.0508 - acc: 0.8533 - val_loss: 0.0584 - val_acc: 0.8160\n",
            "Epoch 23/100\n",
            "375/375 [==============================] - 0s 255us/step - loss: 0.0493 - acc: 0.8507 - val_loss: 0.0590 - val_acc: 0.8080\n",
            "Epoch 24/100\n",
            "375/375 [==============================] - 0s 263us/step - loss: 0.0485 - acc: 0.8640 - val_loss: 0.0572 - val_acc: 0.8240\n",
            "Epoch 25/100\n",
            "375/375 [==============================] - 0s 278us/step - loss: 0.0472 - acc: 0.8613 - val_loss: 0.0551 - val_acc: 0.8400\n",
            "Epoch 26/100\n",
            "375/375 [==============================] - 0s 256us/step - loss: 0.0462 - acc: 0.8667 - val_loss: 0.0543 - val_acc: 0.8400\n",
            "Epoch 27/100\n",
            "375/375 [==============================] - 0s 261us/step - loss: 0.0454 - acc: 0.8587 - val_loss: 0.0531 - val_acc: 0.8400\n",
            "Epoch 28/100\n",
            "375/375 [==============================] - 0s 292us/step - loss: 0.0443 - acc: 0.8613 - val_loss: 0.0519 - val_acc: 0.8560\n",
            "Epoch 29/100\n",
            "375/375 [==============================] - 0s 275us/step - loss: 0.0433 - acc: 0.8693 - val_loss: 0.0511 - val_acc: 0.8400\n",
            "Epoch 30/100\n",
            "375/375 [==============================] - 0s 277us/step - loss: 0.0422 - acc: 0.8720 - val_loss: 0.0496 - val_acc: 0.8480\n",
            "Epoch 31/100\n",
            "375/375 [==============================] - 0s 264us/step - loss: 0.0408 - acc: 0.8720 - val_loss: 0.0474 - val_acc: 0.8720\n",
            "Epoch 32/100\n",
            "375/375 [==============================] - 0s 275us/step - loss: 0.0389 - acc: 0.8933 - val_loss: 0.0449 - val_acc: 0.9120\n",
            "Epoch 33/100\n",
            "375/375 [==============================] - 0s 259us/step - loss: 0.0372 - acc: 0.9067 - val_loss: 0.0438 - val_acc: 0.8960\n",
            "Epoch 34/100\n",
            "375/375 [==============================] - 0s 274us/step - loss: 0.0359 - acc: 0.9253 - val_loss: 0.0427 - val_acc: 0.9040\n",
            "Epoch 35/100\n",
            "375/375 [==============================] - 0s 283us/step - loss: 0.0346 - acc: 0.9333 - val_loss: 0.0407 - val_acc: 0.9120\n",
            "Epoch 36/100\n",
            "375/375 [==============================] - 0s 271us/step - loss: 0.0335 - acc: 0.9413 - val_loss: 0.0395 - val_acc: 0.9120\n",
            "Epoch 37/100\n",
            "375/375 [==============================] - 0s 265us/step - loss: 0.0327 - acc: 0.9360 - val_loss: 0.0383 - val_acc: 0.9200\n",
            "Epoch 38/100\n",
            "375/375 [==============================] - 0s 264us/step - loss: 0.0317 - acc: 0.9440 - val_loss: 0.0379 - val_acc: 0.9200\n",
            "Epoch 39/100\n",
            "375/375 [==============================] - 0s 269us/step - loss: 0.0312 - acc: 0.9440 - val_loss: 0.0368 - val_acc: 0.9200\n",
            "Epoch 40/100\n",
            "375/375 [==============================] - 0s 251us/step - loss: 0.0301 - acc: 0.9493 - val_loss: 0.0363 - val_acc: 0.9120\n",
            "Epoch 41/100\n",
            "375/375 [==============================] - 0s 265us/step - loss: 0.0293 - acc: 0.9627 - val_loss: 0.0363 - val_acc: 0.9200\n",
            "Epoch 42/100\n",
            "375/375 [==============================] - 0s 269us/step - loss: 0.0290 - acc: 0.9493 - val_loss: 0.0348 - val_acc: 0.9200\n",
            "Epoch 43/100\n",
            "375/375 [==============================] - 0s 279us/step - loss: 0.0281 - acc: 0.9440 - val_loss: 0.0345 - val_acc: 0.9200\n",
            "Epoch 44/100\n",
            "375/375 [==============================] - 0s 251us/step - loss: 0.0277 - acc: 0.9520 - val_loss: 0.0349 - val_acc: 0.9200\n",
            "Epoch 45/100\n",
            "375/375 [==============================] - 0s 254us/step - loss: 0.0273 - acc: 0.9467 - val_loss: 0.0333 - val_acc: 0.9200\n",
            "Epoch 46/100\n",
            "375/375 [==============================] - 0s 262us/step - loss: 0.0265 - acc: 0.9520 - val_loss: 0.0324 - val_acc: 0.9280\n",
            "Epoch 47/100\n",
            "375/375 [==============================] - 0s 249us/step - loss: 0.0261 - acc: 0.9440 - val_loss: 0.0316 - val_acc: 0.9440\n",
            "Epoch 48/100\n",
            "375/375 [==============================] - 0s 263us/step - loss: 0.0257 - acc: 0.9547 - val_loss: 0.0316 - val_acc: 0.9520\n",
            "Epoch 49/100\n",
            "375/375 [==============================] - 0s 291us/step - loss: 0.0251 - acc: 0.9547 - val_loss: 0.0307 - val_acc: 0.9520\n",
            "Epoch 50/100\n",
            "375/375 [==============================] - 0s 274us/step - loss: 0.0248 - acc: 0.9600 - val_loss: 0.0302 - val_acc: 0.9520\n",
            "Epoch 51/100\n",
            "375/375 [==============================] - 0s 255us/step - loss: 0.0240 - acc: 0.9600 - val_loss: 0.0295 - val_acc: 0.9520\n",
            "Epoch 52/100\n",
            "375/375 [==============================] - 0s 262us/step - loss: 0.0238 - acc: 0.9600 - val_loss: 0.0295 - val_acc: 0.9520\n",
            "Epoch 53/100\n",
            "375/375 [==============================] - 0s 283us/step - loss: 0.0233 - acc: 0.9600 - val_loss: 0.0281 - val_acc: 0.9440\n",
            "Epoch 54/100\n",
            "375/375 [==============================] - 0s 282us/step - loss: 0.0233 - acc: 0.9680 - val_loss: 0.0287 - val_acc: 0.9600\n",
            "Epoch 55/100\n",
            "375/375 [==============================] - 0s 263us/step - loss: 0.0225 - acc: 0.9573 - val_loss: 0.0276 - val_acc: 0.9600\n",
            "Epoch 56/100\n",
            "375/375 [==============================] - 0s 252us/step - loss: 0.0224 - acc: 0.9707 - val_loss: 0.0274 - val_acc: 0.9600\n",
            "Epoch 57/100\n",
            "375/375 [==============================] - 0s 270us/step - loss: 0.0219 - acc: 0.9707 - val_loss: 0.0267 - val_acc: 0.9600\n",
            "Epoch 58/100\n",
            "375/375 [==============================] - 0s 278us/step - loss: 0.0218 - acc: 0.9680 - val_loss: 0.0286 - val_acc: 0.9520\n",
            "Epoch 59/100\n",
            "375/375 [==============================] - 0s 271us/step - loss: 0.0212 - acc: 0.9707 - val_loss: 0.0266 - val_acc: 0.9600\n",
            "Epoch 60/100\n",
            "375/375 [==============================] - 0s 293us/step - loss: 0.0210 - acc: 0.9680 - val_loss: 0.0275 - val_acc: 0.9520\n",
            "Epoch 61/100\n",
            "375/375 [==============================] - 0s 269us/step - loss: 0.0207 - acc: 0.9707 - val_loss: 0.0266 - val_acc: 0.9600\n",
            "Epoch 62/100\n",
            "375/375 [==============================] - 0s 286us/step - loss: 0.0206 - acc: 0.9653 - val_loss: 0.0282 - val_acc: 0.9440\n",
            "Epoch 63/100\n",
            "375/375 [==============================] - 0s 271us/step - loss: 0.0200 - acc: 0.9600 - val_loss: 0.0251 - val_acc: 0.9520\n",
            "Epoch 64/100\n",
            "375/375 [==============================] - 0s 274us/step - loss: 0.0198 - acc: 0.9760 - val_loss: 0.0248 - val_acc: 0.9520\n",
            "Epoch 65/100\n",
            "375/375 [==============================] - 0s 265us/step - loss: 0.0194 - acc: 0.9707 - val_loss: 0.0245 - val_acc: 0.9440\n",
            "Epoch 66/100\n",
            "375/375 [==============================] - 0s 260us/step - loss: 0.0195 - acc: 0.9680 - val_loss: 0.0242 - val_acc: 0.9520\n",
            "Epoch 67/100\n",
            "375/375 [==============================] - 0s 264us/step - loss: 0.0191 - acc: 0.9680 - val_loss: 0.0258 - val_acc: 0.9440\n",
            "Epoch 68/100\n",
            "375/375 [==============================] - 0s 264us/step - loss: 0.0186 - acc: 0.9680 - val_loss: 0.0239 - val_acc: 0.9600\n",
            "Epoch 69/100\n",
            "375/375 [==============================] - 0s 291us/step - loss: 0.0183 - acc: 0.9733 - val_loss: 0.0239 - val_acc: 0.9600\n",
            "Epoch 70/100\n",
            "375/375 [==============================] - 0s 262us/step - loss: 0.0178 - acc: 0.9707 - val_loss: 0.0233 - val_acc: 0.9600\n",
            "Epoch 71/100\n",
            "375/375 [==============================] - 0s 251us/step - loss: 0.0177 - acc: 0.9760 - val_loss: 0.0234 - val_acc: 0.9520\n",
            "Epoch 72/100\n",
            "375/375 [==============================] - 0s 281us/step - loss: 0.0175 - acc: 0.9733 - val_loss: 0.0233 - val_acc: 0.9520\n",
            "Epoch 73/100\n",
            "375/375 [==============================] - 0s 266us/step - loss: 0.0171 - acc: 0.9760 - val_loss: 0.0230 - val_acc: 0.9600\n",
            "Epoch 74/100\n",
            "375/375 [==============================] - 0s 249us/step - loss: 0.0173 - acc: 0.9787 - val_loss: 0.0235 - val_acc: 0.9520\n",
            "Epoch 75/100\n",
            "375/375 [==============================] - 0s 295us/step - loss: 0.0170 - acc: 0.9627 - val_loss: 0.0237 - val_acc: 0.9520\n",
            "Epoch 76/100\n",
            "375/375 [==============================] - 0s 272us/step - loss: 0.0169 - acc: 0.9787 - val_loss: 0.0219 - val_acc: 0.9600\n",
            "Epoch 77/100\n",
            "375/375 [==============================] - 0s 261us/step - loss: 0.0164 - acc: 0.9813 - val_loss: 0.0210 - val_acc: 0.9600\n",
            "Epoch 78/100\n",
            "375/375 [==============================] - 0s 252us/step - loss: 0.0160 - acc: 0.9813 - val_loss: 0.0230 - val_acc: 0.9520\n",
            "Epoch 79/100\n",
            "375/375 [==============================] - 0s 297us/step - loss: 0.0162 - acc: 0.9707 - val_loss: 0.0213 - val_acc: 0.9600\n",
            "Epoch 80/100\n",
            "375/375 [==============================] - 0s 263us/step - loss: 0.0158 - acc: 0.9733 - val_loss: 0.0212 - val_acc: 0.9760\n",
            "Epoch 81/100\n",
            "375/375 [==============================] - 0s 292us/step - loss: 0.0159 - acc: 0.9787 - val_loss: 0.0208 - val_acc: 0.9760\n",
            "Epoch 82/100\n",
            "375/375 [==============================] - 0s 271us/step - loss: 0.0158 - acc: 0.9813 - val_loss: 0.0207 - val_acc: 0.9760\n",
            "Epoch 83/100\n",
            "375/375 [==============================] - 0s 265us/step - loss: 0.0153 - acc: 0.9787 - val_loss: 0.0213 - val_acc: 0.9760\n",
            "Epoch 84/100\n",
            "375/375 [==============================] - 0s 270us/step - loss: 0.0154 - acc: 0.9760 - val_loss: 0.0205 - val_acc: 0.9760\n",
            "Epoch 85/100\n",
            "375/375 [==============================] - 0s 268us/step - loss: 0.0154 - acc: 0.9787 - val_loss: 0.0202 - val_acc: 0.9680\n",
            "Epoch 86/100\n",
            "375/375 [==============================] - 0s 261us/step - loss: 0.0150 - acc: 0.9733 - val_loss: 0.0209 - val_acc: 0.9520\n",
            "Epoch 87/100\n",
            "375/375 [==============================] - 0s 268us/step - loss: 0.0146 - acc: 0.9787 - val_loss: 0.0199 - val_acc: 0.9760\n",
            "Epoch 88/100\n",
            "375/375 [==============================] - 0s 262us/step - loss: 0.0144 - acc: 0.9787 - val_loss: 0.0205 - val_acc: 0.9600\n",
            "Epoch 89/100\n",
            "375/375 [==============================] - 0s 266us/step - loss: 0.0148 - acc: 0.9840 - val_loss: 0.0200 - val_acc: 0.9760\n",
            "Epoch 90/100\n",
            "375/375 [==============================] - 0s 268us/step - loss: 0.0144 - acc: 0.9760 - val_loss: 0.0192 - val_acc: 0.9760\n",
            "Epoch 91/100\n",
            "375/375 [==============================] - 0s 252us/step - loss: 0.0142 - acc: 0.9813 - val_loss: 0.0191 - val_acc: 0.9760\n",
            "Epoch 92/100\n",
            "375/375 [==============================] - 0s 273us/step - loss: 0.0140 - acc: 0.9813 - val_loss: 0.0200 - val_acc: 0.9680\n",
            "Epoch 93/100\n",
            "375/375 [==============================] - 0s 270us/step - loss: 0.0142 - acc: 0.9813 - val_loss: 0.0207 - val_acc: 0.9680\n",
            "Epoch 94/100\n",
            "375/375 [==============================] - 0s 274us/step - loss: 0.0140 - acc: 0.9787 - val_loss: 0.0190 - val_acc: 0.9760\n",
            "Epoch 95/100\n",
            "375/375 [==============================] - 0s 261us/step - loss: 0.0136 - acc: 0.9813 - val_loss: 0.0192 - val_acc: 0.9680\n",
            "Epoch 96/100\n",
            "375/375 [==============================] - 0s 286us/step - loss: 0.0132 - acc: 0.9840 - val_loss: 0.0177 - val_acc: 0.9840\n",
            "Epoch 97/100\n",
            "375/375 [==============================] - 0s 279us/step - loss: 0.0134 - acc: 0.9867 - val_loss: 0.0185 - val_acc: 0.9760\n",
            "Epoch 98/100\n",
            "375/375 [==============================] - 0s 270us/step - loss: 0.0133 - acc: 0.9787 - val_loss: 0.0187 - val_acc: 0.9760\n",
            "Epoch 99/100\n",
            "375/375 [==============================] - 0s 253us/step - loss: 0.0138 - acc: 0.9787 - val_loss: 0.0178 - val_acc: 0.9760\n",
            "Epoch 100/100\n",
            "375/375 [==============================] - 0s 277us/step - loss: 0.0131 - acc: 0.9840 - val_loss: 0.0177 - val_acc: 0.9760\n",
            "125/125 [==============================] - 0s 70us/step\n",
            "Accuracy: 97.6000%\n"
          ],
          "name": "stdout"
        }
      ]
    },
    {
      "cell_type": "code",
      "metadata": {
        "id": "3prDjzCdHfaK",
        "colab_type": "code",
        "colab": {}
      },
      "source": [
        "y_score = supervisorApprox.predict(data)\n",
        "\n",
        "y_test = keras.utils.np_utils.to_categorical(labels, num_classes=4)\n",
        "# Compute ROC curve and ROC area for each class\n",
        "fpr = dict()\n",
        "tpr = dict()\n",
        "roc_auc = dict()\n",
        "for i in range(nClasses):\n",
        "    fpr[i], tpr[i], _ = roc_curve(y_test[:, i], y_score[:, i])\n",
        "    roc_auc[i] = auc(fpr[i], tpr[i])\n",
        "\n",
        "# Compute micro-average ROC curve and ROC area\n",
        "fpr[\"micro\"], tpr[\"micro\"], _ = roc_curve(y_test.ravel(), y_score.ravel())\n",
        "roc_auc[\"micro\"] = auc(fpr[\"micro\"], tpr[\"micro\"])"
      ],
      "execution_count": 0,
      "outputs": []
    },
    {
      "cell_type": "code",
      "metadata": {
        "id": "jHz-CBFeQKea",
        "colab_type": "code",
        "colab": {}
      },
      "source": [
        ""
      ],
      "execution_count": 0,
      "outputs": []
    },
    {
      "cell_type": "code",
      "metadata": {
        "id": "2ddgNQeRndsq",
        "colab_type": "code",
        "outputId": "382b7523-5b47-4e00-80e9-9956940e7bc3",
        "colab": {
          "base_uri": "https://localhost:8080/",
          "height": 372
        }
      },
      "source": [
        "# Compute micro-average ROC curve and ROC area\n",
        "fpr[\"micro\"], tpr[\"micro\"], _ = roc_curve(y_test.ravel(), y_score.ravel())\n",
        "roc_auc[\"micro\"] = auc(fpr[\"micro\"], tpr[\"micro\"])\n",
        "\n",
        "# Compute macro-average ROC curve and ROC area\n",
        "\n",
        "# First aggregate all false positive rates\n",
        "all_fpr = np.unique(np.concatenate([fpr[i] for i in range(nClasses)]))\n",
        "\n",
        "# Then interpolate all ROC curves at this points\n",
        "mean_tpr = np.zeros_like(all_fpr)\n",
        "for i in range(nClasses):\n",
        "    mean_tpr += interp(all_fpr, fpr[i], tpr[i])\n",
        "\n",
        "# Finally average it and compute AUC\n",
        "mean_tpr /= nClasses\n",
        "\n",
        "fpr[\"macro\"] = all_fpr\n",
        "tpr[\"macro\"] = mean_tpr\n",
        "roc_auc[\"macro\"] = auc(fpr[\"macro\"], tpr[\"macro\"])\n",
        "\n",
        "# Plot all ROC curves\n",
        "plt.figure(figsize = (8,5))\n",
        "# plt.plot(fpr[\"micro\"], tpr[\"micro\"],\n",
        "#          label='micro-average ROC curve (area = {0:0.2f})'\n",
        "#                ''.format(roc_auc[\"micro\"]),\n",
        "#          color='deeppink', linestyle=':', linewidth=4)\n",
        "\n",
        "# plt.plot(fpr[\"macro\"], tpr[\"macro\"],\n",
        "#          label='macro-average ROC curve (area = {0:0.2f})'\n",
        "#                ''.format(roc_auc[\"macro\"]),\n",
        "#          color='navy', linestyle=':', linewidth=4)\n",
        "\n",
        "colors = cycle(['deeppink','aqua', 'darkorange', 'cornflowerblue'])\n",
        "for i, color in zip(range(nClasses), colors):\n",
        "    plt.plot(fpr[i], tpr[i], color=color, lw=2,\n",
        "             label='ROC curve of class {0} (area = {1:0.2f})'\n",
        "             ''.format(i, roc_auc[i]))\n",
        "# plt.figure(figsize = (15,15))\n",
        "plt.plot([-0.05, 1.05], [-0.05, 1.05], 'k--', lw=1.25)\n",
        "plt.xlim([-0.05, 1.05])\n",
        "plt.ylim([-0.05, 1.05])\n",
        "plt.xlabel('False Positive Rate')\n",
        "plt.ylabel('True Positive Rate')\n",
        "plt.title('Receiver operating characteristic for 4 classes')\n",
        "plt.legend(loc=\"lower right\")\n",
        "plt.grid(True)\n",
        "plt.savefig(\"ROC.png\")\n",
        "files.download(\"ROC.png\")\n",
        "plt.show()"
      ],
      "execution_count": 0,
      "outputs": [
        {
          "output_type": "display_data",
          "data": {
            "image/png": "[encoded data removed]",
            "text/plain": [
              "<Figure size 576x360 with 1 Axes>"
            ]
          },
          "metadata": {
            "tags": []
          }
        }
      ]
    },
    {
      "cell_type": "code",
      "metadata": {
        "id": "m2e4hpV-6XJh",
        "colab_type": "code",
        "outputId": "d2a6367b-735c-488c-d292-d2ffd4350bbd",
        "colab": {
          "base_uri": "https://localhost:8080/",
          "height": 356
        }
      },
      "source": [
        "print(fpr)"
      ],
      "execution_count": 0,
      "outputs": [
        {
          "output_type": "stream",
          "text": [
            "{0: array([0.        , 0.        , 0.        , 0.        , 0.        ,\n",
            "       0.00284091, 0.00284091, 0.01420455, 0.01420455, 0.01988636,\n",
            "       0.01988636, 1.        ]), 1: array([0.        , 0.        , 0.        , 0.0027933 , 0.0027933 ,\n",
            "       0.00837989, 0.00837989, 0.01117318, 0.01117318, 0.01396648,\n",
            "       0.01396648, 0.01955307, 0.01955307, 1.        ]), 2: array([0.        , 0.        , 0.        , 0.00214133, 0.00214133,\n",
            "       1.        ]), 3: array([0.        , 0.        , 0.        , 0.        , 0.        ,\n",
            "       0.00309598, 0.00309598, 0.00619195, 0.00619195, 1.        ]), 'micro': array([0.00000000e+00, 0.00000000e+00, 0.00000000e+00, 0.00000000e+00,\n",
            "       0.00000000e+00, 0.00000000e+00, 0.00000000e+00, 6.66666667e-04,\n",
            "       6.66666667e-04, 1.33333333e-03, 1.33333333e-03, 2.00000000e-03,\n",
            "       2.00000000e-03, 2.66666667e-03, 2.66666667e-03, 3.33333333e-03,\n",
            "       3.33333333e-03, 4.66666667e-03, 4.66666667e-03, 5.33333333e-03,\n",
            "       5.33333333e-03, 6.66666667e-03, 6.66666667e-03, 8.00000000e-03,\n",
            "       8.00000000e-03, 8.66666667e-03, 8.66666667e-03, 9.33333333e-03,\n",
            "       9.33333333e-03, 1.00000000e-02, 1.00000000e-02, 1.33333333e-02,\n",
            "       1.33333333e-02, 1.53333333e-02, 1.53333333e-02, 2.40000000e-02,\n",
            "       2.40000000e-02, 1.00000000e+00]), 'macro': array([0.        , 0.00214133, 0.0027933 , 0.00284091, 0.00309598,\n",
            "       0.00619195, 0.00837989, 0.01117318, 0.01396648, 0.01420455,\n",
            "       0.01955307, 0.01988636, 1.        ])}\n"
          ],
          "name": "stdout"
        }
      ]
    },
    {
      "cell_type": "markdown",
      "metadata": {
        "id": "jwOpuzA-SB2_",
        "colab_type": "text"
      },
      "source": [
        "# Running for varying number of data points"
      ]
    },
    {
      "cell_type": "code",
      "metadata": {
        "id": "tW55tIOIXeis",
        "colab_type": "code",
        "colab": {}
      },
      "source": [
        "def query(nQueries):\n",
        "\n",
        "  data = np.zeros((nQueries, nDim))\n",
        "  labels = np.zeros(nQueries)\n",
        "  counts = np.empty((nModes, 1))\n",
        "\n",
        "  for i in range(nQueries):\n",
        "    data[i,:] = np.random.uniform(low = Low, high = High, size = (1,2))\n",
        "    s = SUPER2.switch(DUMMY, data[i,0], data[i,1])\n",
        "    if s == 1: \n",
        "      counts[s-1]+=1\n",
        "    elif s==2:\n",
        "      counts[s-1]+=1\n",
        "    elif s==3:\n",
        "      counts[s-1]+=1\n",
        "    else: counts[s-1]+=1\n",
        "    labels[i] = s-1  # Because label 0 = mode 1 and so on\n",
        "\n",
        "  return data, labels\n",
        "\n",
        "def splitter(data, labels, num_classes):\n",
        "  # Converting labels to one-hot-vectors\n",
        "  _labels = keras.utils.np_utils.to_categorical(labels, num_classes=4)\n",
        "  # Splitting dataset\n",
        "  nQueries = data.shape[0]\n",
        "  split = int(0.75*nQueries)\n",
        "  data_train = data[0:split,:]\n",
        "  labels_train = _labels[0:split,:]\n",
        "  data_test = data[split:,:]\n",
        "  print(split)\n",
        "  labels_test = _labels[split:,:]\n",
        "  return data_train, data_test, labels_train, labels_test\n",
        "\n",
        "def confusionMatrix(data, y_true, nClasses):\n",
        "  y_pred = supervisorApprox.predict_classes(data)\n",
        "  with tf.Session() as sess:\n",
        "    confusion_matrix = tf.confusion_matrix(labels=y_true,\n",
        "                                          predictions=y_pred, \n",
        "                                          num_classes=nClasses)\n",
        "    confusion_matrix_to_Print = sess.run(confusion_matrix)\n",
        "    normalized_confusion = normalize(confusion_matrix_to_Print, \n",
        "                                   axis=1, norm='l1')\n",
        "  print(normalized_confusion)\n",
        "  return normalized_confusion"
      ],
      "execution_count": 0,
      "outputs": []
    },
    {
      "cell_type": "code",
      "metadata": {
        "id": "dlf5jqpZSE-s",
        "colab_type": "code",
        "outputId": "5ae3f0ba-c4ae-4eef-c270-7514a9284032",
        "colab": {
          "base_uri": "https://localhost:8080/",
          "height": 1000
        }
      },
      "source": [
        "k = np.logspace(1, 4, num=40)\n",
        "nClasses = 4\n",
        "MATS = np.empty((nClasses*nClasses, k.size))\n",
        "j = 0\n",
        "acc_History = np.empty_like(k)\n",
        "for i in k:\n",
        "  print(i)\n",
        "  _data, _labels = query(int(i))\n",
        "  data_train, data_test, labels_train, labels_test = splitter(_data, _labels, nClasses)\n",
        "  supervisorApprox = NN_arch()\n",
        "  supervisorApprox.build((None, nDim))\n",
        "  #This bit trains the NN for a given data set\n",
        "  supervisorApprox.compile(loss=\"mean_squared_error\", \n",
        "                      optimizer = \"adam\", \n",
        "                      metrics = ['accuracy'])\n",
        "  supervisorApprox_metaData = supervisorApprox.fit(\n",
        "                  data_train, labels_train, \n",
        "                  validation_data = (data_test, labels_test), \n",
        "                  epochs = 100, \n",
        "                  batch_size = 5, \n",
        "                  shuffle = True, verbose = False)\n",
        "  #Print accuracy of model on testing set after training \n",
        "  scores = supervisorApprox.evaluate(data_test, labels_test)\n",
        "  # print(\"Accuracy: %0.4f%%\" %(scores[1]*100) )\n",
        "  # print(\"Accuracy: %0.4f%%\" %(scores[1]*100) )\n",
        "  # cM = confusionMatrix(data, labels, nClasses)\n",
        "  acc_History[j] = scores[1]*100\n",
        "  # MATS[:,j] = cM.flatten()\n",
        "  j+=1"
      ],
      "execution_count": 0,
      "outputs": [
        {
          "output_type": "stream",
          "text": [
            "10.0\n",
            "7\n",
            "3/3 [==============================] - 0s 332us/step\n",
            "11.937766417144363\n",
            "8\n",
            "3/3 [==============================] - 0s 367us/step\n",
            "14.251026703029977\n",
            "10\n",
            "4/4 [==============================] - 0s 297us/step\n",
            "17.012542798525892\n",
            "12\n",
            "5/5 [==============================] - 0s 222us/step\n",
            "20.309176209047358\n",
            "15\n",
            "5/5 [==============================] - 0s 256us/step\n",
            "24.244620170823282\n",
            "18\n",
            "6/6 [==============================] - 0s 205us/step\n",
            "28.942661247167518\n",
            "21\n",
            "7/7 [==============================] - 0s 161us/step\n",
            "34.5510729459222\n",
            "25\n",
            "9/9 [==============================] - 0s 126us/step\n",
            "41.24626382901352\n",
            "30\n",
            "11/11 [==============================] - 0s 118us/step\n",
            "49.23882631706739\n",
            "36\n",
            "13/13 [==============================] - 0s 91us/step\n",
            "58.780160722749116\n",
            "43\n",
            "15/15 [==============================] - 0s 81us/step\n",
            "70.1703828670383\n",
            "52\n",
            "18/18 [==============================] - 0s 65us/step\n",
            "83.7677640068292\n",
            "62\n",
            "21/21 [==============================] - 0s 57us/step\n",
            "100.0\n",
            "75\n",
            "25/25 [==============================] - 0s 49us/step\n",
            "119.3776641714437\n",
            "89\n",
            "30/30 [==============================] - 0s 40us/step\n",
            "142.51026703029993\n",
            "106\n",
            "36/36 [==============================] - 0s 244us/step\n",
            "170.1254279852589\n",
            "127\n",
            "43/43 [==============================] - 0s 218us/step\n",
            "203.09176209047348\n",
            "152\n",
            "51/51 [==============================] - 0s 123us/step\n",
            "242.44620170823282\n",
            "181\n",
            "61/61 [==============================] - 0s 75us/step\n",
            "289.4266124716752\n",
            "216\n",
            "73/73 [==============================] - 0s 87us/step\n",
            "345.5107294592218\n",
            "258\n",
            "87/87 [==============================] - 0s 75us/step\n",
            "412.4626382901352\n",
            "309\n",
            "103/103 [==============================] - 0s 118us/step\n",
            "492.3882631706742\n",
            "369\n",
            "123/123 [==============================] - 0s 97us/step\n",
            "587.8016072274912\n",
            "440\n",
            "147/147 [==============================] - 0s 78us/step\n",
            "701.7038286703829\n",
            "525\n",
            "176/176 [==============================] - 0s 72us/step\n",
            "837.6776400682925\n",
            "627\n",
            "210/210 [==============================] - 0s 89us/step\n",
            "1000.0\n",
            "750\n",
            "250/250 [==============================] - 0s 80us/step\n",
            "1193.776641714437\n",
            "894\n",
            "299/299 [==============================] - 0s 74us/step\n",
            "1425.1026703029993\n",
            "1068\n",
            "357/357 [==============================] - 0s 69us/step\n",
            "1701.2542798525892\n",
            "1275\n",
            "426/426 [==============================] - 0s 62us/step\n",
            "2030.9176209047369\n",
            "1522\n",
            "508/508 [==============================] - 0s 59us/step\n",
            "2424.462017082328\n",
            "1818\n",
            "606/606 [==============================] - 0s 63us/step\n",
            "2894.2661247167516\n",
            "2170\n",
            "724/724 [==============================] - 0s 67us/step\n",
            "3455.107294592222\n",
            "2591\n",
            "864/864 [==============================] - 0s 61us/step\n",
            "4124.626382901352\n",
            "3093\n",
            "1031/1031 [==============================] - 0s 82us/step\n",
            "4923.882631706741\n",
            "3692\n",
            "1231/1231 [==============================] - 0s 84us/step\n",
            "5878.0160722749115\n",
            "4408\n",
            "1470/1470 [==============================] - 0s 60us/step\n",
            "7017.03828670383\n",
            "5262\n",
            "1755/1755 [==============================] - 0s 69us/step\n",
            "8376.776400682924\n",
            "6282\n",
            "2094/2094 [==============================] - 0s 57us/step\n",
            "10000.0\n",
            "7500\n",
            "2500/2500 [==============================] - 0s 74us/step\n"
          ],
          "name": "stdout"
        }
      ]
    },
    {
      "cell_type": "code",
      "metadata": {
        "id": "YWV20Nrjsay5",
        "colab_type": "code",
        "outputId": "6bc98e03-b92e-4e9d-d501-18752854eb76",
        "colab": {
          "base_uri": "https://localhost:8080/",
          "height": 34
        }
      },
      "source": [
        "_data.shape[0]"
      ],
      "execution_count": 0,
      "outputs": [
        {
          "output_type": "execute_result",
          "data": {
            "text/plain": [
              "10"
            ]
          },
          "metadata": {
            "tags": []
          },
          "execution_count": 100
        }
      ]
    },
    {
      "cell_type": "code",
      "metadata": {
        "id": "5ONjkMOlpYqm",
        "colab_type": "code",
        "outputId": "4e7c2d16-d931-4dcb-97b6-394207efb78e",
        "colab": {
          "base_uri": "https://localhost:8080/",
          "height": 283
        }
      },
      "source": [
        "plt.plot(acc_History)\n",
        "plt.xlabel(\"$log(| \\mathcal{D}|)$\")\n",
        "plt.ylabel(\"ANN Test Accuracy\") \n",
        "plt.grid(True)\n",
        "plt.savefig(\"genError.eps\")\n",
        "files.download(\"genError.eps\")"
      ],
      "execution_count": 0,
      "outputs": [
        {
          "output_type": "display_data",
          "data": {
            "image/png": "[encoded data removed]",
            "text/plain": [
              "<Figure size 432x288 with 1 Axes>"
            ]
          },
          "metadata": {
            "tags": []
          }
        }
      ]
    },
    {
      "cell_type": "code",
      "metadata": {
        "id": "8xk6Wr9YtMI6",
        "colab_type": "code",
        "colab": {}
      },
      "source": [
        "plt.figure(figsize = (15,15))\n",
        "sn.set(font_scale=1) #for label size\n",
        "sn.heatmap(MATS, cmap =  sn.cm.rocket_r, \n",
        "           annot=True,\n",
        "           annot_kws={\"size\": 16}) # font size"
      ],
      "execution_count": 0,
      "outputs": []
    },
    {
      "cell_type": "code",
      "metadata": {
        "id": "QLJcYsnmZYKE",
        "colab_type": "code",
        "colab": {}
      },
      "source": [
        "data.shape\n",
        "_data.shape"
      ],
      "execution_count": 0,
      "outputs": []
    },
    {
      "cell_type": "code",
      "metadata": {
        "id": "mqsmtGz_tNii",
        "colab_type": "code",
        "colab": {}
      },
      "source": [
        ""
      ],
      "execution_count": 0,
      "outputs": []
    }
  ]
}
{
  "nbformat": 4,
  "nbformat_minor": 0,
  "metadata": {
    "colab": {
      "name": "SupervisoryControlAttack-formation-of-robots.ipynb",
      "provenance": [],
      "collapsed_sections": [],
      "toc_visible": true,
      "include_colab_link": true
    },
    "kernelspec": {
      "name": "python3",
      "display_name": "Python 3"
    }
  },
  "cells": [
    {
      "cell_type": "markdown",
      "metadata": {
        "id": "view-in-github",
        "colab_type": "text"
      },
      "source": [
        "<a href=\"https://colab.research.google.com/github/omanshuthapliyal/formationControl/blob/master/SupervisoryControlAttack_formation_of_robots.ipynb\" target=\"_parent\"><img src=\"https://colab.research.google.com/assets/colab-badge.svg\" alt=\"Open In Colab\"/></a>"
      ]
    },
    {
      "cell_type": "markdown",
      "metadata": {
        "id": "IEV93_SMyNrO",
        "colab_type": "text"
      },
      "source": [
        "# Defining ***Robot Formation*** model.\n",
        "\n",
        "Adapted from [Hybrid Control of Formation of Robots](https://ieeexplore.ieee.org/stamp/stamp.jsp?arnumber=932546).\n",
        "\n"
      ]
    },
    {
      "cell_type": "code",
      "metadata": {
        "id": "rbfwqjD0yDAA",
        "colab_type": "code",
        "colab": {}
      },
      "source": [
        "from numpy import matmul \n",
        "import numpy as np\n",
        "from numpy import pi\n",
        "import scipy.linalg\n",
        "import matplotlib.pyplot as plt\n",
        "from matplotlib import collections  as mc\n",
        "from math import sin, cos, acos, atan, sqrt\n",
        "import scipy.integrate as integrate\n",
        "from copy import copy"
      ],
      "execution_count": 0,
      "outputs": []
    },
    {
      "cell_type": "markdown",
      "metadata": {
        "id": "FiexJL813Ek1",
        "colab_type": "text"
      },
      "source": [
        "## Plant Objects"
      ]
    },
    {
      "cell_type": "code",
      "metadata": {
        "id": "JeT3mNvOytXt",
        "colab_type": "code",
        "colab": {}
      },
      "source": [
        "def stateProp(xDot, x, t, dt):\n",
        "  # xDot = dx/dt = constant during dT, x = x(t), dt = Delta T\n",
        "  dx = xDot*dt\n",
        "  return (x + dx)\n",
        "  \n",
        "class PLANT:\n",
        "  def __init__(self, rIN):\n",
        "    self.r = rIN # Sensor radius, unspecified in the paper\n",
        "    \n",
        "    # See beginning of section 4\n",
        "    eps = 0.0001\n",
        "    self.d = 0.1  # Robot dimension\n",
        "    self.l_des = [[0, 1, 1],\n",
        "                  [1, 0, 1],\n",
        "                  [1, 1, 0]]\n",
        "    # See Eq. 19\n",
        "    d12 = pi/2\n",
        "    d13 = acos((self.l_des[0][1]**2 + self.l_des[0][2]**2 - self.l_des[1][2]**2)/\n",
        "               (2*self.l_des[0][1]*self.l_des[0][2])) + d12\n",
        "    d23 = pi + pi/6\n",
        "    self.psi_des = [[eps, d12, d13],\n",
        "                    [d12, eps, d23],\n",
        "                    [d13, d23, eps]]\n",
        "    self.t = 0\n",
        "    self.dt = 0.1\n",
        "    self.l = [[eps, 1.5, sqrt(1.04)],\n",
        "              [1.5, eps, sqrt(5.69)],\n",
        "              [sqrt(1.04), sqrt(5.69), eps]]\n",
        "    self.lDot = np.zeros_like(self.l)\n",
        "    self.psi = [[eps, -pi/6, -pi/6 + atan(10)],\n",
        "                [-pi/6, eps, pi - atan(2/1.3)],\n",
        "                [-pi/6 + atan(10), pi - atan(2/1.3), eps]]\n",
        "    self.psiDot = np.zeros_like(self.psi)\n",
        "    # Initial conditions in global coordinates\n",
        "    self.x = np.array([eps, 1.5, 0.2])\n",
        "    self.y = np.array([eps, eps, 2])\n",
        "    self.theta = np.array([pi/6, eps, pi/6])\n",
        "    self.thetaDot = np.zeros_like(self.theta)\n",
        "    self.v = np.array([0.5,eps,eps])\n",
        "    self.w = np.array([0.1*sin(0.2*self.t), eps, eps])\n",
        "\n",
        "    self.xDot = np.zeros_like(self.x)\n",
        "    self.xDot[0] = self.v[0]*cos(self.theta[0])\n",
        "    self.yDot = np.zeros_like(self.x)\n",
        "    self.yDot[0] = self.v[0]*sin(self.theta[0])\n",
        "    self.thetaDot[0] = self.w[0]\n",
        "    \n",
        "    self.k1 = 1.5\n",
        "    self.k2 = 1.5\n",
        "    self.k3 = 1.5\n",
        "\n",
        "    self.modes = np.array([np.nan, np.nan, np.nan])\n",
        "\n",
        "  def SB_ijC(self,i,j):\n",
        "    # Robots j follows Robot i\n",
        "    \n",
        "    # Global coordinate equations from Eq 2-4\n",
        "    gamma_ij = self.theta[i] - self.theta[j] + self.psi[i][j]\n",
        "    s_ij = self.k1 * (self.l_des[i][j] - self.l[i][j])\n",
        "    b_ij = self.k2 * (self.psi_des[i][j] - self.psi[i][j])\n",
        "    # Eqs. 2-3\n",
        "    self.v[j] = ( s_ij * cos(gamma_ij) - self.l[i][j] * sin(gamma_ij) * (b_ij + self.w[i]) + \n",
        "                 self.v[i]*cos(self.theta[i]-self.theta[j]) )\n",
        "    self.w[j] = ( s_ij * sin(gamma_ij) + self.l[i][j] * cos(gamma_ij) * (b_ij + self.w[i]) + \n",
        "                 self.v[i]*sin(self.theta[i]-self.theta[j]) )/self.d\n",
        "\n",
        "    # See Eqs. 15 - 17\n",
        "    self.lDot[i][j] = s_ij\n",
        "    self.psiDot[i][j] = b_ij\n",
        "    self.thetaDot[j] = copy(self.w[j])\n",
        "\n",
        "  def S_ikS_jkC(self,i,j,k):\n",
        "    # Robot k follows Robots i & j\n",
        "    # Global coordinate equations from Eqs 6-7\n",
        "    gamma_jk = self.theta[j] - self.theta[k] + self.psi[j][k]\n",
        "    gamma_ik = self.theta[i] - self.theta[k] + self.psi[i][k]\n",
        "\n",
        "    s_ik = self.k1 * (self.l_des[i][k] - self.l[i][k])\n",
        "    s_jk = self.k1 * (self.l_des[j][k] - self.l[j][k])\n",
        "\n",
        "    self.v[k] = (  s_ik * sin(gamma_jk) - s_jk * sin(gamma_ik) + \n",
        "                 self.v[i]*cos(self.psi[i][k]) * sin(gamma_jk) -\n",
        "                 self.v[j]*cos(self.psi[j][k]) * sin(gamma_ik) )/(sin(gamma_jk - gamma_ik))\n",
        "    self.w[k] = ( -s_ik * cos(gamma_jk) + s_jk * cos(gamma_ik) - \n",
        "                 self.v[i]*cos(self.psi[i][k]) * cos(gamma_jk) +\n",
        "                 self.v[j]*cos(self.psi[j][k]) * cos(gamma_ik) )/(self.d * sin(gamma_jk - gamma_ik))\n",
        "\n",
        "    self.lDot[i][k] = s_ik\n",
        "    self.lDot[j][k] = s_jk\n",
        "    self.thetaDot[k] = copy(self.w[k])\n",
        "\n",
        "    # self.psi[i][k] = stateProp(self.psiDot[i][k],\n",
        "    #                       self.psi[i][k], self.t, self.dt)\n",
        "    # self.psi[j][k] = stateProp(self.psiDot[j][k],\n",
        "    #                   self.psi[j][k], self.t, self.dt)\n",
        "\n",
        "  def autoNavig(self, i):\n",
        "    self.xDot[i] = self.v[i]*cos(self.theta[i])\n",
        "    self.yDot[i] = self.v[i]*sin(self.theta[i])\n",
        "    self.thetaDot[i] = copy(self.w[i])\n",
        "    \n",
        "  def updatePosition(self, i):\n",
        "    # Update the position of robot i following robot 1\n",
        "    # Updates using position of Robot 1\n",
        "    \n",
        "    self.theta[i] = stateProp(self.thetaDot[i], \n",
        "                              self.theta[i], \n",
        "                              self.t, self.dt)\n",
        "    self.y[i] = stateProp(self.yDot[i], \n",
        "                          self.y[i], self.t, self.dt)\n",
        "    self.x[i] = stateProp(self.xDot[i], \n",
        "                          self.x[i], self.t, self.dt)\n",
        "    \n",
        "    for n in range(3):\n",
        "      self.l[n][i] = np.linalg.norm([self.x[n] - self.x[i] ,\n",
        "                                     self.y[n] - self.y[i]])\n",
        "      \n",
        "      self.psi[n][i] = stateProp(self.psiDot[n][i],\n",
        "                          self.psi[n][i], \n",
        "                          self.t, self.dt)\n",
        "\n",
        "  def letUsUpdate(self,i):\n",
        "    self.autoNavig(i)\n",
        "    self.updatePosition(i) \n",
        "\n",
        "  def propagate(self, supervObj, i):\n",
        "    # ID = 1, 2, 3 are robot numbers. We are interested in Robot 3\n",
        "    if i == 0:\n",
        "      # leader's dynamics are given by Eq. 1\n",
        "      self.w[i] = 0.1*sin(0.2*self.t)\n",
        "      self.letUsUpdate(i)\n",
        "\n",
        "    elif i == 1:\n",
        "      # Robot 2 is always in SB_12C mode,that is, following robot 1\n",
        "      self.SB_ijC(0,1)    # (1,2) = (0,1) due to zero indexing\n",
        "      self.letUsUpdate(i)\n",
        "    \n",
        "    else:\n",
        "      # Choose mode for Robot 3\n",
        "      mode = supervObj.switch(self, self.l[0][2], self.l[1][2])\n",
        "      if mode == 1: \n",
        "        self.SB_ijC(0,2)         # Robot 3 follows Robot 1\n",
        "      elif mode == 2: \n",
        "        self.SB_ijC(1,2)         # Robot 3 follows Robot 2\n",
        "      elif mode == 3: \n",
        "        self.S_ikS_jkC(0,2,1)    # Robot 3 follows Robot 1 & 2 \n",
        "      elif mode == 4: pass       # Autonomous Navigation for Robot 3\n",
        "      self.letUsUpdate(i)\n",
        "      self.modes[i] = mode"
      ],
      "execution_count": 0,
      "outputs": []
    },
    {
      "cell_type": "markdown",
      "metadata": {
        "id": "TrT7qcXXCzs9",
        "colab_type": "text"
      },
      "source": [
        "## Supervisor Model"
      ]
    },
    {
      "cell_type": "code",
      "metadata": {
        "id": "U0kFFvA0Cerk",
        "colab_type": "code",
        "colab": {}
      },
      "source": [
        " class supervisor:\n",
        "    def switch(self, Plant, l13, l23):\n",
        "    # Supervisory Logic for Robot 3, where it can detect robots 1 & 2\n",
        "    # based on Section 3.1\n",
        "      b1 = ((l13 < l23) and (l23 > Plant.r[0]) and\n",
        "            (l13 < Plant.r[1]) )\n",
        "      b2 = ((l13 > l23) and (l13 > Plant.r[0]) and\n",
        "            (l23 < Plant.r[1]) )\n",
        "      b3 = (l13 < Plant.r[0]) and (l23 < Plant.r[0])\n",
        "      b4 = (l13 > Plant.r[1]) and (l23 > Plant.r[1])\n",
        "      if b1: return 1\n",
        "      elif b2: return 2\n",
        "      elif b3: return 3\n",
        "      elif b4: return 4"
      ],
      "execution_count": 0,
      "outputs": []
    },
    {
      "cell_type": "markdown",
      "metadata": {
        "id": "mATX1kF73Jhl",
        "colab_type": "text"
      },
      "source": [
        "## Propagate plant to simulate supervisor\n",
        "Not used in training, only to visualize plant behaviour"
      ]
    },
    {
      "cell_type": "code",
      "metadata": {
        "id": "1YvD-Kz-y0xz",
        "colab_type": "code",
        "colab": {}
      },
      "source": [
        "# Initial parameters for running plant \n",
        "# r = np.array([0.5, 1.2, 2])\n",
        "r = np.array([0.75, 1.2, 2])\n",
        "ROBOTS = PLANT(r)\n",
        "tSim = 30\n",
        "SUPER = supervisor()\n",
        "tHISTORY = np.zeros((int(tSim/ROBOTS.dt)+1,1))\n",
        "xHISTORY = np.zeros((tHISTORY.size,3))\n",
        "yHISTORY = np.zeros_like(xHISTORY)\n",
        "thetaHISTORY = np.zeros_like(xHISTORY)\n",
        "modeHISTORY = np.zeros_like(tHISTORY)\n",
        "for t in range(tHISTORY.size):\n",
        "# Looping across time\n",
        "  for i in range(3):\n",
        "    # Looping over robots\n",
        "    xHISTORY[t][i] = ROBOTS.x[i]\n",
        "    yHISTORY[t][i] = ROBOTS.y[i]\n",
        "    thetaHISTORY[t][i] = ROBOTS.theta[i]\n",
        "    modeHISTORY[t] = ROBOTS.modes[2]\n",
        "    tHISTORY[t] = ROBOTS.t\n",
        "    ROBOTS.propagate(SUPER,i)\n",
        "  ROBOTS.t += ROBOTS.dt"
      ],
      "execution_count": 0,
      "outputs": []
    },
    {
      "cell_type": "code",
      "metadata": {
        "id": "dv7BY4hadyAQ",
        "colab_type": "code",
        "colab": {}
      },
      "source": [
        "def modePlotter(modeHISTORY, filename, saveTag=False):\n",
        "  # Plotting mode change for Robot 3\n",
        "  plt.plot(tHISTORY, modeHISTORY)\n",
        "  if saveTag:\n",
        "    plt.savefig(filename)\n",
        "    files.download(filename)\n",
        "  plt.show()\n",
        "\n",
        "def trajectoryPlotter(xHISTORY, yHISTORY, filename, saveTag=False):\n",
        "  # Plotting trajectories:\n",
        "  colors = ['k-','g-','r:']\n",
        "  for j in range(3):\n",
        "    plt.plot(xHISTORY[0,j], yHISTORY[0,j], 'ko')\n",
        "    plt.plot(xHISTORY[-1,j], yHISTORY[-1,j], 'ko')\n",
        "\n",
        "  for i in range(3):\n",
        "    plt.plot( xHISTORY[:,i], yHISTORY[:,i],\n",
        "            colors[i], \n",
        "            label = \"Robot \"+str(i+1))\n",
        "  plt.xlim(-8,8)\n",
        "  plt.ylim(-0.2,14)\n",
        "  plt.grid(True)\n",
        "  plt.axis('scaled')\n",
        "  plt.legend(loc='upper left')\n",
        "  plt.title('Robot trajectories over time')\n",
        "  plt.xlabel(\"$x$\")\n",
        "  plt.ylabel(\"$y$\")\n",
        "  if saveTag:\n",
        "    plt.savefig(filename)\n",
        "    files.download(filename)\n",
        "  plt.show()\n"
      ],
      "execution_count": 0,
      "outputs": []
    },
    {
      "cell_type": "code",
      "metadata": {
        "id": "xoPEH--vFdyI",
        "colab_type": "code",
        "outputId": "ae7eaad3-12f2-4edc-a54d-62e7c298abe6",
        "colab": {
          "base_uri": "https://localhost:8080/",
          "height": 143
        }
      },
      "source": [
        "from google.colab import drive\n",
        "drive.mount('/content/drive')\n",
        "from google.colab import files\n",
        "!pwd\n"
      ],
      "execution_count": 0,
      "outputs": [
        {
          "output_type": "stream",
          "text": [
            "Go to this URL in a browser: https://accounts.google.com/o/oauth2/auth?client_id=947318989803-6bn6qk8qdgf4n4g3pfee6491hc0brc4i.apps.googleusercontent.com&redirect_uri=urn%3Aietf%3Awg%3Aoauth%3A2.0%3Aoob&scope=email%20https%3A%2F%2Fwww.googleapis.com%2Fauth%2Fdocs.test%20https%3A%2F%2Fwww.googleapis.com%2Fauth%2Fdrive%20https%3A%2F%2Fwww.googleapis.com%2Fauth%2Fdrive.photos.readonly%20https%3A%2F%2Fwww.googleapis.com%2Fauth%2Fpeopleapi.readonly&response_type=code\n",
            "\n",
            "Enter your authorization code:\n",
            "··········\n",
            "Mounted at /content/drive\n",
            "/content\n"
          ],
          "name": "stdout"
        }
      ]
    },
    {
      "cell_type": "code",
      "metadata": {
        "id": "hqZ59G1rG5nG",
        "colab_type": "code",
        "outputId": "0d07e1e7-c8dc-416d-e1eb-548f78cc9eb0",
        "colab": {
          "base_uri": "https://localhost:8080/",
          "height": 546
        }
      },
      "source": [
        "modePlotter(modeHISTORY, \"modes1.eps\")\n",
        "# files.download(\"modes1.eps\")\n",
        "\n",
        "trajectoryPlotter(xHISTORY, yHISTORY, \"traj1.eps\")\n",
        "# files.download(\"traj1.eps\")\n"
      ],
      "execution_count": 0,
      "outputs": [
        {
          "output_type": "display_data",
          "data": {
            "image/png": "[encoded data removed]",
            "text/plain": [
              "<Figure size 432x288 with 1 Axes>"
            ]
          },
          "metadata": {
            "tags": []
          }
        },
        {
          "output_type": "display_data",
          "data": {
            "image/png": "[encoded data removed]",
            "text/plain": [
              "<Figure size 432x288 with 1 Axes>"
            ]
          },
          "metadata": {
            "tags": []
          }
        }
      ]
    },
    {
      "cell_type": "markdown",
      "metadata": {
        "id": "9Jjezam53UGE",
        "colab_type": "text"
      },
      "source": [
        "\n",
        "plt.savefig(\"modes1.eps\")\n",
        "files.download('modes1.eps')\n",
        "# Building Statistical model of Supervisory logic"
      ]
    },
    {
      "cell_type": "markdown",
      "metadata": {
        "id": "KC4Mo3zz4Dvl",
        "colab_type": "text"
      },
      "source": [
        "## Making Queries to the Supervisor object"
      ]
    },
    {
      "cell_type": "code",
      "metadata": {
        "id": "v-0RRNwYNgRT",
        "colab_type": "code",
        "outputId": "8ae2f9bc-92b1-4c04-eb1e-bd05c775e02f",
        "colab": {
          "base_uri": "https://localhost:8080/",
          "height": 34
        }
      },
      "source": [
        "#Import necessary packages\n",
        "import numpy as np\n",
        "import keras\n",
        "import tensorflow as tf\n",
        "from keras.datasets import mnist\n",
        "from keras.layers import Dense, Dropout\n",
        "from keras.models import Sequential\n",
        "import matplotlib.pyplot as plt\n",
        "from keras import backend as K"
      ],
      "execution_count": 0,
      "outputs": [
        {
          "output_type": "stream",
          "text": [
            "Using TensorFlow backend.\n"
          ],
          "name": "stderr"
        }
      ]
    },
    {
      "cell_type": "code",
      "metadata": {
        "id": "mh27QxSN0IGZ",
        "colab_type": "code",
        "outputId": "9701b78d-8194-44da-a17b-6e9269657a07",
        "colab": {
          "base_uri": "https://localhost:8080/",
          "height": 87
        }
      },
      "source": [
        "# Making Queries to the Supervisor\n",
        "SUPER2 = supervisor()\n",
        "DUMMY = PLANT(r)    # Using same 'r' as that is a sensor property and can be easily found\n",
        "nDim = 2\n",
        "nModes = 4\n",
        "# mean = np.zeros(nDim)\n",
        "# cov = np.eye(nDim)*100\n",
        "Low = 0\n",
        "High = 3\n",
        "nQueries = 500\n",
        "# Collecting data from Queries\n",
        "data = np.zeros((nQueries, nDim))\n",
        "labels = np.zeros(nQueries)\n",
        "counts = np.empty((nModes, 1))\n",
        "\n",
        "for i in range(nQueries):\n",
        "  data[i,:] = np.random.uniform(low = Low, high = High, size = (1,2))\n",
        "  s = SUPER2.switch(DUMMY, data[i,0], data[i,1])\n",
        "  if s == 1: \n",
        "    counts[s-1]+=1\n",
        "  elif s==2:\n",
        "    counts[s-1]+=1\n",
        "  elif s==3:\n",
        "    counts[s-1]+=1\n",
        "  else: counts[s-1]+=1\n",
        "  labels[i] = s-1  # Because label 0 = mode 1 and so on\n",
        "\n",
        "print(counts)\n",
        "\n",
        "k = np.random.choice(nQueries)\n",
        "# Converting labels to one-hot-vectors\n",
        "_labels = keras.utils.np_utils.to_categorical(labels, num_classes=4)\n",
        "# Splitting dataset\n",
        "split = int(0.75*nQueries)\n",
        "data_train = data[0:split,:]\n",
        "labels_train = _labels[0:split,:]\n",
        "data_test = data[split:,:]\n",
        "labels_test = _labels[split:,:]\n"
      ],
      "execution_count": 0,
      "outputs": [
        {
          "output_type": "stream",
          "text": [
            "[[131.        ]\n",
            " [142.        ]\n",
            " [218.97501839]\n",
            " [479.84      ]]\n"
          ],
          "name": "stdout"
        }
      ]
    },
    {
      "cell_type": "markdown",
      "metadata": {
        "id": "bU0OgI4M4Ftj",
        "colab_type": "text"
      },
      "source": [
        "## Defining Neural Network Architecture"
      ]
    },
    {
      "cell_type": "code",
      "metadata": {
        "id": "4oTfSSFm29Ri",
        "colab_type": "code",
        "colab": {}
      },
      "source": [
        "def NN_arch():\n",
        "  model = Sequential()\n",
        "\n",
        "  # Input Layer: accepts nDim number of inputs\n",
        "  model.add(Dense(units = nDim, \n",
        "                  use_bias = True))\n",
        "                  # kernel_initializer = \"uniform\"))\n",
        "  # Second Layer \n",
        "  model.add(Dense(units = 8,\n",
        "                  use_bias = True,\n",
        "                  # kernel_initializer = \"uniform\",\n",
        "                  activation = \"relu\"))\n",
        "  # model.add(Dropout(0.10))\n",
        "\n",
        "  # Third Layer \n",
        "  # model.add(Dense(units = 5,\n",
        "  #                 use_bias = True,\n",
        "  #                 # kernel_initializer = \"uniform\",\n",
        "                  # activation = \"relu\"))\n",
        "  # model.add(Dropout(0.10))\n",
        "\n",
        "  # Output Layer with 4 units\n",
        "  model.add(Dense(units = nModes,\n",
        "                  activation = \"softmax\"))\n",
        "  return model"
      ],
      "execution_count": 0,
      "outputs": []
    },
    {
      "cell_type": "markdown",
      "metadata": {
        "id": "fy1oUJAqER8i",
        "colab_type": "text"
      },
      "source": [
        "## Training model"
      ]
    },
    {
      "cell_type": "markdown",
      "metadata": {
        "id": "RUGcBZNdKz1x",
        "colab_type": "text"
      },
      "source": [
        "### Building Model"
      ]
    },
    {
      "cell_type": "code",
      "metadata": {
        "id": "Ooj7kAO-EUQa",
        "colab_type": "code",
        "outputId": "65f7230c-86ca-4e7f-fe38-2eeb014c1325",
        "colab": {
          "base_uri": "https://localhost:8080/",
          "height": 410
        }
      },
      "source": [
        "supervisorApprox = NN_arch()\n",
        "supervisorApprox.build((None, nDim))\n",
        "print(supervisorApprox.summary())"
      ],
      "execution_count": 0,
      "outputs": [
        {
          "output_type": "stream",
          "text": [
            "WARNING:tensorflow:From /usr/local/lib/python3.6/dist-packages/keras/backend/tensorflow_backend.py:66: The name tf.get_default_graph is deprecated. Please use tf.compat.v1.get_default_graph instead.\n",
            "\n",
            "WARNING:tensorflow:From /usr/local/lib/python3.6/dist-packages/keras/backend/tensorflow_backend.py:541: The name tf.placeholder is deprecated. Please use tf.compat.v1.placeholder instead.\n",
            "\n",
            "WARNING:tensorflow:From /usr/local/lib/python3.6/dist-packages/keras/backend/tensorflow_backend.py:4432: The name tf.random_uniform is deprecated. Please use tf.random.uniform instead.\n",
            "\n",
            "Model: \"sequential_1\"\n",
            "_________________________________________________________________\n",
            "Layer (type)                 Output Shape              Param #   \n",
            "=================================================================\n",
            "dense_1 (Dense)              (None, 2)                 6         \n",
            "_________________________________________________________________\n",
            "dense_2 (Dense)              (None, 8)                 24        \n",
            "_________________________________________________________________\n",
            "dense_3 (Dense)              (None, 4)                 36        \n",
            "=================================================================\n",
            "Total params: 66\n",
            "Trainable params: 66\n",
            "Non-trainable params: 0\n",
            "_________________________________________________________________\n",
            "None\n"
          ],
          "name": "stdout"
        }
      ]
    },
    {
      "cell_type": "markdown",
      "metadata": {
        "id": "bJckMDL9K2Ub",
        "colab_type": "text"
      },
      "source": [
        "### Training model"
      ]
    },
    {
      "cell_type": "code",
      "metadata": {
        "id": "angXvmYEK29l",
        "colab_type": "code",
        "outputId": "9e84a05b-7fb8-49a1-bec7-3b36ee4965d6",
        "colab": {
          "base_uri": "https://localhost:8080/",
          "height": 1000
        }
      },
      "source": [
        "supervisorApprox.compile(loss=\"mean_squared_error\", \n",
        "                    optimizer = \"adam\", \n",
        "                    metrics = ['accuracy'])\n",
        "supervisorApprox_metaData = supervisorApprox.fit(\n",
        "                data_train, labels_train, \n",
        "                validation_data = (data_test, labels_test), \n",
        "                epochs = 100, \n",
        "                batch_size = 5, \n",
        "                shuffle = True)\n",
        "#Print accuracy of model on testing set after training \n",
        "scores = supervisorApprox.evaluate(data_test, labels_test)\n",
        "print(\"Accuracy: %0.4f%%\" %(scores[1]*100) )"
      ],
      "execution_count": 0,
      "outputs": [
        {
          "output_type": "stream",
          "text": [
            "WARNING:tensorflow:From /usr/local/lib/python3.6/dist-packages/keras/optimizers.py:793: The name tf.train.Optimizer is deprecated. Please use tf.compat.v1.train.Optimizer instead.\n",
            "\n",
            "WARNING:tensorflow:From /usr/local/lib/python3.6/dist-packages/keras/backend/tensorflow_backend.py:1033: The name tf.assign_add is deprecated. Please use tf.compat.v1.assign_add instead.\n",
            "\n",
            "WARNING:tensorflow:From /usr/local/lib/python3.6/dist-packages/keras/backend/tensorflow_backend.py:1020: The name tf.assign is deprecated. Please use tf.compat.v1.assign instead.\n",
            "\n",
            "WARNING:tensorflow:From /usr/local/lib/python3.6/dist-packages/keras/backend/tensorflow_backend.py:3005: The name tf.Session is deprecated. Please use tf.compat.v1.Session instead.\n",
            "\n",
            "Train on 375 samples, validate on 125 samples\n",
            "Epoch 1/100\n",
            "WARNING:tensorflow:From /usr/local/lib/python3.6/dist-packages/keras/backend/tensorflow_backend.py:190: The name tf.get_default_session is deprecated. Please use tf.compat.v1.get_default_session instead.\n",
            "\n",
            "WARNING:tensorflow:From /usr/local/lib/python3.6/dist-packages/keras/backend/tensorflow_backend.py:197: The name tf.ConfigProto is deprecated. Please use tf.compat.v1.ConfigProto instead.\n",
            "\n",
            "WARNING:tensorflow:From /usr/local/lib/python3.6/dist-packages/keras/backend/tensorflow_backend.py:207: The name tf.global_variables is deprecated. Please use tf.compat.v1.global_variables instead.\n",
            "\n",
            "WARNING:tensorflow:From /usr/local/lib/python3.6/dist-packages/keras/backend/tensorflow_backend.py:216: The name tf.is_variable_initialized is deprecated. Please use tf.compat.v1.is_variable_initialized instead.\n",
            "\n",
            "WARNING:tensorflow:From /usr/local/lib/python3.6/dist-packages/keras/backend/tensorflow_backend.py:223: The name tf.variables_initializer is deprecated. Please use tf.compat.v1.variables_initializer instead.\n",
            "\n",
            "375/375 [==============================] - 1s 3ms/step - loss: 0.1311 - acc: 0.7040 - val_loss: 0.1104 - val_acc: 0.7760\n",
            "Epoch 2/100\n",
            "375/375 [==============================] - 0s 231us/step - loss: 0.1087 - acc: 0.7333 - val_loss: 0.0927 - val_acc: 0.8160\n",
            "Epoch 3/100\n",
            "375/375 [==============================] - 0s 248us/step - loss: 0.0948 - acc: 0.7573 - val_loss: 0.0829 - val_acc: 0.8400\n",
            "Epoch 4/100\n",
            "375/375 [==============================] - 0s 306us/step - loss: 0.0858 - acc: 0.7760 - val_loss: 0.0750 - val_acc: 0.8240\n",
            "Epoch 5/100\n",
            "375/375 [==============================] - 0s 265us/step - loss: 0.0793 - acc: 0.7813 - val_loss: 0.0700 - val_acc: 0.8080\n",
            "Epoch 6/100\n",
            "375/375 [==============================] - 0s 288us/step - loss: 0.0745 - acc: 0.8027 - val_loss: 0.0653 - val_acc: 0.8080\n",
            "Epoch 7/100\n",
            "375/375 [==============================] - 0s 253us/step - loss: 0.0712 - acc: 0.8053 - val_loss: 0.0620 - val_acc: 0.8080\n",
            "Epoch 8/100\n",
            "375/375 [==============================] - 0s 252us/step - loss: 0.0682 - acc: 0.8133 - val_loss: 0.0598 - val_acc: 0.8160\n",
            "Epoch 9/100\n",
            "375/375 [==============================] - 0s 237us/step - loss: 0.0658 - acc: 0.8107 - val_loss: 0.0575 - val_acc: 0.8240\n",
            "Epoch 10/100\n",
            "375/375 [==============================] - 0s 247us/step - loss: 0.0637 - acc: 0.8187 - val_loss: 0.0553 - val_acc: 0.8320\n",
            "Epoch 11/100\n",
            "375/375 [==============================] - 0s 254us/step - loss: 0.0622 - acc: 0.8160 - val_loss: 0.0538 - val_acc: 0.8560\n",
            "Epoch 12/100\n",
            "375/375 [==============================] - 0s 227us/step - loss: 0.0604 - acc: 0.8267 - val_loss: 0.0531 - val_acc: 0.8400\n",
            "Epoch 13/100\n",
            "375/375 [==============================] - 0s 237us/step - loss: 0.0591 - acc: 0.8347 - val_loss: 0.0521 - val_acc: 0.8400\n",
            "Epoch 14/100\n",
            "375/375 [==============================] - 0s 227us/step - loss: 0.0577 - acc: 0.8347 - val_loss: 0.0507 - val_acc: 0.8400\n",
            "Epoch 15/100\n",
            "375/375 [==============================] - 0s 239us/step - loss: 0.0565 - acc: 0.8453 - val_loss: 0.0483 - val_acc: 0.8720\n",
            "Epoch 16/100\n",
            "375/375 [==============================] - 0s 247us/step - loss: 0.0554 - acc: 0.8373 - val_loss: 0.0474 - val_acc: 0.8640\n",
            "Epoch 17/100\n",
            "375/375 [==============================] - 0s 246us/step - loss: 0.0539 - acc: 0.8400 - val_loss: 0.0460 - val_acc: 0.8960\n",
            "Epoch 18/100\n",
            "375/375 [==============================] - 0s 249us/step - loss: 0.0524 - acc: 0.8533 - val_loss: 0.0458 - val_acc: 0.8640\n",
            "Epoch 19/100\n",
            "375/375 [==============================] - 0s 256us/step - loss: 0.0504 - acc: 0.8613 - val_loss: 0.0438 - val_acc: 0.8880\n",
            "Epoch 20/100\n",
            "375/375 [==============================] - 0s 253us/step - loss: 0.0487 - acc: 0.8720 - val_loss: 0.0426 - val_acc: 0.8720\n",
            "Epoch 21/100\n",
            "375/375 [==============================] - 0s 238us/step - loss: 0.0467 - acc: 0.8960 - val_loss: 0.0406 - val_acc: 0.9120\n",
            "Epoch 22/100\n",
            "375/375 [==============================] - 0s 248us/step - loss: 0.0450 - acc: 0.8960 - val_loss: 0.0388 - val_acc: 0.9280\n",
            "Epoch 23/100\n",
            "375/375 [==============================] - 0s 231us/step - loss: 0.0436 - acc: 0.8987 - val_loss: 0.0373 - val_acc: 0.9280\n",
            "Epoch 24/100\n",
            "375/375 [==============================] - 0s 284us/step - loss: 0.0417 - acc: 0.9093 - val_loss: 0.0361 - val_acc: 0.9520\n",
            "Epoch 25/100\n",
            "375/375 [==============================] - 0s 247us/step - loss: 0.0395 - acc: 0.9227 - val_loss: 0.0343 - val_acc: 0.9440\n",
            "Epoch 26/100\n",
            "375/375 [==============================] - 0s 237us/step - loss: 0.0376 - acc: 0.9253 - val_loss: 0.0329 - val_acc: 0.9440\n",
            "Epoch 27/100\n",
            "375/375 [==============================] - 0s 261us/step - loss: 0.0362 - acc: 0.9280 - val_loss: 0.0333 - val_acc: 0.9440\n",
            "Epoch 28/100\n",
            "375/375 [==============================] - 0s 227us/step - loss: 0.0352 - acc: 0.9333 - val_loss: 0.0320 - val_acc: 0.9440\n",
            "Epoch 29/100\n",
            "375/375 [==============================] - 0s 290us/step - loss: 0.0341 - acc: 0.9360 - val_loss: 0.0300 - val_acc: 0.9520\n",
            "Epoch 30/100\n",
            "375/375 [==============================] - 0s 238us/step - loss: 0.0329 - acc: 0.9440 - val_loss: 0.0304 - val_acc: 0.9600\n",
            "Epoch 31/100\n",
            "375/375 [==============================] - 0s 225us/step - loss: 0.0323 - acc: 0.9440 - val_loss: 0.0291 - val_acc: 0.9600\n",
            "Epoch 32/100\n",
            "375/375 [==============================] - 0s 238us/step - loss: 0.0314 - acc: 0.9493 - val_loss: 0.0276 - val_acc: 0.9520\n",
            "Epoch 33/100\n",
            "375/375 [==============================] - 0s 237us/step - loss: 0.0311 - acc: 0.9467 - val_loss: 0.0265 - val_acc: 0.9520\n",
            "Epoch 34/100\n",
            "375/375 [==============================] - 0s 226us/step - loss: 0.0297 - acc: 0.9493 - val_loss: 0.0273 - val_acc: 0.9600\n",
            "Epoch 35/100\n",
            "375/375 [==============================] - 0s 240us/step - loss: 0.0291 - acc: 0.9467 - val_loss: 0.0253 - val_acc: 0.9680\n",
            "Epoch 36/100\n",
            "375/375 [==============================] - 0s 265us/step - loss: 0.0286 - acc: 0.9493 - val_loss: 0.0258 - val_acc: 0.9600\n",
            "Epoch 37/100\n",
            "375/375 [==============================] - 0s 279us/step - loss: 0.0281 - acc: 0.9547 - val_loss: 0.0250 - val_acc: 0.9600\n",
            "Epoch 38/100\n",
            "375/375 [==============================] - 0s 234us/step - loss: 0.0272 - acc: 0.9627 - val_loss: 0.0248 - val_acc: 0.9600\n",
            "Epoch 39/100\n",
            "375/375 [==============================] - 0s 255us/step - loss: 0.0268 - acc: 0.9520 - val_loss: 0.0248 - val_acc: 0.9520\n",
            "Epoch 40/100\n",
            "375/375 [==============================] - 0s 249us/step - loss: 0.0263 - acc: 0.9600 - val_loss: 0.0232 - val_acc: 0.9760\n",
            "Epoch 41/100\n",
            "375/375 [==============================] - 0s 250us/step - loss: 0.0260 - acc: 0.9627 - val_loss: 0.0232 - val_acc: 0.9600\n",
            "Epoch 42/100\n",
            "375/375 [==============================] - 0s 242us/step - loss: 0.0254 - acc: 0.9627 - val_loss: 0.0241 - val_acc: 0.9440\n",
            "Epoch 43/100\n",
            "375/375 [==============================] - 0s 243us/step - loss: 0.0253 - acc: 0.9573 - val_loss: 0.0233 - val_acc: 0.9600\n",
            "Epoch 44/100\n",
            "375/375 [==============================] - 0s 238us/step - loss: 0.0246 - acc: 0.9627 - val_loss: 0.0220 - val_acc: 0.9600\n",
            "Epoch 45/100\n",
            "375/375 [==============================] - 0s 250us/step - loss: 0.0245 - acc: 0.9627 - val_loss: 0.0220 - val_acc: 0.9600\n",
            "Epoch 46/100\n",
            "375/375 [==============================] - 0s 229us/step - loss: 0.0242 - acc: 0.9600 - val_loss: 0.0215 - val_acc: 0.9600\n",
            "Epoch 47/100\n",
            "375/375 [==============================] - 0s 225us/step - loss: 0.0235 - acc: 0.9653 - val_loss: 0.0213 - val_acc: 0.9760\n",
            "Epoch 48/100\n",
            "375/375 [==============================] - 0s 301us/step - loss: 0.0231 - acc: 0.9600 - val_loss: 0.0210 - val_acc: 0.9600\n",
            "Epoch 49/100\n",
            "375/375 [==============================] - 0s 278us/step - loss: 0.0231 - acc: 0.9600 - val_loss: 0.0205 - val_acc: 0.9760\n",
            "Epoch 50/100\n",
            "375/375 [==============================] - 0s 237us/step - loss: 0.0227 - acc: 0.9627 - val_loss: 0.0205 - val_acc: 0.9600\n",
            "Epoch 51/100\n",
            "375/375 [==============================] - 0s 223us/step - loss: 0.0222 - acc: 0.9680 - val_loss: 0.0202 - val_acc: 0.9680\n",
            "Epoch 52/100\n",
            "375/375 [==============================] - 0s 219us/step - loss: 0.0221 - acc: 0.9680 - val_loss: 0.0206 - val_acc: 0.9600\n",
            "Epoch 53/100\n",
            "375/375 [==============================] - 0s 232us/step - loss: 0.0218 - acc: 0.9680 - val_loss: 0.0204 - val_acc: 0.9520\n",
            "Epoch 54/100\n",
            "375/375 [==============================] - 0s 264us/step - loss: 0.0217 - acc: 0.9707 - val_loss: 0.0194 - val_acc: 0.9760\n",
            "Epoch 55/100\n",
            "375/375 [==============================] - 0s 278us/step - loss: 0.0216 - acc: 0.9627 - val_loss: 0.0191 - val_acc: 0.9840\n",
            "Epoch 56/100\n",
            "375/375 [==============================] - 0s 233us/step - loss: 0.0211 - acc: 0.9760 - val_loss: 0.0191 - val_acc: 0.9760\n",
            "Epoch 57/100\n",
            "375/375 [==============================] - 0s 254us/step - loss: 0.0208 - acc: 0.9653 - val_loss: 0.0188 - val_acc: 0.9840\n",
            "Epoch 58/100\n",
            "375/375 [==============================] - 0s 245us/step - loss: 0.0208 - acc: 0.9787 - val_loss: 0.0188 - val_acc: 0.9760\n",
            "Epoch 59/100\n",
            "375/375 [==============================] - 0s 249us/step - loss: 0.0208 - acc: 0.9653 - val_loss: 0.0190 - val_acc: 0.9520\n",
            "Epoch 60/100\n",
            "375/375 [==============================] - 0s 237us/step - loss: 0.0201 - acc: 0.9787 - val_loss: 0.0182 - val_acc: 0.9680\n",
            "Epoch 61/100\n",
            "375/375 [==============================] - 0s 247us/step - loss: 0.0200 - acc: 0.9627 - val_loss: 0.0183 - val_acc: 0.9680\n",
            "Epoch 62/100\n",
            "375/375 [==============================] - 0s 242us/step - loss: 0.0197 - acc: 0.9760 - val_loss: 0.0180 - val_acc: 0.9760\n",
            "Epoch 63/100\n",
            "375/375 [==============================] - 0s 254us/step - loss: 0.0195 - acc: 0.9787 - val_loss: 0.0180 - val_acc: 0.9680\n",
            "Epoch 64/100\n",
            "375/375 [==============================] - 0s 235us/step - loss: 0.0192 - acc: 0.9760 - val_loss: 0.0175 - val_acc: 0.9840\n",
            "Epoch 65/100\n",
            "375/375 [==============================] - 0s 250us/step - loss: 0.0193 - acc: 0.9733 - val_loss: 0.0178 - val_acc: 0.9680\n",
            "Epoch 66/100\n",
            "375/375 [==============================] - 0s 244us/step - loss: 0.0192 - acc: 0.9707 - val_loss: 0.0181 - val_acc: 0.9520\n",
            "Epoch 67/100\n",
            "375/375 [==============================] - 0s 236us/step - loss: 0.0192 - acc: 0.9813 - val_loss: 0.0172 - val_acc: 0.9760\n",
            "Epoch 68/100\n",
            "375/375 [==============================] - 0s 276us/step - loss: 0.0186 - acc: 0.9813 - val_loss: 0.0172 - val_acc: 0.9760\n",
            "Epoch 69/100\n",
            "375/375 [==============================] - 0s 235us/step - loss: 0.0184 - acc: 0.9787 - val_loss: 0.0174 - val_acc: 0.9680\n",
            "Epoch 70/100\n",
            "375/375 [==============================] - 0s 268us/step - loss: 0.0184 - acc: 0.9760 - val_loss: 0.0168 - val_acc: 0.9760\n",
            "Epoch 71/100\n",
            "375/375 [==============================] - 0s 250us/step - loss: 0.0183 - acc: 0.9787 - val_loss: 0.0168 - val_acc: 0.9760\n",
            "Epoch 72/100\n",
            "375/375 [==============================] - 0s 233us/step - loss: 0.0182 - acc: 0.9760 - val_loss: 0.0167 - val_acc: 0.9680\n",
            "Epoch 73/100\n",
            "375/375 [==============================] - 0s 226us/step - loss: 0.0179 - acc: 0.9813 - val_loss: 0.0167 - val_acc: 0.9600\n",
            "Epoch 74/100\n",
            "375/375 [==============================] - 0s 248us/step - loss: 0.0179 - acc: 0.9733 - val_loss: 0.0168 - val_acc: 0.9600\n",
            "Epoch 75/100\n",
            "375/375 [==============================] - 0s 229us/step - loss: 0.0176 - acc: 0.9840 - val_loss: 0.0161 - val_acc: 0.9600\n",
            "Epoch 76/100\n",
            "375/375 [==============================] - 0s 245us/step - loss: 0.0175 - acc: 0.9707 - val_loss: 0.0162 - val_acc: 0.9680\n",
            "Epoch 77/100\n",
            "375/375 [==============================] - 0s 230us/step - loss: 0.0174 - acc: 0.9787 - val_loss: 0.0158 - val_acc: 0.9840\n",
            "Epoch 78/100\n",
            "375/375 [==============================] - 0s 250us/step - loss: 0.0172 - acc: 0.9787 - val_loss: 0.0160 - val_acc: 0.9840\n",
            "Epoch 79/100\n",
            "375/375 [==============================] - 0s 277us/step - loss: 0.0172 - acc: 0.9787 - val_loss: 0.0160 - val_acc: 0.9680\n",
            "Epoch 80/100\n",
            "375/375 [==============================] - 0s 264us/step - loss: 0.0172 - acc: 0.9787 - val_loss: 0.0156 - val_acc: 0.9840\n",
            "Epoch 81/100\n",
            "375/375 [==============================] - 0s 291us/step - loss: 0.0173 - acc: 0.9813 - val_loss: 0.0154 - val_acc: 0.9680\n",
            "Epoch 82/100\n",
            "375/375 [==============================] - 0s 259us/step - loss: 0.0168 - acc: 0.9760 - val_loss: 0.0155 - val_acc: 0.9760\n",
            "Epoch 83/100\n",
            "375/375 [==============================] - 0s 238us/step - loss: 0.0165 - acc: 0.9707 - val_loss: 0.0174 - val_acc: 0.9520\n",
            "Epoch 84/100\n",
            "375/375 [==============================] - 0s 293us/step - loss: 0.0171 - acc: 0.9733 - val_loss: 0.0153 - val_acc: 0.9840\n",
            "Epoch 85/100\n",
            "375/375 [==============================] - 0s 278us/step - loss: 0.0163 - acc: 0.9813 - val_loss: 0.0152 - val_acc: 0.9600\n",
            "Epoch 86/100\n",
            "375/375 [==============================] - 0s 237us/step - loss: 0.0166 - acc: 0.9760 - val_loss: 0.0155 - val_acc: 0.9680\n",
            "Epoch 87/100\n",
            "375/375 [==============================] - 0s 243us/step - loss: 0.0169 - acc: 0.9813 - val_loss: 0.0150 - val_acc: 0.9840\n",
            "Epoch 88/100\n",
            "375/375 [==============================] - 0s 239us/step - loss: 0.0168 - acc: 0.9787 - val_loss: 0.0148 - val_acc: 0.9840\n",
            "Epoch 89/100\n",
            "375/375 [==============================] - 0s 257us/step - loss: 0.0160 - acc: 0.9733 - val_loss: 0.0162 - val_acc: 0.9600\n",
            "Epoch 90/100\n",
            "375/375 [==============================] - 0s 244us/step - loss: 0.0163 - acc: 0.9813 - val_loss: 0.0156 - val_acc: 0.9680\n",
            "Epoch 91/100\n",
            "375/375 [==============================] - 0s 235us/step - loss: 0.0164 - acc: 0.9707 - val_loss: 0.0146 - val_acc: 0.9680\n",
            "Epoch 92/100\n",
            "375/375 [==============================] - 0s 248us/step - loss: 0.0159 - acc: 0.9867 - val_loss: 0.0146 - val_acc: 0.9760\n",
            "Epoch 93/100\n",
            "375/375 [==============================] - 0s 277us/step - loss: 0.0159 - acc: 0.9787 - val_loss: 0.0149 - val_acc: 0.9760\n",
            "Epoch 94/100\n",
            "375/375 [==============================] - 0s 276us/step - loss: 0.0156 - acc: 0.9840 - val_loss: 0.0143 - val_acc: 0.9840\n",
            "Epoch 95/100\n",
            "375/375 [==============================] - 0s 246us/step - loss: 0.0159 - acc: 0.9760 - val_loss: 0.0154 - val_acc: 0.9600\n",
            "Epoch 96/100\n",
            "375/375 [==============================] - 0s 244us/step - loss: 0.0156 - acc: 0.9707 - val_loss: 0.0143 - val_acc: 0.9840\n",
            "Epoch 97/100\n",
            "375/375 [==============================] - 0s 234us/step - loss: 0.0153 - acc: 0.9867 - val_loss: 0.0153 - val_acc: 0.9600\n",
            "Epoch 98/100\n",
            "375/375 [==============================] - 0s 273us/step - loss: 0.0160 - acc: 0.9760 - val_loss: 0.0142 - val_acc: 0.9760\n",
            "Epoch 99/100\n",
            "375/375 [==============================] - 0s 298us/step - loss: 0.0155 - acc: 0.9680 - val_loss: 0.0140 - val_acc: 0.9840\n",
            "Epoch 100/100\n",
            "375/375 [==============================] - 0s 234us/step - loss: 0.0152 - acc: 0.9787 - val_loss: 0.0141 - val_acc: 0.9760\n",
            "125/125 [==============================] - 0s 36us/step\n",
            "Accuracy: 97.6000%\n"
          ],
          "name": "stdout"
        }
      ]
    },
    {
      "cell_type": "markdown",
      "metadata": {
        "id": "EqkiZ6eq40Sd",
        "colab_type": "text"
      },
      "source": [
        "## Model performance"
      ]
    },
    {
      "cell_type": "markdown",
      "metadata": {
        "id": "I6_y_C4CRNLw",
        "colab_type": "text"
      },
      "source": [
        "### Model Performance Plots"
      ]
    },
    {
      "cell_type": "code",
      "metadata": {
        "id": "5E8RuHsSPPe0",
        "colab_type": "code",
        "outputId": "ae6bf3ab-2dde-4a2f-c3bf-1d4f2cae1910",
        "colab": {
          "base_uri": "https://localhost:8080/",
          "height": 573
        }
      },
      "source": [
        "#Plot accuracy vs epoch\n",
        "plt.plot(supervisorApprox_metaData.history['acc'], label = 'train')\n",
        "plt.plot(supervisorApprox_metaData.history['val_acc'], label = 'test')\n",
        "plt.title('Supervisor Approximator Accuracy v/s Epoch')\n",
        "plt.xlabel('# Epoch')\n",
        "plt.ylabel('Accuracy')\n",
        "plt.legend(loc = 'lower right')\n",
        "# plt.ylim(0, 1.1)\n",
        "plt.show()\n",
        "\n",
        "#Plot loss vs epoch\n",
        "plt.plot(supervisorApprox_metaData.history['loss'], label = 'train')\n",
        "plt.plot(supervisorApprox_metaData.history['val_loss'], label = 'test')\n",
        "plt.title('Supervisor Approximator Loss v/s Epoch')\n",
        "plt.xlabel('# Epoch')\n",
        "plt.ylabel('Loss')\n",
        "plt.legend(loc = 'upper right')\n",
        "# plt.ylim(0,0.5)\n",
        "plt.show()"
      ],
      "execution_count": 0,
      "outputs": [
        {
          "output_type": "display_data",
          "data": {
            "image/png": "[encoded data removed]",
            "text/plain": [
              "<Figure size 432x288 with 1 Axes>"
            ]
          },
          "metadata": {
            "tags": []
          }
        },
        {
          "output_type": "display_data",
          "data": {
            "image/png": "[encoded data removed]",
            "text/plain": [
              "<Figure size 432x288 with 1 Axes>"
            ]
          },
          "metadata": {
            "tags": []
          }
        }
      ]
    },
    {
      "cell_type": "markdown",
      "metadata": {
        "id": "84HHYWdg473A",
        "colab_type": "text"
      },
      "source": [
        "### Visualizing Decision Boundary "
      ]
    },
    {
      "cell_type": "code",
      "metadata": {
        "id": "8PiR_4p844dO",
        "colab_type": "code",
        "outputId": "6d10fde9-2a6e-4c08-8614-3a19569496cd",
        "colab": {
          "base_uri": "https://localhost:8080/",
          "height": 286
        }
      },
      "source": [
        "def plotModelOut(x,y,nClasses,model):\n",
        "  grid = np.stack((x,y))\n",
        "  grid = grid.T.reshape(-1,2)\n",
        "  outs = model.predict(grid)\n",
        "  y1 = outs.T[0].reshape(x.shape[0],x.shape[0])\n",
        "  plt.contourf(x,y,y1, levels = 100) \n",
        "  # Subtracting 1, because levels = n draws n+1 contour lines\n",
        "  plt.show()\n",
        "  \n",
        "def plotModelScatter(x,y,nClasses,model, r1, r2, filename, saveTag):\n",
        "  # Scattering query data\n",
        "  grid = np.stack((x,y))\n",
        "  grid = grid.T.reshape(-1,2)\n",
        "  labels = model.predict_classes(grid)\n",
        "  t = np.arange(nClasses)\n",
        "  n = x.shape[0]\n",
        "  plt.scatter(x,y,s = 4, c = labels.reshape((n,n)) )\n",
        "  plt.axis('scaled')\n",
        "  axes = plt.gca()\n",
        "  xx = axes.get_xlim()\n",
        "  lines = [[(r1,0), (r1, r1)], [(r1, r1), (r2, r2)], [(r2, r2), (3, r2)],\n",
        "           [(0, r1), (r1, r1)], [(r2, r2), (r2, 3)]]\n",
        "  lc = mc.LineCollection(lines, colors = 'r',linewidths=1.0)\n",
        "  axes.add_collection(lc)\n",
        "  plt.xlabel(r\"relative position, $x_2-x_3$\")\n",
        "  plt.ylabel(r\"relative position, $x_1-x_3$\")\n",
        "  if saveTag:\n",
        "    plt.savefig(filename)\n",
        "    files.download(filename)\n",
        "  plt.show()\n",
        "\n",
        "xr = np.linspace(Low,High,100)\n",
        "x,y = np.meshgrid(xr,xr)\n",
        "# plotModelOut(x,y,nModes,supervisorApprox)\n",
        "x_, y_ = np.meshgrid(data_test[:,0], data_test[:,1])\n",
        "plotModelScatter(x,y,nModes,supervisorApprox, ROBOTS.r[0], ROBOTS.r[1], \"decisionBoundary.eps\", False)"
      ],
      "execution_count": 0,
      "outputs": [
        {
          "output_type": "display_data",
          "data": {
            "image/png": "[encoded data removed]",
            "text/plain": [
              "<Figure size 432x288 with 1 Axes>"
            ]
          },
          "metadata": {
            "tags": []
          }
        }
      ]
    },
    {
      "cell_type": "code",
      "metadata": {
        "id": "oNRaJQ0pAe5C",
        "colab_type": "code",
        "colab": {}
      },
      "source": [
        ""
      ],
      "execution_count": 0,
      "outputs": []
    },
    {
      "cell_type": "markdown",
      "metadata": {
        "id": "mkAkptOJRRY7",
        "colab_type": "text"
      },
      "source": [
        "# Performing Attacks"
      ]
    },
    {
      "cell_type": "markdown",
      "metadata": {
        "id": "licccEVbogxi",
        "colab_type": "text"
      },
      "source": [
        "## Gradient Calculation for Statistical model of Supervisory logic"
      ]
    },
    {
      "cell_type": "code",
      "metadata": {
        "id": "3-RHDWbTRRjz",
        "colab_type": "code",
        "outputId": "3285070f-f3a5-4c16-b468-90e3d9a91efe",
        "colab": {
          "base_uri": "https://localhost:8080/",
          "height": 90
        }
      },
      "source": [
        "listOfVariableTensors = supervisorApprox.inputs\n",
        "outputTensor = supervisorApprox.output\n",
        "gradients = K.gradients(outputTensor, listOfVariableTensors)\n",
        "trainingExample = np.random.random((1,8))\n",
        "sess = tf.InteractiveSession()\n",
        "sess.run(tf.initialize_all_variables())\n",
        "def evalGrad(xIn):\n",
        "  G = evaluated_gradients = sess.run(gradients,\n",
        "                                     feed_dict={supervisorApprox.input:xCurr})\n",
        "\n",
        "  return G"
      ],
      "execution_count": 0,
      "outputs": [
        {
          "output_type": "stream",
          "text": [
            "WARNING:tensorflow:From /usr/local/lib/python3.6/dist-packages/tensorflow_core/python/util/tf_should_use.py:198: initialize_all_variables (from tensorflow.python.ops.variables) is deprecated and will be removed after 2017-03-02.\n",
            "Instructions for updating:\n",
            "Use `tf.global_variables_initializer` instead.\n"
          ],
          "name": "stdout"
        }
      ]
    },
    {
      "cell_type": "markdown",
      "metadata": {
        "id": "6kXjiJ5j04w3",
        "colab_type": "text"
      },
      "source": [
        "## Attacking some point ***x***\n",
        "This is based on infinity norm attack, given by [ECE 559, Spring 2019 Lecture notes excerpts.](https://i.imgur.com/nycltSw.jpg)\n",
        "\n",
        "See [this paper](https://arxiv.org/pdf/1602.02697.pdf) for further details."
      ]
    },
    {
      "cell_type": "code",
      "metadata": {
        "id": "xetW5MjJ1AHC",
        "colab_type": "code",
        "colab": {}
      },
      "source": [
        "def attacker(grads, xCurrent, pertMax, normCase):\n",
        "# Inputs: \n",
        "# grads: gradient of trained model\n",
        "# xCurrent: current point to be perturbed\n",
        "# pertMax: maximum allowable perturbation, or maximum attack strength\n",
        "    gradientCurrent = evalGrad(xCurrent)\n",
        "    # print(\"Gradient = \",gradientCurrent, \" Position = \",xCurrent)\n",
        "    if normCase == 1:\n",
        "      # For infinity norm attack\n",
        "      xPert = pertMax * (np.sign(gradientCurrent))\n",
        "    elif normCase == 2:\n",
        "      # For L2 norm attack\n",
        "      normG = np.linalg.norm(gradientCurrent)\n",
        "      if normG != 0:\n",
        "        xPert = pertMax * (gradientCurrent/normG)   \n",
        "      else:\n",
        "        xPert = gradientCurrent # Setting xPert = 0\n",
        "    return xPert"
      ],
      "execution_count": 0,
      "outputs": []
    },
    {
      "cell_type": "markdown",
      "metadata": {
        "id": "MWhNjIUn2w0f",
        "colab_type": "text"
      },
      "source": [
        "## Validating Attacker"
      ]
    },
    {
      "cell_type": "code",
      "metadata": {
        "id": "dggsdXsK20P6",
        "colab_type": "code",
        "colab": {}
      },
      "source": [
        "# Initial parameters for running plant \n",
        "r = np.array([0.75, 1.2, 2])\n",
        "_ROBOTS = PLANT(r)\n",
        "tSim = 30\n",
        "_SUPER = supervisor()\n",
        "# deltaMax = 0.35 results in final formation being distorted\n",
        "# deltaMax = 0.375 results in the final formation being off by a LOT!\n",
        "deltaMax = 0.375\n",
        "_tHISTORY = np.zeros((int(tSim/ROBOTS.dt)+1,1))\n",
        "_xHISTORY = np.zeros((tHISTORY.size,3))\n",
        "_yHISTORY = np.zeros_like(xHISTORY)\n",
        "_thetaHISTORY = np.zeros_like(xHISTORY)\n",
        "_modeHISTORY = np.zeros_like(tHISTORY)\n",
        "attVector = np.empty_like([_ROBOTS.l[0][2], _ROBOTS.l[1][2]]).reshape(1,2)\n",
        "for t in range(_tHISTORY.size):\n",
        "# Looping across time\n",
        "  for i in range(3):\n",
        "    # Looping over robots\n",
        "    if i == 2:\n",
        "      # Attack on 3rd Robot\n",
        "      xCurr = np.array([_ROBOTS.l[0][i], _ROBOTS.l[1][i]]).reshape(1,2)\n",
        "      attVector = np.array(attacker(gradients, xCurr, deltaMax, 2))\n",
        "      _ROBOTS.l[0][i] += attVector[0,0,0]\n",
        "      _ROBOTS.l[1][i] += attVector[0,0,1]\n",
        "      # print(np.linalg.norm(attVector))\n",
        "    _xHISTORY[t][i] = _ROBOTS.x[i]\n",
        "    _yHISTORY[t][i] = _ROBOTS.y[i]\n",
        "    _thetaHISTORY[t][i] = _ROBOTS.theta[i]\n",
        "    _modeHISTORY[t] = _ROBOTS.modes[2]\n",
        "    _tHISTORY[t] = _ROBOTS.t\n",
        "    _ROBOTS.propagate(SUPER,i)\n",
        "  _ROBOTS.t += _ROBOTS.dt"
      ],
      "execution_count": 0,
      "outputs": []
    },
    {
      "cell_type": "code",
      "metadata": {
        "id": "JlX2pIaGnC0e",
        "colab_type": "code",
        "outputId": "b3e45a58-b104-4ded-fa39-90cd1dc5fc01",
        "colab": {
          "base_uri": "https://localhost:8080/",
          "height": 546
        }
      },
      "source": [
        "# Plotting results\n",
        "modePlotter(_modeHISTORY, \"mode2.eps\")\n",
        "\n",
        "trajectoryPlotter(_xHISTORY, _yHISTORY, \"traj2.eps\")\n"
      ],
      "execution_count": 0,
      "outputs": [
        {
          "output_type": "display_data",
          "data": {
            "image/png": "[encoded data removed]",
            "text/plain": [
              "<Figure size 432x288 with 1 Axes>"
            ]
          },
          "metadata": {
            "tags": []
          }
        },
        {
          "output_type": "display_data",
          "data": {
            "image/png": "[encoded data removed]",
            "text/plain": [
              "<Figure size 432x288 with 1 Axes>"
            ]
          },
          "metadata": {
            "tags": []
          }
        }
      ]
    },
    {
      "cell_type": "code",
      "metadata": {
        "id": "LI152LtBTKbO",
        "colab_type": "code",
        "outputId": "a67eadea-60c4-4b0a-cce3-524d96ecd713",
        "colab": {
          "base_uri": "https://localhost:8080/",
          "height": 526
        }
      },
      "source": [
        "# comparing modes\n",
        "plt.figure(figsize = (10,7))\n",
        "plt.step(tHISTORY, modeHISTORY, \n",
        "         'k:', alpha = 0.9, label='unaltered',\n",
        "         linestyle = '--')\n",
        "plt.step(tHISTORY, _modeHISTORY,\n",
        "         'r:', alpha = 0.85,label='after attack',\n",
        "         linestyle = ':')\n",
        "plt.legend(title='Controller history',loc='lower right')\n",
        "plt.yticks([1,2,3,4])\n",
        "ylabels = ['$SB_{13}C$','$SB_{23}C$','$S_{13}S_{23}C$','Autonomous']\n",
        "ax = plt.gca()\n",
        "ax.set_yticklabels(ylabels)\n",
        "# ax.set_facecolor('w')\n",
        "# ax.set_visible(True)\n",
        "plt.tight_layout()\n",
        "plt.xlabel(\"time\")\n",
        "plt.savefig(\"modes.eps\")\n",
        "files.download(\"modes.eps\")\n",
        "plt.show()\n"
      ],
      "execution_count": 0,
      "outputs": [
        {
          "output_type": "display_data",
          "data": {
            "image/png": "[encoded data removed]",
            "text/plain": [
              "<Figure size 720x504 with 1 Axes>"
            ]
          },
          "metadata": {
            "tags": []
          }
        }
      ]
    },
    {
      "cell_type": "markdown",
      "metadata": {
        "id": "Cl2IixL8dJXE",
        "colab_type": "text"
      },
      "source": [
        "## Confusion matrix of NN"
      ]
    },
    {
      "cell_type": "code",
      "metadata": {
        "id": "XF16hLOUdOWw",
        "colab_type": "code",
        "colab": {}
      },
      "source": [
        "from sklearn.metrics import confusion_matrix\n",
        "from sklearn.preprocessing import normalize\n",
        "import seaborn as sn\n",
        "import pandas as pd"
      ],
      "execution_count": 0,
      "outputs": []
    },
    {
      "cell_type": "code",
      "metadata": {
        "id": "AeOcVHG0Y8sL",
        "colab_type": "code",
        "outputId": "a68fc59a-c208-467b-e644-7d7dcd30b11e",
        "colab": {
          "base_uri": "https://localhost:8080/",
          "height": 687
        }
      },
      "source": [
        "y_true = labels\n",
        "y_pred = supervisorApprox.predict_classes(data)\n",
        "nClasses = 4\n",
        "with tf.Session() as sess:\n",
        "  confusion_matrix = tf.confusion_matrix(labels=y_true,\n",
        "                                         predictions=y_pred, \n",
        "                                         num_classes=nClasses)\n",
        "  confusion_matrix_to_Print = sess.run(confusion_matrix)\n",
        "  normalized_confusion = normalize(confusion_matrix_to_Print, \n",
        "                                   axis=1, norm='l1')\n",
        "  print(confusion_matrix_to_Print)\n",
        "\n",
        "   \n",
        "df_cm = pd.DataFrame(normalized_confusion, \n",
        "                     range(nClasses),range(nClasses))\n",
        "#plt.figure(figsize = (10,7))\n",
        "sn.set(font_scale=1.5) #for label size\n",
        "sn.heatmap(df_cm, cmap =  sn.cm.rocket_r, \n",
        "           annot=True,\n",
        "           annot_kws={\"size\": 16}) # font size\n",
        "plt.savefig(\"confusion.eps\")\n",
        "files.download(\"confusion.eps\")"
      ],
      "execution_count": 0,
      "outputs": [
        {
          "output_type": "stream",
          "text": [
            "[[110   0   0  21]\n",
            " [  0  76   0  66]\n",
            " [  5   6   0  15]\n",
            " [ 23   0   0 178]]\n"
          ],
          "name": "stdout"
        },
        {
          "output_type": "error",
          "ename": "MessageError",
          "evalue": "ignored",
          "traceback": [
            "\u001b[0;31m---------------------------------------------------------------------------\u001b[0m",
            "\u001b[0;31mMessageError\u001b[0m                              Traceback (most recent call last)",
            "\u001b[0;32m<ipython-input-22-6c28105c38a3>\u001b[0m in \u001b[0;36m<module>\u001b[0;34m()\u001b[0m\n\u001b[1;32m     20\u001b[0m            annot_kws={\"size\": 16}) # font size\n\u001b[1;32m     21\u001b[0m \u001b[0mplt\u001b[0m\u001b[0;34m.\u001b[0m\u001b[0msavefig\u001b[0m\u001b[0;34m(\u001b[0m\u001b[0;34m\"confusion.eps\"\u001b[0m\u001b[0;34m)\u001b[0m\u001b[0;34m\u001b[0m\u001b[0;34m\u001b[0m\u001b[0m\n\u001b[0;32m---> 22\u001b[0;31m \u001b[0mfiles\u001b[0m\u001b[0;34m.\u001b[0m\u001b[0mdownload\u001b[0m\u001b[0;34m(\u001b[0m\u001b[0;34m\"confusion.eps\"\u001b[0m\u001b[0;34m)\u001b[0m\u001b[0;34m\u001b[0m\u001b[0;34m\u001b[0m\u001b[0m\n\u001b[0m",
            "\u001b[0;32m/usr/local/lib/python3.6/dist-packages/google/colab/files.py\u001b[0m in \u001b[0;36mdownload\u001b[0;34m(filename)\u001b[0m\n\u001b[1;32m    176\u001b[0m       \u001b[0;34m'port'\u001b[0m\u001b[0;34m:\u001b[0m \u001b[0mport\u001b[0m\u001b[0;34m,\u001b[0m\u001b[0;34m\u001b[0m\u001b[0;34m\u001b[0m\u001b[0m\n\u001b[1;32m    177\u001b[0m       \u001b[0;34m'path'\u001b[0m\u001b[0;34m:\u001b[0m \u001b[0m_os\u001b[0m\u001b[0;34m.\u001b[0m\u001b[0mpath\u001b[0m\u001b[0;34m.\u001b[0m\u001b[0mabspath\u001b[0m\u001b[0;34m(\u001b[0m\u001b[0mfilename\u001b[0m\u001b[0;34m)\u001b[0m\u001b[0;34m,\u001b[0m\u001b[0;34m\u001b[0m\u001b[0;34m\u001b[0m\u001b[0m\n\u001b[0;32m--> 178\u001b[0;31m       \u001b[0;34m'name'\u001b[0m\u001b[0;34m:\u001b[0m \u001b[0m_os\u001b[0m\u001b[0;34m.\u001b[0m\u001b[0mpath\u001b[0m\u001b[0;34m.\u001b[0m\u001b[0mbasename\u001b[0m\u001b[0;34m(\u001b[0m\u001b[0mfilename\u001b[0m\u001b[0;34m)\u001b[0m\u001b[0;34m,\u001b[0m\u001b[0;34m\u001b[0m\u001b[0;34m\u001b[0m\u001b[0m\n\u001b[0m\u001b[1;32m    179\u001b[0m   })\n",
            "\u001b[0;32m/usr/local/lib/python3.6/dist-packages/google/colab/output/_js.py\u001b[0m in \u001b[0;36meval_js\u001b[0;34m(script, ignore_result)\u001b[0m\n\u001b[1;32m     37\u001b[0m   \u001b[0;32mif\u001b[0m \u001b[0mignore_result\u001b[0m\u001b[0;34m:\u001b[0m\u001b[0;34m\u001b[0m\u001b[0;34m\u001b[0m\u001b[0m\n\u001b[1;32m     38\u001b[0m     \u001b[0;32mreturn\u001b[0m\u001b[0;34m\u001b[0m\u001b[0;34m\u001b[0m\u001b[0m\n\u001b[0;32m---> 39\u001b[0;31m   \u001b[0;32mreturn\u001b[0m \u001b[0m_message\u001b[0m\u001b[0;34m.\u001b[0m\u001b[0mread_reply_from_input\u001b[0m\u001b[0;34m(\u001b[0m\u001b[0mrequest_id\u001b[0m\u001b[0;34m)\u001b[0m\u001b[0;34m\u001b[0m\u001b[0;34m\u001b[0m\u001b[0m\n\u001b[0m\u001b[1;32m     40\u001b[0m \u001b[0;34m\u001b[0m\u001b[0m\n\u001b[1;32m     41\u001b[0m \u001b[0;34m\u001b[0m\u001b[0m\n",
            "\u001b[0;32m/usr/local/lib/python3.6/dist-packages/google/colab/_message.py\u001b[0m in \u001b[0;36mread_reply_from_input\u001b[0;34m(message_id, timeout_sec)\u001b[0m\n\u001b[1;32m    104\u001b[0m         reply.get('colab_msg_id') == message_id):\n\u001b[1;32m    105\u001b[0m       \u001b[0;32mif\u001b[0m \u001b[0;34m'error'\u001b[0m \u001b[0;32min\u001b[0m \u001b[0mreply\u001b[0m\u001b[0;34m:\u001b[0m\u001b[0;34m\u001b[0m\u001b[0;34m\u001b[0m\u001b[0m\n\u001b[0;32m--> 106\u001b[0;31m         \u001b[0;32mraise\u001b[0m \u001b[0mMessageError\u001b[0m\u001b[0;34m(\u001b[0m\u001b[0mreply\u001b[0m\u001b[0;34m[\u001b[0m\u001b[0;34m'error'\u001b[0m\u001b[0;34m]\u001b[0m\u001b[0;34m)\u001b[0m\u001b[0;34m\u001b[0m\u001b[0;34m\u001b[0m\u001b[0m\n\u001b[0m\u001b[1;32m    107\u001b[0m       \u001b[0;32mreturn\u001b[0m \u001b[0mreply\u001b[0m\u001b[0;34m.\u001b[0m\u001b[0mget\u001b[0m\u001b[0;34m(\u001b[0m\u001b[0;34m'data'\u001b[0m\u001b[0;34m,\u001b[0m \u001b[0;32mNone\u001b[0m\u001b[0;34m)\u001b[0m\u001b[0;34m\u001b[0m\u001b[0;34m\u001b[0m\u001b[0m\n\u001b[1;32m    108\u001b[0m \u001b[0;34m\u001b[0m\u001b[0m\n",
            "\u001b[0;31mMessageError\u001b[0m: TypeError: Failed to fetch"
          ]
        },
        {
          "output_type": "display_data",
          "data": {
            "image/png": "[encoded data removed]",
            "text/plain": [
              "<Figure size 432x288 with 2 Axes>"
            ]
          },
          "metadata": {
            "tags": []
          }
        }
      ]
    },
    {
      "cell_type": "markdown",
      "metadata": {
        "id": "UXj-Y3tcFX4k",
        "colab_type": "text"
      },
      "source": [
        "## ROC Analysis\n",
        "\n",
        "See this link for source:\n",
        "[https://www.dlology.com/blog/simple-guide-on-how-to-generate-roc-plot-for-keras-classifier/](https://www.dlology.com/blog/simple-guide-on-how-to-generate-roc-plot-for-keras-classifier/)"
      ]
    },
    {
      "cell_type": "code",
      "metadata": {
        "id": "mwG97Do7FV-y",
        "colab_type": "code",
        "colab": {}
      },
      "source": [
        "from itertools import cycle\n",
        "from sklearn import svm, datasets\n",
        "from sklearn.metrics import roc_curve, auc\n",
        "from sklearn.model_selection import train_test_split\n",
        "from sklearn.preprocessing import label_binarize\n",
        "from sklearn.multiclass import OneVsRestClassifier\n",
        "from scipy import interp"
      ],
      "execution_count": 0,
      "outputs": []
    },
    {
      "cell_type": "code",
      "metadata": {
        "id": "tFTTwfyiFXGh",
        "colab_type": "code",
        "outputId": "ac5d13f4-4373-4634-faf5-36fc30afda04",
        "colab": {
          "base_uri": "https://localhost:8080/",
          "height": 1000
        }
      },
      "source": [
        "supervisorApprox = NN_arch()\n",
        "supervisorApprox.build((None, nDim))\n",
        "print(supervisorApprox.summary())\n",
        "nClasses = 4\n",
        "supervisorApprox.compile(loss=\"mean_squared_error\", \n",
        "                    optimizer = \"adam\", \n",
        "                    metrics = ['accuracy'])\n",
        "supervisorApprox_metaData = supervisorApprox.fit(\n",
        "                data_train, labels_train, \n",
        "                validation_data = (data_test, labels_test), \n",
        "                epochs = 100, \n",
        "                batch_size = 5, \n",
        "                shuffle = True)\n",
        "#Print accuracy of model on testing set after training \n",
        "scores = supervisorApprox.evaluate(data_test, labels_test)\n",
        "print(\"Accuracy: %0.4f%%\" %(scores[1]*100) )"
      ],
      "execution_count": 0,
      "outputs": [
        {
          "output_type": "stream",
          "text": [
            "Model: \"sequential_2\"\n",
            "_________________________________________________________________\n",
            "Layer (type)                 Output Shape              Param #   \n",
            "=================================================================\n",
            "dense_4 (Dense)              (None, 2)                 6         \n",
            "_________________________________________________________________\n",
            "dense_5 (Dense)              (None, 8)                 24        \n",
            "_________________________________________________________________\n",
            "dense_6 (Dense)              (None, 4)                 36        \n",
            "=================================================================\n",
            "Total params: 66\n",
            "Trainable params: 66\n",
            "Non-trainable params: 0\n",
            "_________________________________________________________________\n",
            "None\n",
            "Train on 375 samples, validate on 125 samples\n",
            "Epoch 1/100\n",
            "375/375 [==============================] - 0s 537us/step - loss: 0.2163 - acc: 0.0507 - val_loss: 0.1983 - val_acc: 0.2640\n",
            "Epoch 2/100\n",
            "375/375 [==============================] - 0s 234us/step - loss: 0.1842 - acc: 0.3147 - val_loss: 0.1757 - val_acc: 0.2960\n",
            "Epoch 3/100\n",
            "375/375 [==============================] - 0s 239us/step - loss: 0.1721 - acc: 0.3547 - val_loss: 0.1661 - val_acc: 0.3680\n",
            "Epoch 4/100\n",
            "375/375 [==============================] - 0s 228us/step - loss: 0.1638 - acc: 0.4720 - val_loss: 0.1560 - val_acc: 0.5440\n",
            "Epoch 5/100\n",
            "375/375 [==============================] - 0s 242us/step - loss: 0.1538 - acc: 0.6640 - val_loss: 0.1436 - val_acc: 0.8000\n",
            "Epoch 6/100\n",
            "375/375 [==============================] - 0s 229us/step - loss: 0.1410 - acc: 0.6747 - val_loss: 0.1298 - val_acc: 0.7600\n",
            "Epoch 7/100\n",
            "375/375 [==============================] - 0s 232us/step - loss: 0.1279 - acc: 0.6800 - val_loss: 0.1184 - val_acc: 0.8000\n",
            "Epoch 8/100\n",
            "375/375 [==============================] - 0s 244us/step - loss: 0.1174 - acc: 0.7040 - val_loss: 0.1084 - val_acc: 0.7680\n",
            "Epoch 9/100\n",
            "375/375 [==============================] - 0s 245us/step - loss: 0.1085 - acc: 0.7147 - val_loss: 0.0988 - val_acc: 0.8000\n",
            "Epoch 10/100\n",
            "375/375 [==============================] - 0s 258us/step - loss: 0.0991 - acc: 0.7387 - val_loss: 0.0887 - val_acc: 0.8320\n",
            "Epoch 11/100\n",
            "375/375 [==============================] - 0s 249us/step - loss: 0.0906 - acc: 0.7893 - val_loss: 0.0798 - val_acc: 0.8480\n",
            "Epoch 12/100\n",
            "375/375 [==============================] - 0s 265us/step - loss: 0.0836 - acc: 0.8000 - val_loss: 0.0724 - val_acc: 0.8720\n",
            "Epoch 13/100\n",
            "375/375 [==============================] - 0s 280us/step - loss: 0.0778 - acc: 0.8027 - val_loss: 0.0671 - val_acc: 0.8800\n",
            "Epoch 14/100\n",
            "375/375 [==============================] - 0s 262us/step - loss: 0.0733 - acc: 0.8187 - val_loss: 0.0636 - val_acc: 0.8800\n",
            "Epoch 15/100\n",
            "375/375 [==============================] - 0s 244us/step - loss: 0.0700 - acc: 0.8293 - val_loss: 0.0605 - val_acc: 0.8480\n",
            "Epoch 16/100\n",
            "375/375 [==============================] - 0s 256us/step - loss: 0.0668 - acc: 0.8267 - val_loss: 0.0573 - val_acc: 0.8640\n",
            "Epoch 17/100\n",
            "375/375 [==============================] - 0s 236us/step - loss: 0.0637 - acc: 0.8480 - val_loss: 0.0541 - val_acc: 0.8880\n",
            "Epoch 18/100\n",
            "375/375 [==============================] - 0s 243us/step - loss: 0.0615 - acc: 0.8480 - val_loss: 0.0521 - val_acc: 0.9040\n",
            "Epoch 19/100\n",
            "375/375 [==============================] - 0s 282us/step - loss: 0.0598 - acc: 0.8453 - val_loss: 0.0515 - val_acc: 0.8640\n",
            "Epoch 20/100\n",
            "375/375 [==============================] - 0s 268us/step - loss: 0.0575 - acc: 0.8640 - val_loss: 0.0480 - val_acc: 0.9040\n",
            "Epoch 21/100\n",
            "375/375 [==============================] - 0s 232us/step - loss: 0.0556 - acc: 0.8613 - val_loss: 0.0480 - val_acc: 0.8800\n",
            "Epoch 22/100\n",
            "375/375 [==============================] - 0s 256us/step - loss: 0.0538 - acc: 0.8693 - val_loss: 0.0455 - val_acc: 0.9120\n",
            "Epoch 23/100\n",
            "375/375 [==============================] - 0s 227us/step - loss: 0.0520 - acc: 0.8667 - val_loss: 0.0433 - val_acc: 0.9120\n",
            "Epoch 24/100\n",
            "375/375 [==============================] - 0s 245us/step - loss: 0.0502 - acc: 0.8720 - val_loss: 0.0418 - val_acc: 0.9040\n",
            "Epoch 25/100\n",
            "375/375 [==============================] - 0s 228us/step - loss: 0.0481 - acc: 0.8800 - val_loss: 0.0415 - val_acc: 0.9120\n",
            "Epoch 26/100\n",
            "375/375 [==============================] - 0s 231us/step - loss: 0.0458 - acc: 0.8907 - val_loss: 0.0396 - val_acc: 0.9200\n",
            "Epoch 27/100\n",
            "375/375 [==============================] - 0s 250us/step - loss: 0.0435 - acc: 0.9067 - val_loss: 0.0387 - val_acc: 0.9200\n",
            "Epoch 28/100\n",
            "375/375 [==============================] - 0s 258us/step - loss: 0.0416 - acc: 0.9200 - val_loss: 0.0376 - val_acc: 0.9120\n",
            "Epoch 29/100\n",
            "375/375 [==============================] - 0s 252us/step - loss: 0.0396 - acc: 0.9227 - val_loss: 0.0344 - val_acc: 0.9280\n",
            "Epoch 30/100\n",
            "375/375 [==============================] - 0s 247us/step - loss: 0.0376 - acc: 0.9333 - val_loss: 0.0330 - val_acc: 0.9520\n",
            "Epoch 31/100\n",
            "375/375 [==============================] - 0s 252us/step - loss: 0.0358 - acc: 0.9440 - val_loss: 0.0339 - val_acc: 0.9200\n",
            "Epoch 32/100\n",
            "375/375 [==============================] - 0s 240us/step - loss: 0.0344 - acc: 0.9467 - val_loss: 0.0303 - val_acc: 0.9440\n",
            "Epoch 33/100\n",
            "375/375 [==============================] - 0s 233us/step - loss: 0.0337 - acc: 0.9440 - val_loss: 0.0294 - val_acc: 0.9440\n",
            "Epoch 34/100\n",
            "375/375 [==============================] - 0s 250us/step - loss: 0.0328 - acc: 0.9440 - val_loss: 0.0287 - val_acc: 0.9440\n",
            "Epoch 35/100\n",
            "375/375 [==============================] - 0s 229us/step - loss: 0.0314 - acc: 0.9547 - val_loss: 0.0285 - val_acc: 0.9440\n",
            "Epoch 36/100\n",
            "375/375 [==============================] - 0s 253us/step - loss: 0.0307 - acc: 0.9493 - val_loss: 0.0282 - val_acc: 0.9360\n",
            "Epoch 37/100\n",
            "375/375 [==============================] - 0s 261us/step - loss: 0.0296 - acc: 0.9493 - val_loss: 0.0266 - val_acc: 0.9440\n",
            "Epoch 38/100\n",
            "375/375 [==============================] - 0s 265us/step - loss: 0.0290 - acc: 0.9573 - val_loss: 0.0265 - val_acc: 0.9440\n",
            "Epoch 39/100\n",
            "375/375 [==============================] - 0s 241us/step - loss: 0.0285 - acc: 0.9547 - val_loss: 0.0254 - val_acc: 0.9440\n",
            "Epoch 40/100\n",
            "375/375 [==============================] - 0s 234us/step - loss: 0.0277 - acc: 0.9600 - val_loss: 0.0256 - val_acc: 0.9520\n",
            "Epoch 41/100\n",
            "375/375 [==============================] - 0s 257us/step - loss: 0.0273 - acc: 0.9520 - val_loss: 0.0249 - val_acc: 0.9520\n",
            "Epoch 42/100\n",
            "375/375 [==============================] - 0s 252us/step - loss: 0.0269 - acc: 0.9520 - val_loss: 0.0242 - val_acc: 0.9520\n",
            "Epoch 43/100\n",
            "375/375 [==============================] - 0s 242us/step - loss: 0.0263 - acc: 0.9547 - val_loss: 0.0250 - val_acc: 0.9600\n",
            "Epoch 44/100\n",
            "375/375 [==============================] - 0s 249us/step - loss: 0.0259 - acc: 0.9573 - val_loss: 0.0235 - val_acc: 0.9520\n",
            "Epoch 45/100\n",
            "375/375 [==============================] - 0s 240us/step - loss: 0.0256 - acc: 0.9573 - val_loss: 0.0233 - val_acc: 0.9520\n",
            "Epoch 46/100\n",
            "375/375 [==============================] - 0s 295us/step - loss: 0.0250 - acc: 0.9573 - val_loss: 0.0230 - val_acc: 0.9520\n",
            "Epoch 47/100\n",
            "375/375 [==============================] - 0s 258us/step - loss: 0.0247 - acc: 0.9573 - val_loss: 0.0226 - val_acc: 0.9600\n",
            "Epoch 48/100\n",
            "375/375 [==============================] - 0s 256us/step - loss: 0.0244 - acc: 0.9600 - val_loss: 0.0221 - val_acc: 0.9520\n",
            "Epoch 49/100\n",
            "375/375 [==============================] - 0s 259us/step - loss: 0.0241 - acc: 0.9573 - val_loss: 0.0217 - val_acc: 0.9600\n",
            "Epoch 50/100\n",
            "375/375 [==============================] - 0s 254us/step - loss: 0.0237 - acc: 0.9600 - val_loss: 0.0228 - val_acc: 0.9520\n",
            "Epoch 51/100\n",
            "375/375 [==============================] - 0s 257us/step - loss: 0.0231 - acc: 0.9653 - val_loss: 0.0212 - val_acc: 0.9600\n",
            "Epoch 52/100\n",
            "375/375 [==============================] - 0s 262us/step - loss: 0.0229 - acc: 0.9653 - val_loss: 0.0218 - val_acc: 0.9520\n",
            "Epoch 53/100\n",
            "375/375 [==============================] - 0s 258us/step - loss: 0.0226 - acc: 0.9653 - val_loss: 0.0210 - val_acc: 0.9600\n",
            "Epoch 54/100\n",
            "375/375 [==============================] - 0s 271us/step - loss: 0.0221 - acc: 0.9680 - val_loss: 0.0206 - val_acc: 0.9600\n",
            "Epoch 55/100\n",
            "375/375 [==============================] - 0s 251us/step - loss: 0.0223 - acc: 0.9653 - val_loss: 0.0202 - val_acc: 0.9760\n",
            "Epoch 56/100\n",
            "375/375 [==============================] - 0s 264us/step - loss: 0.0222 - acc: 0.9600 - val_loss: 0.0199 - val_acc: 0.9680\n",
            "Epoch 57/100\n",
            "375/375 [==============================] - 0s 259us/step - loss: 0.0216 - acc: 0.9680 - val_loss: 0.0198 - val_acc: 0.9600\n",
            "Epoch 58/100\n",
            "375/375 [==============================] - 0s 259us/step - loss: 0.0214 - acc: 0.9680 - val_loss: 0.0197 - val_acc: 0.9680\n",
            "Epoch 59/100\n",
            "375/375 [==============================] - 0s 265us/step - loss: 0.0209 - acc: 0.9680 - val_loss: 0.0202 - val_acc: 0.9520\n",
            "Epoch 60/100\n",
            "375/375 [==============================] - 0s 270us/step - loss: 0.0211 - acc: 0.9573 - val_loss: 0.0198 - val_acc: 0.9680\n",
            "Epoch 61/100\n",
            "375/375 [==============================] - 0s 251us/step - loss: 0.0212 - acc: 0.9600 - val_loss: 0.0201 - val_acc: 0.9520\n",
            "Epoch 62/100\n",
            "375/375 [==============================] - 0s 244us/step - loss: 0.0205 - acc: 0.9653 - val_loss: 0.0199 - val_acc: 0.9680\n",
            "Epoch 63/100\n",
            "375/375 [==============================] - 0s 272us/step - loss: 0.0207 - acc: 0.9627 - val_loss: 0.0189 - val_acc: 0.9600\n",
            "Epoch 64/100\n",
            "375/375 [==============================] - 0s 257us/step - loss: 0.0199 - acc: 0.9653 - val_loss: 0.0187 - val_acc: 0.9680\n",
            "Epoch 65/100\n",
            "375/375 [==============================] - 0s 266us/step - loss: 0.0195 - acc: 0.9760 - val_loss: 0.0192 - val_acc: 0.9680\n",
            "Epoch 66/100\n",
            "375/375 [==============================] - 0s 256us/step - loss: 0.0198 - acc: 0.9653 - val_loss: 0.0184 - val_acc: 0.9680\n",
            "Epoch 67/100\n",
            "375/375 [==============================] - 0s 274us/step - loss: 0.0193 - acc: 0.9653 - val_loss: 0.0181 - val_acc: 0.9680\n",
            "Epoch 68/100\n",
            "375/375 [==============================] - 0s 265us/step - loss: 0.0193 - acc: 0.9680 - val_loss: 0.0181 - val_acc: 0.9680\n",
            "Epoch 69/100\n",
            "375/375 [==============================] - 0s 257us/step - loss: 0.0194 - acc: 0.9680 - val_loss: 0.0180 - val_acc: 0.9760\n",
            "Epoch 70/100\n",
            "375/375 [==============================] - 0s 268us/step - loss: 0.0191 - acc: 0.9680 - val_loss: 0.0179 - val_acc: 0.9760\n",
            "Epoch 71/100\n",
            "375/375 [==============================] - 0s 257us/step - loss: 0.0188 - acc: 0.9707 - val_loss: 0.0177 - val_acc: 0.9840\n",
            "Epoch 72/100\n",
            "375/375 [==============================] - 0s 260us/step - loss: 0.0184 - acc: 0.9680 - val_loss: 0.0176 - val_acc: 0.9680\n",
            "Epoch 73/100\n",
            "375/375 [==============================] - 0s 251us/step - loss: 0.0183 - acc: 0.9707 - val_loss: 0.0175 - val_acc: 0.9840\n",
            "Epoch 74/100\n",
            "375/375 [==============================] - 0s 258us/step - loss: 0.0186 - acc: 0.9733 - val_loss: 0.0176 - val_acc: 0.9680\n",
            "Epoch 75/100\n",
            "375/375 [==============================] - 0s 257us/step - loss: 0.0181 - acc: 0.9707 - val_loss: 0.0177 - val_acc: 0.9600\n",
            "Epoch 76/100\n",
            "375/375 [==============================] - 0s 252us/step - loss: 0.0181 - acc: 0.9573 - val_loss: 0.0172 - val_acc: 0.9840\n",
            "Epoch 77/100\n",
            "375/375 [==============================] - 0s 237us/step - loss: 0.0180 - acc: 0.9733 - val_loss: 0.0170 - val_acc: 0.9840\n",
            "Epoch 78/100\n",
            "375/375 [==============================] - 0s 285us/step - loss: 0.0182 - acc: 0.9680 - val_loss: 0.0170 - val_acc: 0.9680\n",
            "Epoch 79/100\n",
            "375/375 [==============================] - 0s 267us/step - loss: 0.0175 - acc: 0.9813 - val_loss: 0.0172 - val_acc: 0.9680\n",
            "Epoch 80/100\n",
            "375/375 [==============================] - 0s 256us/step - loss: 0.0177 - acc: 0.9707 - val_loss: 0.0169 - val_acc: 0.9680\n",
            "Epoch 81/100\n",
            "375/375 [==============================] - 0s 258us/step - loss: 0.0174 - acc: 0.9733 - val_loss: 0.0169 - val_acc: 0.9680\n",
            "Epoch 82/100\n",
            "375/375 [==============================] - 0s 252us/step - loss: 0.0173 - acc: 0.9760 - val_loss: 0.0168 - val_acc: 0.9680\n",
            "Epoch 83/100\n",
            "375/375 [==============================] - 0s 254us/step - loss: 0.0170 - acc: 0.9733 - val_loss: 0.0167 - val_acc: 0.9760\n",
            "Epoch 84/100\n",
            "375/375 [==============================] - 0s 253us/step - loss: 0.0170 - acc: 0.9680 - val_loss: 0.0172 - val_acc: 0.9600\n",
            "Epoch 85/100\n",
            "375/375 [==============================] - 0s 255us/step - loss: 0.0169 - acc: 0.9680 - val_loss: 0.0163 - val_acc: 0.9840\n",
            "Epoch 86/100\n",
            "375/375 [==============================] - 0s 260us/step - loss: 0.0169 - acc: 0.9760 - val_loss: 0.0168 - val_acc: 0.9680\n",
            "Epoch 87/100\n",
            "375/375 [==============================] - 0s 249us/step - loss: 0.0165 - acc: 0.9707 - val_loss: 0.0167 - val_acc: 0.9600\n",
            "Epoch 88/100\n",
            "375/375 [==============================] - 0s 282us/step - loss: 0.0169 - acc: 0.9867 - val_loss: 0.0162 - val_acc: 0.9840\n",
            "Epoch 89/100\n",
            "375/375 [==============================] - 0s 277us/step - loss: 0.0166 - acc: 0.9733 - val_loss: 0.0160 - val_acc: 0.9840\n",
            "Epoch 90/100\n",
            "375/375 [==============================] - 0s 258us/step - loss: 0.0162 - acc: 0.9680 - val_loss: 0.0160 - val_acc: 0.9760\n",
            "Epoch 91/100\n",
            "375/375 [==============================] - 0s 260us/step - loss: 0.0165 - acc: 0.9760 - val_loss: 0.0166 - val_acc: 0.9520\n",
            "Epoch 92/100\n",
            "375/375 [==============================] - 0s 273us/step - loss: 0.0163 - acc: 0.9787 - val_loss: 0.0160 - val_acc: 0.9600\n",
            "Epoch 93/100\n",
            "375/375 [==============================] - 0s 280us/step - loss: 0.0165 - acc: 0.9733 - val_loss: 0.0158 - val_acc: 0.9840\n",
            "Epoch 94/100\n",
            "375/375 [==============================] - 0s 254us/step - loss: 0.0159 - acc: 0.9760 - val_loss: 0.0157 - val_acc: 0.9840\n",
            "Epoch 95/100\n",
            "375/375 [==============================] - 0s 259us/step - loss: 0.0160 - acc: 0.9760 - val_loss: 0.0154 - val_acc: 0.9760\n",
            "Epoch 96/100\n",
            "375/375 [==============================] - 0s 279us/step - loss: 0.0159 - acc: 0.9760 - val_loss: 0.0155 - val_acc: 0.9760\n",
            "Epoch 97/100\n",
            "375/375 [==============================] - 0s 245us/step - loss: 0.0159 - acc: 0.9733 - val_loss: 0.0158 - val_acc: 0.9760\n",
            "Epoch 98/100\n",
            "375/375 [==============================] - 0s 265us/step - loss: 0.0154 - acc: 0.9760 - val_loss: 0.0153 - val_acc: 0.9840\n",
            "Epoch 99/100\n",
            "375/375 [==============================] - 0s 270us/step - loss: 0.0157 - acc: 0.9787 - val_loss: 0.0153 - val_acc: 0.9840\n",
            "Epoch 100/100\n",
            "375/375 [==============================] - 0s 239us/step - loss: 0.0152 - acc: 0.9787 - val_loss: 0.0151 - val_acc: 0.9840\n",
            "125/125 [==============================] - 0s 52us/step\n",
            "Accuracy: 98.4000%\n"
          ],
          "name": "stdout"
        }
      ]
    },
    {
      "cell_type": "code",
      "metadata": {
        "id": "3prDjzCdHfaK",
        "colab_type": "code",
        "colab": {}
      },
      "source": [
        "y_score = supervisorApprox.predict(data)\n",
        "\n",
        "y_test = keras.utils.np_utils.to_categorical(labels, num_classes=4)\n",
        "# Compute ROC curve and ROC area for each class\n",
        "fpr = dict()\n",
        "tpr = dict()\n",
        "roc_auc = dict()\n",
        "for i in range(nClasses):\n",
        "    fpr[i], tpr[i], _ = roc_curve(y_test[:, i], y_score[:, i])\n",
        "    roc_auc[i] = auc(fpr[i], tpr[i])\n",
        "\n",
        "# Compute micro-average ROC curve and ROC area\n",
        "fpr[\"micro\"], tpr[\"micro\"], _ = roc_curve(y_test.ravel(), y_score.ravel())\n",
        "roc_auc[\"micro\"] = auc(fpr[\"micro\"], tpr[\"micro\"])"
      ],
      "execution_count": 0,
      "outputs": []
    },
    {
      "cell_type": "code",
      "metadata": {
        "id": "jHz-CBFeQKea",
        "colab_type": "code",
        "outputId": "209f54c3-41e1-49ff-d957-3eaa94134c67",
        "colab": {
          "base_uri": "https://localhost:8080/",
          "height": 87
        }
      },
      "source": [
        ""
      ],
      "execution_count": 0,
      "outputs": [
        {
          "output_type": "execute_result",
          "data": {
            "text/plain": [
              "array([0.        , 0.        , 0.        , 0.        , 0.        ,\n",
              "       0.        , 0.00334448, 0.00334448, 0.01003344, 0.01003344,\n",
              "       0.01337793, 0.01337793, 0.02006689, 0.02006689, 0.03010033,\n",
              "       0.03010033, 1.        ])"
            ]
          },
          "metadata": {
            "tags": []
          },
          "execution_count": 47
        }
      ]
    },
    {
      "cell_type": "code",
      "metadata": {
        "id": "2ddgNQeRndsq",
        "colab_type": "code",
        "outputId": "be4477a5-e3a3-45a4-c578-b526be56e542",
        "colab": {
          "base_uri": "https://localhost:8080/",
          "height": 372
        }
      },
      "source": [
        "# Compute micro-average ROC curve and ROC area\n",
        "fpr[\"micro\"], tpr[\"micro\"], _ = roc_curve(y_test.ravel(), y_score.ravel())\n",
        "roc_auc[\"micro\"] = auc(fpr[\"micro\"], tpr[\"micro\"])\n",
        "\n",
        "# Compute macro-average ROC curve and ROC area\n",
        "\n",
        "# First aggregate all false positive rates\n",
        "all_fpr = np.unique(np.concatenate([fpr[i] for i in range(nClasses)]))\n",
        "\n",
        "# Then interpolate all ROC curves at this points\n",
        "mean_tpr = np.zeros_like(all_fpr)\n",
        "for i in range(nClasses):\n",
        "    mean_tpr += interp(all_fpr, fpr[i], tpr[i])\n",
        "\n",
        "# Finally average it and compute AUC\n",
        "mean_tpr /= nClasses\n",
        "\n",
        "fpr[\"macro\"] = all_fpr\n",
        "tpr[\"macro\"] = mean_tpr\n",
        "roc_auc[\"macro\"] = auc(fpr[\"macro\"], tpr[\"macro\"])\n",
        "\n",
        "# Plot all ROC curves\n",
        "plt.figure(figsize = (8,5))\n",
        "# plt.plot(fpr[\"micro\"], tpr[\"micro\"],\n",
        "#          label='micro-average ROC curve (area = {0:0.2f})'\n",
        "#                ''.format(roc_auc[\"micro\"]),\n",
        "#          color='deeppink', linestyle=':', linewidth=4)\n",
        "\n",
        "# plt.plot(fpr[\"macro\"], tpr[\"macro\"],\n",
        "#          label='macro-average ROC curve (area = {0:0.2f})'\n",
        "#                ''.format(roc_auc[\"macro\"]),\n",
        "#          color='navy', linestyle=':', linewidth=4)\n",
        "\n",
        "colors = cycle(['deeppink','aqua', 'darkorange', 'cornflowerblue'])\n",
        "for i, color in zip(range(nClasses), colors):\n",
        "    plt.plot(fpr[i], tpr[i], color=color, lw=2,\n",
        "             label='ROC curve of class {0} (area = {1:0.2f})'\n",
        "             ''.format(i, roc_auc[i]))\n",
        "# plt.figure(figsize = (15,15))\n",
        "plt.plot([-0.05, 1.05], [-0.05, 1.05], 'k--', lw=1.25)\n",
        "plt.xlim([-0.05, 1.05])\n",
        "plt.ylim([-0.05, 1.05])\n",
        "plt.xlabel('False Positive Rate')\n",
        "plt.ylabel('True Positive Rate')\n",
        "plt.title('Receiver operating characteristic for 4 classes')\n",
        "plt.legend(loc=\"lower right\")\n",
        "plt.grid(True)\n",
        "plt.savefig(\"ROC.png\")\n",
        "files.download(\"ROC.png\")\n",
        "plt.show()"
      ],
      "execution_count": 0,
      "outputs": [
        {
          "output_type": "display_data",
          "data": {
            "image/png": "[encoded data removed]",
            "text/plain": [
              "<Figure size 576x360 with 1 Axes>"
            ]
          },
          "metadata": {
            "tags": []
          }
        }
      ]
    },
    {
      "cell_type": "code",
      "metadata": {
        "id": "m2e4hpV-6XJh",
        "colab_type": "code",
        "outputId": "dc6d4fdb-750e-4c05-ceb2-ff94ad478417",
        "colab": {
          "base_uri": "https://localhost:8080/",
          "height": 54
        }
      },
      "source": [
        "print(fpr)"
      ],
      "execution_count": 0,
      "outputs": [
        {
          "output_type": "stream",
          "text": [
            "{0: array([0., 0., 1.]), 1: array([0.        , 0.01117318, 1.        ]), 2: array([0., 0., 1.]), 3: array([0.        , 0.01672241, 1.        ]), 'micro': array([0.   , 0.006, 1.   ]), 'macro': array([0.        , 0.01117318, 0.01672241, 1.        ])}\n"
          ],
          "name": "stdout"
        }
      ]
    },
    {
      "cell_type": "markdown",
      "metadata": {
        "id": "jwOpuzA-SB2_",
        "colab_type": "text"
      },
      "source": [
        "# Running for varying number of data points"
      ]
    },
    {
      "cell_type": "code",
      "metadata": {
        "id": "tW55tIOIXeis",
        "colab_type": "code",
        "colab": {}
      },
      "source": [
        "def query(nQueries):\n",
        "\n",
        "  data = np.zeros((nQueries, nDim))\n",
        "  labels = np.zeros(nQueries)\n",
        "  counts = np.empty((nModes, 1))\n",
        "\n",
        "  for i in range(nQueries):\n",
        "    data[i,:] = np.random.uniform(low = Low, high = High, size = (1,2))\n",
        "    s = SUPER2.switch(DUMMY, data[i,0], data[i,1])\n",
        "    if s == 1: \n",
        "      counts[s-1]+=1\n",
        "    elif s==2:\n",
        "      counts[s-1]+=1\n",
        "    elif s==3:\n",
        "      counts[s-1]+=1\n",
        "    else: counts[s-1]+=1\n",
        "    labels[i] = s-1  # Because label 0 = mode 1 and so on\n",
        "\n",
        "  return data, labels\n",
        "\n",
        "def splitter(data, labels, num_classes):\n",
        "  # Converting labels to one-hot-vectors\n",
        "  _labels = keras.utils.np_utils.to_categorical(labels, num_classes=4)\n",
        "  # Splitting dataset\n",
        "  split = int(0.75*nQueries)\n",
        "  data_train = data[0:split,:]\n",
        "  labels_train = _labels[0:split,:]\n",
        "  data_test = data[split:,:]\n",
        "  labels_test = _labels[split:,:]\n",
        "  return data_train, data_test, labels_train, labels_test\n",
        "\n",
        "def confusionMatrix(data, y_true, nClasses):\n",
        "  y_pred = supervisorApprox.predict_classes(data)\n",
        "  with tf.Session() as sess:\n",
        "    confusion_matrix = tf.confusion_matrix(labels=y_true,\n",
        "                                          predictions=y_pred, \n",
        "                                          num_classes=nClasses)\n",
        "    confusion_matrix_to_Print = sess.run(confusion_matrix)\n",
        "    normalized_confusion = normalize(confusion_matrix_to_Print, \n",
        "                                   axis=1, norm='l1')\n",
        "  print(normalized_confusion)\n",
        "  return normalized_confusion"
      ],
      "execution_count": 0,
      "outputs": []
    },
    {
      "cell_type": "code",
      "metadata": {
        "id": "dlf5jqpZSE-s",
        "colab_type": "code",
        "colab": {}
      },
      "source": [
        "k = np.logspace(0, 4, num=20)\n",
        "nClasses = 4\n",
        "MATS = np.empty((nClasses*nClasses, k.size))\n",
        "j = 0\n",
        "for i in k:\n",
        "  print(i)\n",
        "  _data, _labels = query(int(i))\n",
        "  data_train, data_test, labels_train, labels_test = splitter(_data, _labels, nClasses)\n",
        "  supervisorApprox = NN_arch()\n",
        "  supervisorApprox.build((None, nDim))\n",
        "  #This bit trains the NN for a given data set\n",
        "  supervisorApprox.compile(loss=\"mean_squared_error\", \n",
        "                      optimizer = \"adam\", \n",
        "                      metrics = ['accuracy'])\n",
        "  supervisorApprox_metaData = supervisorApprox.fit(\n",
        "                  data_train, labels_train, \n",
        "                  validation_data = (data_test, labels_test), \n",
        "                  epochs = 100, \n",
        "                  batch_size = 5, \n",
        "                  shuffle = True, verbose = False)\n",
        "  #Print accuracy of model on testing set after training \n",
        "  # scores = supervisorApprox.evaluate(data_test, labels_test)\n",
        "  # print(\"Accuracy: %0.4f%%\" %(scores[1]*100) )\n",
        "  # print(\"Accuracy: %0.4f%%\" %(scores[1]*100) )\n",
        "  cM = confusionMatrix(data, labels, nClasses)\n",
        "  MATS[:,j] = cM.flatten()\n",
        "  j+=1"
      ],
      "execution_count": 0,
      "outputs": []
    },
    {
      "cell_type": "code",
      "metadata": {
        "id": "8xk6Wr9YtMI6",
        "colab_type": "code",
        "colab": {}
      },
      "source": [
        "  plt.figure(figsize = (15,15))\n",
        "sn.set(font_scale=1) #for label size\n",
        "sn.heatmap(MATS, cmap =  sn.cm.rocket_r, \n",
        "           annot=True,\n",
        "           annot_kws={\"size\": 16}) # font size"
      ],
      "execution_count": 0,
      "outputs": []
    },
    {
      "cell_type": "code",
      "metadata": {
        "id": "QLJcYsnmZYKE",
        "colab_type": "code",
        "colab": {}
      },
      "source": [
        "data.shape\n",
        "_data.shape"
      ],
      "execution_count": 0,
      "outputs": []
    },
    {
      "cell_type": "code",
      "metadata": {
        "id": "mqsmtGz_tNii",
        "colab_type": "code",
        "colab": {}
      },
      "source": [
        ""
      ],
      "execution_count": 0,
      "outputs": []
    }
  ]
}
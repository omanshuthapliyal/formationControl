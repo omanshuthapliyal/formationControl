{
  "nbformat": 4,
  "nbformat_minor": 0,
  "metadata": {
    "colab": {
      "name": "SupervisoryControlAttack-formation-of-robots.ipynb",
      "provenance": [],
      "collapsed_sections": [
        "TrT7qcXXCzs9"
      ],
      "toc_visible": true,
      "include_colab_link": true
    },
    "kernelspec": {
      "name": "python3",
      "display_name": "Python 3"
    }
  },
  "cells": [
    {
      "cell_type": "markdown",
      "metadata": {
        "id": "view-in-github",
        "colab_type": "text"
      },
      "source": [
        "<a href=\"https://colab.research.google.com/github/omanshuthapliyal/formationControl/blob/relativeMotionDescription/SupervisoryControlAttack_formation_of_robots.ipynb\" target=\"_parent\"><img src=\"https://colab.research.google.com/assets/colab-badge.svg\" alt=\"Open In Colab\"/></a>"
      ]
    },
    {
      "cell_type": "markdown",
      "metadata": {
        "id": "IEV93_SMyNrO",
        "colab_type": "text"
      },
      "source": [
        "# Defining ***Robot Formation*** model.\n",
        "\n",
        "Adapted from [Hybrid Control of Formation of Robots](https://ieeexplore.ieee.org/stamp/stamp.jsp?arnumber=932546).\n",
        "\n"
      ]
    },
    {
      "cell_type": "code",
      "metadata": {
        "id": "rbfwqjD0yDAA",
        "colab_type": "code",
        "colab": {}
      },
      "source": [
        "from numpy import matmul \n",
        "import numpy as np\n",
        "from numpy import pi\n",
        "import scipy.linalg\n",
        "import matplotlib.pyplot as plt\n",
        "from math import sin, cos, acos, atan, sqrt\n",
        "import scipy.integrate as integrate"
      ],
      "execution_count": 0,
      "outputs": []
    },
    {
      "cell_type": "code",
      "metadata": {
        "id": "c2EvwdMXgxbz",
        "colab_type": "code",
        "colab": {
          "base_uri": "https://localhost:8080/",
          "height": 34
        },
        "outputId": "e9f844be-7fa5-4cd7-f68c-bf9b31ab93f9"
      },
      "source": [
        "pi - atan(2/1.3)"
      ],
      "execution_count": 17,
      "outputs": [
        {
          "output_type": "execute_result",
          "data": {
            "text/plain": [
              "2.14717154738608"
            ]
          },
          "metadata": {
            "tags": []
          },
          "execution_count": 17
        }
      ]
    },
    {
      "cell_type": "markdown",
      "metadata": {
        "id": "FiexJL813Ek1",
        "colab_type": "text"
      },
      "source": [
        "## Plant Objects"
      ]
    },
    {
      "cell_type": "code",
      "metadata": {
        "id": "JeT3mNvOytXt",
        "colab_type": "code",
        "colab": {}
      },
      "source": [
        "def stateProp(xDot, x, t, dt):\n",
        "  # xDot = dx/dt = constant during dT, x = x(t), dt = Delta T\n",
        "  dx = xDot*dt\n",
        "  return x + dx\n",
        "  \n",
        "class PLANT:\n",
        "  def __init__(self):\n",
        "    # See beginning of section 4\n",
        "    self.d = 0.1  # Robot dimension\n",
        "    self.l_des = [[0, 1, 1],\n",
        "                  [1, 0, 1],\n",
        "                  [1, 1, 0]]\n",
        "    # See Eq. 19\n",
        "    d12 = pi/2\n",
        "    d13 = acos((self.l_des[0][1]**2 + self.l_des[0][2]**2 - self.l_des[1][2]**2)/\n",
        "               (2*self.l_des[0][1]*self.l_des[0][2])) + d12\n",
        "    d23 = pi + pi/6\n",
        "    self.psi_des = [[0, d12, d13],\n",
        "                    [d12, 0, d23],\n",
        "                    [d13, d23, 0]]\n",
        "    self.r = np.array([3, 3, 3]) # Sensor radius, unspecified in the paper\n",
        "    self.t = 0\n",
        "    self.dt = 0.01\n",
        "    self.l = [[0, 1.5, sqrt(1.04)],\n",
        "              [1.5, 0, sqrt(5.69)],\n",
        "              [sqrt(1.04), sqrt(5.69), 0]]\n",
        "    self.lDot = np.zeros_like(self.l)\n",
        "    self.psi = [[0, -pi/6, -pi/6 + atan(10)],\n",
        "                [-pi/6, 0, pi - atan(2/1.3)],\n",
        "                [-pi/6 + atan(10), pi - atan(2/1.3), 0]]\n",
        "    self.psiDot = np.zeros_like(self.psi)\n",
        "    # Initial conditions in global coordinates\n",
        "    self.x = np.array([0, 1.5, 0.2])\n",
        "    self.y = np.array([0, 0, 2])\n",
        "    self.xDot = np.zeros_like(self.x)\n",
        "    self.yDot = np.zeros_like(self.x)\n",
        "    self.theta = np.array([pi/6, 0, pi/6])\n",
        "    self.thetaDot = np.zeros_like(self.theta)\n",
        "    self.v = 0.5\n",
        "    self.w = np.array([0.1*sin(0.2*self.t), 0, 0])\n",
        "    self.k1 = 1\n",
        "    self.k2 = 1\n",
        "    self.k3 = 1\n",
        "\n",
        "  def SB_ijC(self,i,j):\n",
        "    # Robots j follows Robot i\n",
        "    \n",
        "    # Global coordinate equations from Eq 2-4\n",
        "    gamma_ij = self.theta[i] - self.theta[j] + self.psi[i][j]\n",
        "    s_ij = self.k1 * (self.l_des[i][j] - self.l[i][j])\n",
        "    b_ij = self.k2 * (self.psi_des[i][j] - self.psi[i][j])\n",
        "    # Eqs. 2-3\n",
        "    self.v[j] = ( s_ij * cos(gamma_ij) - self.l[i][j] * sin(gamma_ij) * (b_ij + self.w[i]) + \n",
        "                 self.v[i]*cos(self.theta[i]-self.theta[j]) )\n",
        "    self.w[j] = ( s_ij * sin(gamma_ij) + self.l[i][j] * cos(gamma_ij) * (b_ij + self.w[i]) + \n",
        "                 self.v[i]*sin(self.theta[i]-self.theta[j]) )/self.d\n",
        "\n",
        "    # See Eqs. 15 - 17\n",
        "    self.lDot[i][j] = s_ij\n",
        "    self.l[i][j] = stateProp(self.lDot[i][j],\n",
        "                             self.l[i][j], self.t, self.dt)\n",
        "    \n",
        "    self.psiDot[i][j] =\n",
        "    self.psi[i][j] = stateProp(self.psiDot[i][j],\n",
        "                             self.psi[i][j], self.t, self.dt)\n",
        "    \n",
        "    self.thetaDot[j] = self.w[j]\n",
        "    self.theta[j] = stateProp(self.thetaDot[j],\n",
        "                             self.theta[j], self.t, self.dt)\n",
        "    \n",
        "\n",
        "\n",
        "  def S_ikS_jkC(self,i,j,k):\n",
        "    # Robot k follows Robots i & j\n",
        "    # Global coordinate equations from Eqs 6-7\n",
        "    gamma_jk = self.theta[j] - self.theta[k] + self.psi[j]][k]\n",
        "    gamma_ik = self.theta[i] - self.theta[k] + self.psi[i]][k]\n",
        "\n",
        "    s_ik = self.k1 * (self.l_des[i][k] - self.l[i][k])\n",
        "    s_jk = self.k1 * (self.l_des[j][k] - self.l[j][k])\n",
        "\n",
        "    \n",
        "    \n",
        "    # See Eq. 17\n",
        "    self.lDot[i][k] = self.k1 * (self.l_des[i][k] - self.l[i][k])\n",
        "    self.l[i][k] = stateProp(self.lDot[i][k],\n",
        "                             self.l[i][k], self.t, self.dt)\n",
        "    \n",
        "    self.lDot[j][k] = self.k1 * (self.l_des[j][k] - self.l[j][k])\n",
        "    self.l[j][k] = stateProp(self.lDot[j][k],\n",
        "                             self.l[j][k], self.t, self.dt)\n",
        "    \n",
        "    self.thetaDot[k] = self.w[k]\n",
        "    self.theta[k] = stateProp(self.thetaDot[k],\n",
        "                             self.theta[k], self.t, self.dt)\n",
        "\n",
        "\n",
        "  def autoNavig(self, i):\n",
        "    self.xDot[i-1] = self.v*cos(self.theta[i-1])\n",
        "    self.x[i-1] = stateProp(self.xDot[i-1], self.x[i-1], self.t, self.dt)\n",
        "\n",
        "    self.yDot[i-1] = self.v*sin(self.theta[i-1])\n",
        "    self.y[i-1] = stateProp(self.yDot[i-1], self.y[i-1], self.t, self.dt)\n",
        "\n",
        "    self.thetaDot[i-1] = self.w[i-1]\n",
        "    self.theta[i-1] = stateProp(self.thetaDot[i-1], self.theta[i-1], self.t, self.dt)\n",
        "    \n",
        "  def updatePosition(self, i):\n",
        "    # Update the position of robot i following robot 1\n",
        "    # Updates using position of Robot 1\n",
        "    self.x[i] = self.x[0] + self.l[0][i]*cos(self.psi[0][i]+self.theta[0])\n",
        "    self.y[i] = self.y[0] + self.l[0][i]*sin(self.psi[0][i]+self.theta[0])\n",
        "\n",
        "  def propagate(self, supervObj, i):\n",
        "    # ID = 1, 2, 3 are robot numbers. We are interested in Robot 3\n",
        "    if i == 1:\n",
        "      # leader's dynamics are given by Eq. 1\n",
        "      self.w[0] = 0.1*sin(0.2*self.t)\n",
        "      self.thetaDot[i-1] = self.w[0]\n",
        "      self.theta[i-1] = stateProp(self.thetaDot[i-1], self.theta[i-1], self.t, self.dt)\n",
        "\n",
        "      self.xDot[i-1] = self.v*cos(self.theta[0])\n",
        "      self.x[i-1] = stateProp(self.xDot[i-1], self.x[i-1], self.t, self.dt)\n",
        "\n",
        "      self.yDot[i-1] = self.v*sin(self.theta[0])\n",
        "      self.y[i-1] = stateProp(self.yDot[i-1], self.y[i-1], self.t, self.dt)\n",
        "    \n",
        "    elif i == 2:\n",
        "      # Robot 2 is always in SB_12C mode,that is, following robot 1\n",
        "      self.SB_ijC(0,1)    # (1,2) = (0,1) due to zero indexing\n",
        "      self.updatePosition(i-1) \n",
        "    \n",
        "    else:\n",
        "      # Choose mode for Robot 3\n",
        "      mode = supervObj.switch(self)\n",
        "      if mode == 1: \n",
        "        self.SB_ijC(0,2)    # Robot 3 follows Robot 1\n",
        "      elif mode == 2: \n",
        "        self.SB_ijC(1,2)    # Robot 3 follows Robot 2\n",
        "      elif mode == 3: \n",
        "        self.S_ikS_jkC(0,2,1)    # Robot 3 follows Robot 1 & 2 \n",
        "      elif mode == 4: # Autonomous Navigation for Robot 3\n",
        "        print(\"Attempting AutoNav . . . define this function\")\n",
        "      # Update states for Robot 3 after updating the mode\n",
        "      self.updatePosition(i-1) \n",
        "    "
      ],
      "execution_count": 0,
      "outputs": []
    },
    {
      "cell_type": "markdown",
      "metadata": {
        "id": "TrT7qcXXCzs9",
        "colab_type": "text"
      },
      "source": [
        "## Supervisor Model"
      ]
    },
    {
      "cell_type": "code",
      "metadata": {
        "id": "U0kFFvA0Cerk",
        "colab_type": "code",
        "colab": {}
      },
      "source": [
        " class supervisor:\n",
        "    def switch(self, Plant):\n",
        "    # Supervisory Logic for Robot 3, where it can detect robots 1 & 2\n",
        "    # based on Section 3.1\n",
        "      b1 = (Plant.l[0][2] < Plant.l[1][2]) and (Plant.l[1][2] > Plant.r[0]) and\\\n",
        "      (Plant.l[0][2] < Plant.r[1]) \n",
        "      b2 = (Plant.l[0][2] > Plant.l[1][2]) and (Plant.l[0][2] > Plant.r[0]) and\\\n",
        "      (Plant.l[1][2] < Plant.r[1]) \n",
        "      b3 = (Plant.l[0][2] < Plant.r[0]) and (Plant.l[1][2] < Plant.r[0])\n",
        "      b4 = (Plant.l[0][2] > Plant.r[1]) and (Plant.l[1][2] > Plant.r[1])\n",
        "      if b1 == True: return 1\n",
        "      elif b2 == True: return 2\n",
        "      elif b3 == True: return 3\n",
        "      elif b4 == True: return 4"
      ],
      "execution_count": 0,
      "outputs": []
    },
    {
      "cell_type": "markdown",
      "metadata": {
        "id": "mATX1kF73Jhl",
        "colab_type": "text"
      },
      "source": [
        "## Propagate plant to simulate supervisor\n",
        "Not used in training, only to visualize plant behaviour"
      ]
    },
    {
      "cell_type": "code",
      "metadata": {
        "id": "1YvD-Kz-y0xz",
        "colab_type": "code",
        "colab": {
          "base_uri": "https://localhost:8080/",
          "height": 393
        },
        "outputId": "9c2f2c0d-05bd-4e32-adf5-0f49f11fd911"
      },
      "source": [
        "# Initial parameters for running plant \n",
        "ROBOTS = PLANT()\n",
        "tSim = 10*pi\n",
        "SUPER = supervisor()\n",
        "tHISTORY = np.zeros((int(tSim/ROBOTS.dt)+1,1))\n",
        "xHISTORY = np.zeros((tHISTORY.size,3))\n",
        "yHISTORY = np.zeros_like(xHISTORY)\n",
        "thetaHISTORY = np.zeros_like(xHISTORY)\n",
        "\n",
        "for t in range(tHISTORY.size):\n",
        "# Looping across time\n",
        "  for i in range(3):\n",
        "    # Looping over robots\n",
        "    xHISTORY[t][i] = ROBOTS.x[i]\n",
        "    yHISTORY[t][i] = ROBOTS.y[i]\n",
        "    thetaHISTORY[t][i] = ROBOTS.theta[i]\n",
        "    ROBOTS.propagate(SUPER,i)\n",
        "  ROBOTS.t += ROBOTS.dt\n",
        "\n",
        "# Plotting trajectories:\n",
        "colors = ['k-','r:','k:']\n",
        "for i in range(3):\n",
        "  plt.plot(xHISTORY[:,i],yHISTORY[:,i],colors[i])\n",
        "plt.show()"
      ],
      "execution_count": 113,
      "outputs": [
        {
          "output_type": "display_data",
          "data": {
            "image/png": "[encoded data removed]",
            "text/plain": [
              "<Figure size 432x288 with 1 Axes>"
            ]
          },
          "metadata": {
            "tags": []
          }
        },
        {
          "output_type": "execute_result",
          "data": {
            "text/plain": [
              "array([[0.00000000e+00, 1.50000000e+00, 1.01474281e-01],\n",
              "       [4.33012702e-03, 1.49405333e+00, 1.05804408e-01],\n",
              "       [8.66024904e-03, 1.48767261e+00, 1.10132501e-01],\n",
              "       ...,\n",
              "       [7.65869285e+00, 7.15868479e+00, 7.76015768e+00],\n",
              "       [7.66302297e+00, 7.16301939e+00, 7.76449306e+00],\n",
              "       [7.66735309e+00, 7.16735228e+00, 7.76882642e+00]])"
            ]
          },
          "metadata": {
            "tags": []
          },
          "execution_count": 113
        }
      ]
    },
    {
      "cell_type": "code",
      "metadata": {
        "id": "BW4HYmxW4Bog",
        "colab_type": "code",
        "colab": {
          "base_uri": "https://localhost:8080/",
          "height": 34
        },
        "outputId": "cd1c6635-1f0a-4128-bdaa-40c6f6fa445b"
      },
      "source": [
        ""
      ],
      "execution_count": 100,
      "outputs": [
        {
          "output_type": "execute_result",
          "data": {
            "text/plain": [
              "10.1"
            ]
          },
          "metadata": {
            "tags": []
          },
          "execution_count": 100
        }
      ]
    },
    {
      "cell_type": "markdown",
      "metadata": {
        "id": "9Jjezam53UGE",
        "colab_type": "text"
      },
      "source": [
        "# Building Statistical model of Supervisory logic"
      ]
    },
    {
      "cell_type": "markdown",
      "metadata": {
        "id": "KC4Mo3zz4Dvl",
        "colab_type": "text"
      },
      "source": [
        "## Making Queries to the Supervisor object"
      ]
    },
    {
      "cell_type": "code",
      "metadata": {
        "id": "v-0RRNwYNgRT",
        "colab_type": "code",
        "colab": {}
      },
      "source": [
        "#Import necessary packages\n",
        "import numpy as np\n",
        "import keras\n",
        "import tensorflow as tf\n",
        "from keras.datasets import mnist\n",
        "from keras.layers import Dense, Dropout\n",
        "from keras.models import Sequential\n",
        "import matplotlib.pyplot as plt\n",
        "from keras import backend as K"
      ],
      "execution_count": 0,
      "outputs": []
    },
    {
      "cell_type": "code",
      "metadata": {
        "id": "mh27QxSN0IGZ",
        "colab_type": "code",
        "colab": {}
      },
      "source": [
        "# Making Queries to the Supervisor\n",
        "nDim = 4\n",
        "nModes = 2\n",
        "mean = np.zeros(nDim)\n",
        "cov = np.eye(4)*100\n",
        "nQ = 15000\n",
        "# Collecting data from Queries\n",
        "data = np.zeros((nQ, nDim))\n",
        "labels = np.zeros(nQ)\n",
        "ctr = 0\n",
        "for i in range(nQ):\n",
        "  data[i,:] = np.random.multivariate_normal(mean,cov)\n",
        "  s = SUP.switch(data[i,:])\n",
        "  if s == 1: \n",
        "    ctr+=1\n",
        "    labels[i] = 1 \n",
        "k = np.random.choice(nQ)\n",
        "# Converting labels to one-hot-vectors\n",
        "labels = keras.utils.np_utils.to_categorical(labels, num_classes=nModes)\n",
        "# Splitting dataset\n",
        "data_train = data[0:10000,:]\n",
        "labels_train = labels[0:10000,:]\n",
        "data_test = data[10000:,:]\n",
        "labels_test = labels[10000:,:]"
      ],
      "execution_count": 0,
      "outputs": []
    },
    {
      "cell_type": "markdown",
      "metadata": {
        "id": "bU0OgI4M4Ftj",
        "colab_type": "text"
      },
      "source": [
        "## Defining Neural Network Architecture"
      ]
    },
    {
      "cell_type": "code",
      "metadata": {
        "id": "4oTfSSFm29Ri",
        "colab_type": "code",
        "colab": {}
      },
      "source": [
        "def NN_arch():\n",
        "  model = Sequential()\n",
        "\n",
        "  # Input Layer: accepts nDim number of inputs\n",
        "  model.add(Dense(units = nDim, \n",
        "                  use_bias = True, \n",
        "                  kernel_initializer = \"uniform\"))\n",
        "  # Second Layer with 3 units\n",
        "  model.add(Dense(units = 3,\n",
        "                  use_bias = True,\n",
        "                  kernel_initializer = \"uniform\",\n",
        "                  activation = \"relu\"))\n",
        "  model.add(Dropout(0.30))\n",
        "  '''\n",
        "  # Third Layer with 6 units\n",
        "  model.add(Dense(units = 6,\n",
        "                  use_bias = True,\n",
        "                  kernel_initializer = \"uniform\",\n",
        "                  activation = \"relu\"))\n",
        "  model.add(Dropout(0.30))\n",
        "  '''\n",
        "  # Output Layer with 2 units\n",
        "  model.add(Dense(units = nModes,\n",
        "                  activation = \"sigmoid\",\n",
        "                  kernel_initializer = \"uniform\"))\n",
        "  return model"
      ],
      "execution_count": 0,
      "outputs": []
    },
    {
      "cell_type": "markdown",
      "metadata": {
        "id": "fy1oUJAqER8i",
        "colab_type": "text"
      },
      "source": [
        "## Training model"
      ]
    },
    {
      "cell_type": "markdown",
      "metadata": {
        "id": "RUGcBZNdKz1x",
        "colab_type": "text"
      },
      "source": [
        "### Building Model"
      ]
    },
    {
      "cell_type": "code",
      "metadata": {
        "id": "Ooj7kAO-EUQa",
        "colab_type": "code",
        "outputId": "0a5528ce-b1cc-4315-d6b6-a993279b085d",
        "colab": {
          "base_uri": "https://localhost:8080/",
          "height": 306
        }
      },
      "source": [
        "supervisorApprox = NN_arch()\n",
        "supervisorApprox.build((None, nDim))\n",
        "print(supervisorApprox.summary())"
      ],
      "execution_count": 0,
      "outputs": [
        {
          "output_type": "stream",
          "text": [
            "Model: \"sequential_20\"\n",
            "_________________________________________________________________\n",
            "Layer (type)                 Output Shape              Param #   \n",
            "=================================================================\n",
            "dense_88 (Dense)             (None, 4)                 20        \n",
            "_________________________________________________________________\n",
            "dense_89 (Dense)             (None, 3)                 15        \n",
            "_________________________________________________________________\n",
            "dropout_6 (Dropout)          (None, 3)                 0         \n",
            "_________________________________________________________________\n",
            "dense_90 (Dense)             (None, 2)                 8         \n",
            "=================================================================\n",
            "Total params: 43\n",
            "Trainable params: 43\n",
            "Non-trainable params: 0\n",
            "_________________________________________________________________\n",
            "None\n"
          ],
          "name": "stdout"
        }
      ]
    },
    {
      "cell_type": "markdown",
      "metadata": {
        "id": "bJckMDL9K2Ub",
        "colab_type": "text"
      },
      "source": [
        "### Training model"
      ]
    },
    {
      "cell_type": "code",
      "metadata": {
        "id": "angXvmYEK29l",
        "colab_type": "code",
        "outputId": "05da30cb-b332-4596-db87-f6ba4af5bd2d",
        "colab": {
          "base_uri": "https://localhost:8080/",
          "height": 1000
        }
      },
      "source": [
        "print(data_train.shape)\n",
        "supervisorApprox.compile(loss=\"mean_squared_error\", \n",
        "                    optimizer = \"adam\", \n",
        "                    metrics = ['accuracy'])\n",
        "supervisorApprox_metaData = supervisorApprox.fit(\n",
        "                data_train, labels_train, \n",
        "                validation_data = (data_test, labels_test), \n",
        "                epochs = 50, \n",
        "                batch_size = 100, \n",
        "                shuffle = True)\n",
        "#Print accuracy of model on testing set after training \n",
        "scores = supervisorApprox.evaluate(data_test, labels_test)\n",
        "print(\"Accuracy: %0.4f%%\" %(scores[1]*100) )"
      ],
      "execution_count": 0,
      "outputs": [
        {
          "output_type": "stream",
          "text": [
            "(10000, 4)\n",
            "Train on 10000 samples, validate on 5000 samples\n",
            "Epoch 1/50\n",
            "10000/10000 [==============================] - 2s 193us/step - loss: 0.2318 - acc: 0.9668 - val_loss: 0.1985 - val_acc: 0.9764\n",
            "Epoch 2/50\n",
            "10000/10000 [==============================] - 0s 18us/step - loss: 0.1608 - acc: 0.9790 - val_loss: 0.1282 - val_acc: 0.9764\n",
            "Epoch 3/50\n",
            "10000/10000 [==============================] - 0s 19us/step - loss: 0.1274 - acc: 0.9790 - val_loss: 0.1106 - val_acc: 0.9764\n",
            "Epoch 4/50\n",
            "10000/10000 [==============================] - 0s 19us/step - loss: 0.1134 - acc: 0.9790 - val_loss: 0.0994 - val_acc: 0.9764\n",
            "Epoch 5/50\n",
            "10000/10000 [==============================] - 0s 21us/step - loss: 0.1037 - acc: 0.9790 - val_loss: 0.0903 - val_acc: 0.9764\n",
            "Epoch 6/50\n",
            "10000/10000 [==============================] - 0s 19us/step - loss: 0.0944 - acc: 0.9790 - val_loss: 0.0824 - val_acc: 0.9764\n",
            "Epoch 7/50\n",
            "10000/10000 [==============================] - 0s 18us/step - loss: 0.0865 - acc: 0.9790 - val_loss: 0.0752 - val_acc: 0.9764\n",
            "Epoch 8/50\n",
            "10000/10000 [==============================] - 0s 18us/step - loss: 0.0779 - acc: 0.9790 - val_loss: 0.0685 - val_acc: 0.9764\n",
            "Epoch 9/50\n",
            "10000/10000 [==============================] - 0s 18us/step - loss: 0.0713 - acc: 0.9790 - val_loss: 0.0611 - val_acc: 0.9764\n",
            "Epoch 10/50\n",
            "10000/10000 [==============================] - 0s 19us/step - loss: 0.0618 - acc: 0.9790 - val_loss: 0.0489 - val_acc: 0.9764\n",
            "Epoch 11/50\n",
            "10000/10000 [==============================] - 0s 18us/step - loss: 0.0389 - acc: 0.9790 - val_loss: 0.0232 - val_acc: 0.9764\n",
            "Epoch 12/50\n",
            "10000/10000 [==============================] - 0s 18us/step - loss: 0.0298 - acc: 0.9790 - val_loss: 0.0230 - val_acc: 0.9764\n",
            "Epoch 13/50\n",
            "10000/10000 [==============================] - 0s 18us/step - loss: 0.0296 - acc: 0.9790 - val_loss: 0.0230 - val_acc: 0.9764\n",
            "Epoch 14/50\n",
            "10000/10000 [==============================] - 0s 18us/step - loss: 0.0292 - acc: 0.9790 - val_loss: 0.0231 - val_acc: 0.9764\n",
            "Epoch 15/50\n",
            "10000/10000 [==============================] - 0s 18us/step - loss: 0.0284 - acc: 0.9790 - val_loss: 0.0231 - val_acc: 0.9764\n",
            "Epoch 16/50\n",
            "10000/10000 [==============================] - 0s 18us/step - loss: 0.0288 - acc: 0.9790 - val_loss: 0.0231 - val_acc: 0.9764\n",
            "Epoch 17/50\n",
            "10000/10000 [==============================] - 0s 19us/step - loss: 0.0287 - acc: 0.9790 - val_loss: 0.0231 - val_acc: 0.9764\n",
            "Epoch 18/50\n",
            "10000/10000 [==============================] - 0s 19us/step - loss: 0.0281 - acc: 0.9790 - val_loss: 0.0232 - val_acc: 0.9764\n",
            "Epoch 19/50\n",
            "10000/10000 [==============================] - 0s 19us/step - loss: 0.0286 - acc: 0.9790 - val_loss: 0.0232 - val_acc: 0.9764\n",
            "Epoch 20/50\n",
            "10000/10000 [==============================] - 0s 18us/step - loss: 0.0280 - acc: 0.9790 - val_loss: 0.0232 - val_acc: 0.9764\n",
            "Epoch 21/50\n",
            "10000/10000 [==============================] - 0s 18us/step - loss: 0.0279 - acc: 0.9790 - val_loss: 0.0232 - val_acc: 0.9764\n",
            "Epoch 22/50\n",
            "10000/10000 [==============================] - 0s 19us/step - loss: 0.0271 - acc: 0.9790 - val_loss: 0.0232 - val_acc: 0.9764\n",
            "Epoch 23/50\n",
            "10000/10000 [==============================] - 0s 19us/step - loss: 0.0274 - acc: 0.9790 - val_loss: 0.0232 - val_acc: 0.9764\n",
            "Epoch 24/50\n",
            "10000/10000 [==============================] - 0s 19us/step - loss: 0.0269 - acc: 0.9790 - val_loss: 0.0232 - val_acc: 0.9764\n",
            "Epoch 25/50\n",
            "10000/10000 [==============================] - 0s 18us/step - loss: 0.0271 - acc: 0.9790 - val_loss: 0.0232 - val_acc: 0.9764\n",
            "Epoch 26/50\n",
            "10000/10000 [==============================] - 0s 18us/step - loss: 0.0266 - acc: 0.9790 - val_loss: 0.0233 - val_acc: 0.9764\n",
            "Epoch 27/50\n",
            "10000/10000 [==============================] - 0s 19us/step - loss: 0.0265 - acc: 0.9790 - val_loss: 0.0233 - val_acc: 0.9764\n",
            "Epoch 28/50\n",
            "10000/10000 [==============================] - 0s 19us/step - loss: 0.0262 - acc: 0.9790 - val_loss: 0.0232 - val_acc: 0.9764\n",
            "Epoch 29/50\n",
            "10000/10000 [==============================] - 0s 18us/step - loss: 0.0257 - acc: 0.9790 - val_loss: 0.0233 - val_acc: 0.9764\n",
            "Epoch 30/50\n",
            "10000/10000 [==============================] - 0s 18us/step - loss: 0.0256 - acc: 0.9790 - val_loss: 0.0233 - val_acc: 0.9764\n",
            "Epoch 31/50\n",
            "10000/10000 [==============================] - 0s 19us/step - loss: 0.0259 - acc: 0.9790 - val_loss: 0.0233 - val_acc: 0.9764\n",
            "Epoch 32/50\n",
            "10000/10000 [==============================] - 0s 19us/step - loss: 0.0255 - acc: 0.9790 - val_loss: 0.0233 - val_acc: 0.9764\n",
            "Epoch 33/50\n",
            "10000/10000 [==============================] - 0s 19us/step - loss: 0.0255 - acc: 0.9790 - val_loss: 0.0233 - val_acc: 0.9764\n",
            "Epoch 34/50\n",
            "10000/10000 [==============================] - 0s 18us/step - loss: 0.0245 - acc: 0.9790 - val_loss: 0.0232 - val_acc: 0.9764\n",
            "Epoch 35/50\n",
            "10000/10000 [==============================] - 0s 19us/step - loss: 0.0248 - acc: 0.9790 - val_loss: 0.0232 - val_acc: 0.9764\n",
            "Epoch 36/50\n",
            "10000/10000 [==============================] - 0s 18us/step - loss: 0.0247 - acc: 0.9790 - val_loss: 0.0232 - val_acc: 0.9764\n",
            "Epoch 37/50\n",
            "10000/10000 [==============================] - 0s 18us/step - loss: 0.0246 - acc: 0.9790 - val_loss: 0.0232 - val_acc: 0.9764\n",
            "Epoch 38/50\n",
            "10000/10000 [==============================] - 0s 20us/step - loss: 0.0242 - acc: 0.9790 - val_loss: 0.0232 - val_acc: 0.9764\n",
            "Epoch 39/50\n",
            "10000/10000 [==============================] - 0s 20us/step - loss: 0.0241 - acc: 0.9790 - val_loss: 0.0232 - val_acc: 0.9764\n",
            "Epoch 40/50\n",
            "10000/10000 [==============================] - 0s 18us/step - loss: 0.0241 - acc: 0.9790 - val_loss: 0.0232 - val_acc: 0.9764\n",
            "Epoch 41/50\n",
            "10000/10000 [==============================] - 0s 19us/step - loss: 0.0238 - acc: 0.9790 - val_loss: 0.0233 - val_acc: 0.9764\n",
            "Epoch 42/50\n",
            "10000/10000 [==============================] - 0s 19us/step - loss: 0.0238 - acc: 0.9790 - val_loss: 0.0232 - val_acc: 0.9764\n",
            "Epoch 43/50\n",
            "10000/10000 [==============================] - 0s 19us/step - loss: 0.0235 - acc: 0.9790 - val_loss: 0.0232 - val_acc: 0.9764\n",
            "Epoch 44/50\n",
            "10000/10000 [==============================] - 0s 19us/step - loss: 0.0238 - acc: 0.9790 - val_loss: 0.0232 - val_acc: 0.9764\n",
            "Epoch 45/50\n",
            "10000/10000 [==============================] - 0s 19us/step - loss: 0.0231 - acc: 0.9790 - val_loss: 0.0232 - val_acc: 0.9764\n",
            "Epoch 46/50\n",
            "10000/10000 [==============================] - 0s 18us/step - loss: 0.0233 - acc: 0.9790 - val_loss: 0.0232 - val_acc: 0.9764\n",
            "Epoch 47/50\n",
            "10000/10000 [==============================] - 0s 20us/step - loss: 0.0229 - acc: 0.9790 - val_loss: 0.0232 - val_acc: 0.9764\n",
            "Epoch 48/50\n",
            "10000/10000 [==============================] - 0s 19us/step - loss: 0.0228 - acc: 0.9790 - val_loss: 0.0232 - val_acc: 0.9764\n",
            "Epoch 49/50\n",
            "10000/10000 [==============================] - 0s 18us/step - loss: 0.0230 - acc: 0.9790 - val_loss: 0.0232 - val_acc: 0.9764\n",
            "Epoch 50/50\n",
            "10000/10000 [==============================] - 0s 19us/step - loss: 0.0226 - acc: 0.9790 - val_loss: 0.0232 - val_acc: 0.9764\n",
            "5000/5000 [==============================] - 0s 24us/step\n",
            "Accuracy: 97.6400%\n"
          ],
          "name": "stdout"
        }
      ]
    },
    {
      "cell_type": "markdown",
      "metadata": {
        "id": "I6_y_C4CRNLw",
        "colab_type": "text"
      },
      "source": [
        "### Model Performance Plots"
      ]
    },
    {
      "cell_type": "code",
      "metadata": {
        "id": "5E8RuHsSPPe0",
        "colab_type": "code",
        "outputId": "8e6c7b0c-f4e0-473b-da0c-75aeb8e24a54",
        "colab": {
          "base_uri": "https://localhost:8080/",
          "height": 573
        }
      },
      "source": [
        "#Plot accuracy vs epoch\n",
        "plt.plot(supervisorApprox_metaData.history['acc'])\n",
        "plt.plot(supervisorApprox_metaData.history['val_acc'])\n",
        "plt.title('Supervisor Approximator Accuracy v/s Epoch')\n",
        "plt.xlabel('# Epoch')\n",
        "plt.ylabel('Accuracy')\n",
        "plt.legend(['train', 'test'], loc = 'lower right')\n",
        "plt.show()\n",
        "\n",
        "#Plot loss vs epoch\n",
        "plt.plot(supervisorApprox_metaData.history['loss'])\n",
        "plt.plot(supervisorApprox_metaData.history['val_loss'])\n",
        "plt.title('Supervisor Approximator Loss v/s Epoch')\n",
        "plt.xlabel('# Epoch')\n",
        "plt.ylabel('Loss')\n",
        "plt.legend(['train', 'test'], loc = 'upper right')\n",
        "plt.show()"
      ],
      "execution_count": 0,
      "outputs": [
        {
          "output_type": "display_data",
          "data": {
            "image/png": "[encoded data removed]",
            "text/plain": [
              "<Figure size 432x288 with 1 Axes>"
            ]
          },
          "metadata": {
            "tags": []
          }
        },
        {
          "output_type": "display_data",
          "data": {
            "image/png": "[encoded data removed]",
            "text/plain": [
              "<Figure size 432x288 with 1 Axes>"
            ]
          },
          "metadata": {
            "tags": []
          }
        }
      ]
    },
    {
      "cell_type": "markdown",
      "metadata": {
        "id": "mkAkptOJRRY7",
        "colab_type": "text"
      },
      "source": [
        "# Performing Attacks"
      ]
    },
    {
      "cell_type": "markdown",
      "metadata": {
        "id": "licccEVbogxi",
        "colab_type": "text"
      },
      "source": [
        "## Gradient Calculation for Statistical model of Supervisory logic"
      ]
    },
    {
      "cell_type": "code",
      "metadata": {
        "id": "3-RHDWbTRRjz",
        "colab_type": "code",
        "colab": {}
      },
      "source": [
        "grads = K.gradients(supervisorApprox.output, supervisorApprox.input)\n",
        "sess = K.get_session()\n",
        "xTest = data_train[1,:].reshape((1,4))\n",
        "def evalGrad(xIn):\n",
        "  G = sess.run(grads[0], \n",
        "                    feed_dict={supervisorApprox.input: xIn})\n",
        "  return G"
      ],
      "execution_count": 0,
      "outputs": []
    },
    {
      "cell_type": "markdown",
      "metadata": {
        "id": "6kXjiJ5j04w3",
        "colab_type": "text"
      },
      "source": [
        "## Attacking some point ***x***\n",
        "This is based on infinity norm attack, given by [ECE 559, Spring 2019 Lecture notes excerpts.](https://i.imgur.com/nycltSw.jpg)\n",
        "\n",
        "See [this paper](https://arxiv.org/pdf/1602.02697.pdf) for further details."
      ]
    },
    {
      "cell_type": "code",
      "metadata": {
        "id": "xetW5MjJ1AHC",
        "colab_type": "code",
        "colab": {}
      },
      "source": [
        "def attacker(grads, xCurrent, pertMax, normCase):\n",
        "# Inputs: \n",
        "# grads: gradient of trained model\n",
        "# xCurrent: current point to be perturbed\n",
        "# pertMax: maximum allowable perturbation, or maximum attack strength\n",
        "    gradientCurrent = evalGrad(xCurrent)\n",
        "    if normCase == 1:\n",
        "      # For infinity norm attack\n",
        "      perturbation = pertMax * np.sign(gradientCurrent)\n",
        "    elif normCase == 2:\n",
        "      # For L2 norm attack\n",
        "      perturbation = pertMax * (gradientCurrent/np.linalg.norm(gradientCurrent, 2))\n",
        "    return xPert"
      ],
      "execution_count": 0,
      "outputs": []
    },
    {
      "cell_type": "markdown",
      "metadata": {
        "id": "MWhNjIUn2w0f",
        "colab_type": "text"
      },
      "source": [
        "## Validating Attacker"
      ]
    },
    {
      "cell_type": "code",
      "metadata": {
        "id": "dggsdXsK20P6",
        "colab_type": "code",
        "colab": {}
      },
      "source": [
        ""
      ],
      "execution_count": 0,
      "outputs": []
    }
  ]
}
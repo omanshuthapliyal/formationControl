{
  "nbformat": 4,
  "nbformat_minor": 0,
  "metadata": {
    "colab": {
      "name": "SupervisoryControlAttack-formation-of-robots.ipynb",
      "provenance": [],
      "collapsed_sections": [
        "TrT7qcXXCzs9"
      ],
      "toc_visible": true,
      "include_colab_link": true
    },
    "kernelspec": {
      "name": "python3",
      "display_name": "Python 3"
    }
  },
  "cells": [
    {
      "cell_type": "markdown",
      "metadata": {
        "id": "view-in-github",
        "colab_type": "text"
      },
      "source": [
        "<a href=\"https://colab.research.google.com/github/omanshuthapliyal/formationControl/blob/master/SupervisoryControlAttack_formation_of_robots.ipynb\" target=\"_parent\"><img src=\"https://colab.research.google.com/assets/colab-badge.svg\" alt=\"Open In Colab\"/></a>"
      ]
    },
    {
      "cell_type": "markdown",
      "metadata": {
        "id": "IEV93_SMyNrO",
        "colab_type": "text"
      },
      "source": [
        "# Defining ***Robot Formation*** model.\n",
        "\n",
        "Adapted from [Hybrid Control of Formation of Robots](https://ieeexplore.ieee.org/stamp/stamp.jsp?arnumber=932546).\n",
        "\n"
      ]
    },
    {
      "cell_type": "code",
      "metadata": {
        "id": "rbfwqjD0yDAA",
        "colab_type": "code",
        "colab": {}
      },
      "source": [
        "from numpy import matmul \n",
        "import numpy as np\n",
        "import scipy.linalg\n",
        "import matplotlib.pyplot as plt\n",
        "from math import sin, cos\n",
        "import scipy.integrate as integrate"
      ],
      "execution_count": 0,
      "outputs": []
    },
    {
      "cell_type": "markdown",
      "metadata": {
        "id": "FiexJL813Ek1",
        "colab_type": "text"
      },
      "source": [
        "## Plant Objects"
      ]
    },
    {
      "cell_type": "code",
      "metadata": {
        "id": "JeT3mNvOytXt",
        "colab_type": "code",
        "colab": {}
      },
      "source": [
        "def stateProp(xDot, x, t, dt):\n",
        "  # xDot = dx/dt = constant during dT, x = x(t), dt = Delta T\n",
        "  dx = xDot*dt\n",
        "  x += dx\n",
        "  return x\n",
        "  \n",
        "class PLANT:\n",
        "  def __init__(self):\n",
        "    self.d = 0.1 # Robot size, perhaps. See Figs. 1 & 2\n",
        "    self.v = np.zeros([3, 1])\n",
        "    self.v[0] = 0.5\n",
        "    self.gamma = np.zeros((3,3))\n",
        "    self.b = np.zeros_like(self.gamma)\n",
        "    self.s = np.zeros_like(self.b)\n",
        "    self.l = np.zeros_like(self.b)\n",
        "    self.lDot = np.zeros_like(self.b)\n",
        "    self.psi = np.zeros_like(self.b)\n",
        "    self.psiDot = np.zeros_like(self.b)\n",
        "    self.l_des = np.ones_like(self.b) - np.diag([1,1,1])\n",
        "    self.psi_des = (np.ones_like(self.b) - np.diag([1,1,1]))*np.pi/2\n",
        "    # Initial conditions given in the beginning of Section 4\n",
        "    self.x = np.array([0, 1.5, 0.2])\n",
        "    self.y = np.array([0, 0, 2])\n",
        "    self.theta = np.array([30, 0, 30])/(np.pi/180)\n",
        "    self.xDot = np.array([0.5, 0, 0])\n",
        "    self.yDot = np.array([0, 0, 0])\n",
        "    self.thetaDot = np.array([0, 0, 0])\n",
        "    self.w = np.array([0, 0, 0,])\n",
        "    self.k0 = 1\n",
        "    self.k1 = 1\n",
        "    self.k2 = 1\n",
        "    self.mode = 4 # Autonomous navigation by default\n",
        "    self.t = 0 # Initializing with zero time\n",
        "    # Adding sensor ranges\n",
        "    self.r = 1.2*np.ones_like(self.x)\n",
        "\n",
        "  def SBijC(self,i,j):\n",
        "  # Separation Bearing Control (SB[i,j]C)\n",
        "  # Eqs. 2-5 robot j follows robot i\n",
        "  # Parameters: Eq. 4\n",
        "    self.s[i][j] = self.k1*(self.l_des[i][j] - self.l[i][j])\n",
        "    self.b[i][j] = self.k2*(psi_des[i][j] - self.psi[i][j])\n",
        "    self.gamma[i][j] = self.theta[i] - self.theta[j] + self.psi[i][j]\n",
        "    # Control velocities: Eqs. 2, 3\n",
        "    self.v[j] = self.s[i][j]*cos(self.gamma[i][j]) \\\n",
        "    - self.l[i][j] * sin(self.gamma[i][j]) * (self.b[i][j] + self.w[i] ) \\\n",
        "    + self.v[i]*sin(self.theta[i] - self.theta[j])\n",
        "\n",
        "    self.w[j] = (self.s[i][j]*sin(self.gamma[i][j]) \\\n",
        "                - self.l[i][j] * cos(self.gamma[i][j]) * (self.b[i][j] + self.w[i] ) \\\n",
        "                + self.v[i]*sin(self.theta[i] - self.theta[j])) / self.d\n",
        "    # Updating relative states: Eq. 5\n",
        "    self.lDot[i][j] = self.k1*(self.l_des[i][j] - self.l[i][j])\n",
        "    self.psiDot[i][j] = self.k2*(self.psi_des[i][j] - self.psi[i][j])\n",
        "    self.thetaDot[j] = self.w[j]\n",
        "\n",
        "  def SSC(self,i,j,k):\n",
        "  # Separation Separation Control (S[i,k]S[j,k]C)\n",
        "  # Eqs. 6-8 where robot k follows i and j\n",
        "  # Parameters: Eq. 4\n",
        "    self.s[i][j] = self.k1*(self.l_des[i][j] - self.l[i][j])\n",
        "    self.b[i][j] = self.k2*(self.psi_des[i][j] - self.psi[i][j])\n",
        "    self.gamma[i][j] = self.theta[i] - self.theta[j] + self.psi[i][j]\n",
        "    # Control Velocities\n",
        "    self.v[k] = (self.s[i][k] * sin(self.gamma[j][k]) \\\n",
        "                  - self.s[j][k] * sin(self.gamma[i][k]) \\\n",
        "                  + self.v[i] * cos(self.psi[i][k]) * sin(self.gamma[j][k]) \\\n",
        "                  - self.v[j] * cos(self.psi[j][k]) * sin(self.gamma[i][k]) )\\\n",
        "                  / sin(self.gamma[j][k] - self.gamma[i][k])\n",
        "    self.w[k] = (- self.s[i][k] * cos(self.gamma[j][k]) \\\n",
        "                + self.s[j][k] * cos(self.gamma[i][k])  \\\n",
        "                - self.v[i] * cos(self.psi[i][k]) * cos(self.gamma[j][k]) \\\n",
        "                - self.v[j] * cos(self.psi[j][k]) * cos(self.gamma[i][k]) ) \\\n",
        "                / (self.d* sin(self.gamma[j][k] - self.gamma[i][k]) )\n",
        "    # Updating relative states: Eq. 5\n",
        "    self.lDot[i][k] = self.k1*(self.l_des[i][k] - self.l[i][k])\n",
        "    self.lDot[j][k] = self.k1*(self.l_des[j][k] - self.l[j][k])\n",
        "    self.thetaDot[k] = self.w[k]\n",
        "\n",
        "  def autoNavig(self, i):\n",
        "  # AutoNavig Controller\n",
        "    self.v[i] = 0\n",
        "    self.w[i] = 0.1*sin(0.2*self.t)\n",
        "    \n",
        "  def propagate(self, supervObj, i, dt):\n",
        "    # ID = 1, 2, 3 are robot numbers. We are interested in Robot 3\n",
        "    if i == 1 or i == 2:\n",
        "      self.autoNavig(i)\n",
        "    else:\n",
        "      mode = supervObj.switch(self)\n",
        "      if mode == 1: \n",
        "        self.SBijC(1,3)    # Robot 3 follows Robot 1\n",
        "      elif mode == 2: \n",
        "        self.SBijC(2,3)    # Robot 3 follows Robot 2\n",
        "      elif mode == 3: \n",
        "        self.SSC(1,2,i)   # Robot 3 follows Robot 1 & 2 \n",
        "      elif mode == 4: # Autonomous Navigation for Robot 3\n",
        "        self.autoNavig(i)\n",
        "    # Getting state derivatives from control input, Eq. 1\n",
        "    self.xDot[i] = self.v[i] * cos(self.theta[i])\n",
        "    self.yDot[i] = self.v[i] * sin(self.theta[i])\n",
        "    self.thetaDot[i] = self.w[i]\n",
        "    # Propagating state based on updated control input\n",
        "    self.x[i] = stateProp(self.xDot[i], self.x[i], self.t, dt)\n",
        "    self.y[i] = stateProp(self.yDot[i], self.y[i], self.t, dt)\n",
        "    self.theta[i] = stateProp(self.thetaDot[i], self.theta[i], self.t, dt)\n",
        "    self.t += dt"
      ],
      "execution_count": 0,
      "outputs": []
    },
    {
      "cell_type": "markdown",
      "metadata": {
        "id": "TrT7qcXXCzs9",
        "colab_type": "text"
      },
      "source": [
        "## Supervisor Model"
      ]
    },
    {
      "cell_type": "code",
      "metadata": {
        "id": "U0kFFvA0Cerk",
        "colab_type": "code",
        "colab": {}
      },
      "source": [
        " class supervisor:\n",
        "    def switch(self, Plant):\n",
        "    # Supervisory Logic for Robot 3, where it can detect robots 1 & 2\n",
        "    # based on Section 3.1\n",
        "      b1 = (Plant.\n",
        "            l[0][2] < Plant.l[1][2]) and\\\n",
        "      (Plant.l[1][2] > Plant.r[0]) and\\\n",
        "      (Plant.l[0][2] < Plant.r[1]) \n",
        "      b2 = (Plant.l[0][2] > Plant.l[1][2]) and\\\n",
        "      (Plant.l[0][2] > Plant.r[0]) and\\\n",
        "      (Plant.l[1][2] < Plant.r[1]) \n",
        "      b3 = (Plant.l[0][2] < Plant.r[0]) and\\\n",
        "      (Plant.l[1][2] < Plant.r[0])\n",
        "      b4 = (Plant.l[0][2] > Plant.r[1]) and\\\n",
        "      (Plant.l[1][2] > Plant.r[1])\n",
        "      if b1 == True: mode = 1\n",
        "      elif b2 == True: mode = 2\n",
        "      elif b3 == True: mode = 3\n",
        "      elif b4 == True: mode = 4\n",
        "      return mode"
      ],
      "execution_count": 0,
      "outputs": []
    },
    {
      "cell_type": "markdown",
      "metadata": {
        "id": "mATX1kF73Jhl",
        "colab_type": "text"
      },
      "source": [
        "## Propagate plant to simulate supervisor\n",
        "Not used in training, only to visualize plant behaviour"
      ]
    },
    {
      "cell_type": "code",
      "metadata": {
        "id": "1YvD-Kz-y0xz",
        "colab_type": "code",
        "colab": {}
      },
      "source": [
        "# Initial parameters for running plant \n",
        "ROBOTS = [PLANT(), PLANT(), PLANT()]\n",
        "tSim = 10*np.pi\n",
        "SUP = supervisor()\n",
        "dT = 0.1 # seconds\n",
        "tHISTORY = np.zeros((int(tSim/dT)+1,1))\n",
        "xHISTORY = np.zeros((tHISTORY.size,3))\n",
        "yHISTORY = np.zeros_like(xHISTORY)"
      ],
      "execution_count": 0,
      "outputs": []
    },
    {
      "cell_type": "code",
      "metadata": {
        "id": "ftVwSjbUqX6t",
        "colab_type": "code",
        "colab": {
          "base_uri": "https://localhost:8080/",
          "height": 68
        },
        "outputId": "db1b5bed-825f-4855-fb17-bb142e47ea81"
      },
      "source": [
        "ROBOTS[2].psi_des"
      ],
      "execution_count": 201,
      "outputs": [
        {
          "output_type": "execute_result",
          "data": {
            "text/plain": [
              "array([[0.        , 1.57079633, 1.57079633],\n",
              "       [1.57079633, 0.        , 1.57079633],\n",
              "       [1.57079633, 1.57079633, 0.        ]])"
            ]
          },
          "metadata": {
            "tags": []
          },
          "execution_count": 201
        }
      ]
    },
    {
      "cell_type": "code",
      "metadata": {
        "id": "QeZ8adc6Wqq1",
        "colab_type": "code",
        "colab": {
          "base_uri": "https://localhost:8080/",
          "height": 479
        },
        "outputId": "076a2be7-b955-4aa7-e4fb-c6de37d40e6d"
      },
      "source": [
        "xHISTORY[0][0] = 0\n",
        "xHISTORY[0][1] = 1.5\n",
        "xHISTORY[0][2] = 0.2\n",
        "xHISTORY[0][0] = 0\n",
        "xHISTORY[0][1] = 0\n",
        "xHISTORY[0][2] = 2\n",
        "for t in range(tHISTORY.size):\n",
        "  for i in range(3):\n",
        "    print(i, ROBOTS[i])\n",
        "    ROBOTS[i].propagate(SUP, i, dT)\n",
        "    xHISTORY[t+1][i] = ROBOTS[i].x[i]\n",
        "    yHISTORY[t+1][i] = ROBOTS[i].y[i]\n",
        "\n",
        "for i in range(3):\n",
        "    ax = plt.plot(xHISTORY[:][i], yHISTORY[:][i])\n"
      ],
      "execution_count": 205,
      "outputs": [
        {
          "output_type": "stream",
          "text": [
            "0 <__main__.PLANT object at 0x7ffae8575048>\n",
            "[nan]\n"
          ],
          "name": "stdout"
        },
        {
          "output_type": "stream",
          "text": [
            "/usr/local/lib/python3.6/dist-packages/ipykernel_launcher.py:61: RuntimeWarning: invalid value encountered in true_divide\n",
            "/usr/local/lib/python3.6/dist-packages/ipykernel_launcher.py:62: RuntimeWarning: invalid value encountered in true_divide\n",
            "/usr/local/lib/python3.6/dist-packages/ipykernel_launcher.py:63: RuntimeWarning: invalid value encountered in true_divide\n"
          ],
          "name": "stderr"
        },
        {
          "output_type": "error",
          "ename": "ValueError",
          "evalue": "ignored",
          "traceback": [
            "\u001b[0;31m---------------------------------------------------------------------------\u001b[0m",
            "\u001b[0;31mValueError\u001b[0m                                Traceback (most recent call last)",
            "\u001b[0;32m<ipython-input-205-245a3ff1366b>\u001b[0m in \u001b[0;36m<module>\u001b[0;34m()\u001b[0m\n\u001b[1;32m      8\u001b[0m   \u001b[0;32mfor\u001b[0m \u001b[0mi\u001b[0m \u001b[0;32min\u001b[0m \u001b[0mrange\u001b[0m\u001b[0;34m(\u001b[0m\u001b[0;36m3\u001b[0m\u001b[0;34m)\u001b[0m\u001b[0;34m:\u001b[0m\u001b[0;34m\u001b[0m\u001b[0;34m\u001b[0m\u001b[0m\n\u001b[1;32m      9\u001b[0m     \u001b[0mprint\u001b[0m\u001b[0;34m(\u001b[0m\u001b[0mi\u001b[0m\u001b[0;34m,\u001b[0m \u001b[0mROBOTS\u001b[0m\u001b[0;34m[\u001b[0m\u001b[0mi\u001b[0m\u001b[0;34m]\u001b[0m\u001b[0;34m)\u001b[0m\u001b[0;34m\u001b[0m\u001b[0;34m\u001b[0m\u001b[0m\n\u001b[0;32m---> 10\u001b[0;31m     \u001b[0mROBOTS\u001b[0m\u001b[0;34m[\u001b[0m\u001b[0mi\u001b[0m\u001b[0;34m]\u001b[0m\u001b[0;34m.\u001b[0m\u001b[0mpropagate\u001b[0m\u001b[0;34m(\u001b[0m\u001b[0mSUP\u001b[0m\u001b[0;34m,\u001b[0m \u001b[0mi\u001b[0m\u001b[0;34m,\u001b[0m \u001b[0mdT\u001b[0m\u001b[0;34m)\u001b[0m\u001b[0;34m\u001b[0m\u001b[0;34m\u001b[0m\u001b[0m\n\u001b[0m\u001b[1;32m     11\u001b[0m     \u001b[0mxHISTORY\u001b[0m\u001b[0;34m[\u001b[0m\u001b[0mt\u001b[0m\u001b[0;34m+\u001b[0m\u001b[0;36m1\u001b[0m\u001b[0;34m]\u001b[0m\u001b[0;34m[\u001b[0m\u001b[0mi\u001b[0m\u001b[0;34m]\u001b[0m \u001b[0;34m=\u001b[0m \u001b[0mROBOTS\u001b[0m\u001b[0;34m[\u001b[0m\u001b[0mi\u001b[0m\u001b[0;34m]\u001b[0m\u001b[0;34m.\u001b[0m\u001b[0mx\u001b[0m\u001b[0;34m[\u001b[0m\u001b[0mi\u001b[0m\u001b[0;34m]\u001b[0m\u001b[0;34m\u001b[0m\u001b[0;34m\u001b[0m\u001b[0m\n\u001b[1;32m     12\u001b[0m     \u001b[0myHISTORY\u001b[0m\u001b[0;34m[\u001b[0m\u001b[0mt\u001b[0m\u001b[0;34m+\u001b[0m\u001b[0;36m1\u001b[0m\u001b[0;34m]\u001b[0m\u001b[0;34m[\u001b[0m\u001b[0mi\u001b[0m\u001b[0;34m]\u001b[0m \u001b[0;34m=\u001b[0m \u001b[0mROBOTS\u001b[0m\u001b[0;34m[\u001b[0m\u001b[0mi\u001b[0m\u001b[0;34m]\u001b[0m\u001b[0;34m.\u001b[0m\u001b[0my\u001b[0m\u001b[0;34m[\u001b[0m\u001b[0mi\u001b[0m\u001b[0;34m]\u001b[0m\u001b[0;34m\u001b[0m\u001b[0;34m\u001b[0m\u001b[0m\n",
            "\u001b[0;32m<ipython-input-199-d7fe07f8c06b>\u001b[0m in \u001b[0;36mpropagate\u001b[0;34m(self, supervObj, i, dt)\u001b[0m\n\u001b[1;32m     83\u001b[0m         \u001b[0mself\u001b[0m\u001b[0;34m.\u001b[0m\u001b[0mSBijC\u001b[0m\u001b[0;34m(\u001b[0m\u001b[0;36m2\u001b[0m\u001b[0;34m,\u001b[0m\u001b[0;36m3\u001b[0m\u001b[0;34m)\u001b[0m    \u001b[0;31m# Robot 3 follows Robot 2\u001b[0m\u001b[0;34m\u001b[0m\u001b[0;34m\u001b[0m\u001b[0m\n\u001b[1;32m     84\u001b[0m       \u001b[0;32melif\u001b[0m \u001b[0mmode\u001b[0m \u001b[0;34m==\u001b[0m \u001b[0;36m3\u001b[0m\u001b[0;34m:\u001b[0m\u001b[0;34m\u001b[0m\u001b[0;34m\u001b[0m\u001b[0m\n\u001b[0;32m---> 85\u001b[0;31m         \u001b[0mself\u001b[0m\u001b[0;34m.\u001b[0m\u001b[0mSSC\u001b[0m\u001b[0;34m(\u001b[0m\u001b[0;36m1\u001b[0m\u001b[0;34m,\u001b[0m\u001b[0;36m2\u001b[0m\u001b[0;34m,\u001b[0m\u001b[0mi\u001b[0m\u001b[0;34m)\u001b[0m   \u001b[0;31m# Robot 3 follows Robot 1 & 2\u001b[0m\u001b[0;34m\u001b[0m\u001b[0;34m\u001b[0m\u001b[0m\n\u001b[0m\u001b[1;32m     86\u001b[0m       \u001b[0;32melif\u001b[0m \u001b[0mmode\u001b[0m \u001b[0;34m==\u001b[0m \u001b[0;36m4\u001b[0m\u001b[0;34m:\u001b[0m \u001b[0;31m# Autonomous Navigation for Robot 3\u001b[0m\u001b[0;34m\u001b[0m\u001b[0;34m\u001b[0m\u001b[0m\n\u001b[1;32m     87\u001b[0m         \u001b[0mself\u001b[0m\u001b[0;34m.\u001b[0m\u001b[0mautoNavig\u001b[0m\u001b[0;34m(\u001b[0m\u001b[0mi\u001b[0m\u001b[0;34m)\u001b[0m\u001b[0;34m\u001b[0m\u001b[0;34m\u001b[0m\u001b[0m\n",
            "\u001b[0;32m<ipython-input-199-d7fe07f8c06b>\u001b[0m in \u001b[0;36mSSC\u001b[0;34m(self, i, j, k)\u001b[0m\n\u001b[1;32m     61\u001b[0m     \u001b[0mself\u001b[0m\u001b[0;34m.\u001b[0m\u001b[0mv\u001b[0m\u001b[0;34m[\u001b[0m\u001b[0mk\u001b[0m\u001b[0;34m]\u001b[0m \u001b[0;34m=\u001b[0m \u001b[0;34m(\u001b[0m\u001b[0mself\u001b[0m\u001b[0;34m.\u001b[0m\u001b[0ms\u001b[0m\u001b[0;34m[\u001b[0m\u001b[0mi\u001b[0m\u001b[0;34m]\u001b[0m\u001b[0;34m[\u001b[0m\u001b[0mk\u001b[0m\u001b[0;34m]\u001b[0m \u001b[0;34m*\u001b[0m \u001b[0msin\u001b[0m\u001b[0;34m(\u001b[0m\u001b[0mself\u001b[0m\u001b[0;34m.\u001b[0m\u001b[0mgamma\u001b[0m\u001b[0;34m[\u001b[0m\u001b[0mj\u001b[0m\u001b[0;34m]\u001b[0m\u001b[0;34m[\u001b[0m\u001b[0mk\u001b[0m\u001b[0;34m]\u001b[0m\u001b[0;34m)\u001b[0m                   \u001b[0;34m-\u001b[0m \u001b[0mself\u001b[0m\u001b[0;34m.\u001b[0m\u001b[0ms\u001b[0m\u001b[0;34m[\u001b[0m\u001b[0mj\u001b[0m\u001b[0;34m]\u001b[0m\u001b[0;34m[\u001b[0m\u001b[0mk\u001b[0m\u001b[0;34m]\u001b[0m \u001b[0;34m*\u001b[0m \u001b[0msin\u001b[0m\u001b[0;34m(\u001b[0m\u001b[0mself\u001b[0m\u001b[0;34m.\u001b[0m\u001b[0mgamma\u001b[0m\u001b[0;34m[\u001b[0m\u001b[0mi\u001b[0m\u001b[0;34m]\u001b[0m\u001b[0;34m[\u001b[0m\u001b[0mk\u001b[0m\u001b[0;34m]\u001b[0m\u001b[0;34m)\u001b[0m                   \u001b[0;34m+\u001b[0m \u001b[0mself\u001b[0m\u001b[0;34m.\u001b[0m\u001b[0mv\u001b[0m\u001b[0;34m[\u001b[0m\u001b[0mi\u001b[0m\u001b[0;34m]\u001b[0m \u001b[0;34m*\u001b[0m \u001b[0mcos\u001b[0m\u001b[0;34m(\u001b[0m\u001b[0mself\u001b[0m\u001b[0;34m.\u001b[0m\u001b[0mpsi\u001b[0m\u001b[0;34m[\u001b[0m\u001b[0mi\u001b[0m\u001b[0;34m]\u001b[0m\u001b[0;34m[\u001b[0m\u001b[0mk\u001b[0m\u001b[0;34m]\u001b[0m\u001b[0;34m)\u001b[0m \u001b[0;34m*\u001b[0m \u001b[0msin\u001b[0m\u001b[0;34m(\u001b[0m\u001b[0mself\u001b[0m\u001b[0;34m.\u001b[0m\u001b[0mgamma\u001b[0m\u001b[0;34m[\u001b[0m\u001b[0mj\u001b[0m\u001b[0;34m]\u001b[0m\u001b[0;34m[\u001b[0m\u001b[0mk\u001b[0m\u001b[0;34m]\u001b[0m\u001b[0;34m)\u001b[0m                   \u001b[0;34m-\u001b[0m \u001b[0mself\u001b[0m\u001b[0;34m.\u001b[0m\u001b[0mv\u001b[0m\u001b[0;34m[\u001b[0m\u001b[0mj\u001b[0m\u001b[0;34m]\u001b[0m \u001b[0;34m*\u001b[0m \u001b[0mcos\u001b[0m\u001b[0;34m(\u001b[0m\u001b[0mself\u001b[0m\u001b[0;34m.\u001b[0m\u001b[0mpsi\u001b[0m\u001b[0;34m[\u001b[0m\u001b[0mj\u001b[0m\u001b[0;34m]\u001b[0m\u001b[0;34m[\u001b[0m\u001b[0mk\u001b[0m\u001b[0;34m]\u001b[0m\u001b[0;34m)\u001b[0m \u001b[0;34m*\u001b[0m \u001b[0msin\u001b[0m\u001b[0;34m(\u001b[0m\u001b[0mself\u001b[0m\u001b[0;34m.\u001b[0m\u001b[0mgamma\u001b[0m\u001b[0;34m[\u001b[0m\u001b[0mi\u001b[0m\u001b[0;34m]\u001b[0m\u001b[0;34m[\u001b[0m\u001b[0mk\u001b[0m\u001b[0;34m]\u001b[0m\u001b[0;34m)\u001b[0m \u001b[0;34m)\u001b[0m                  \u001b[0;34m/\u001b[0m \u001b[0m...\n\u001b[1;32m     62\u001b[0m     \u001b[0mprint\u001b[0m\u001b[0;34m(\u001b[0m\u001b[0;34m(\u001b[0m\u001b[0;34m-\u001b[0m \u001b[0mself\u001b[0m\u001b[0;34m.\u001b[0m\u001b[0ms\u001b[0m\u001b[0;34m[\u001b[0m\u001b[0mi\u001b[0m\u001b[0;34m]\u001b[0m\u001b[0;34m[\u001b[0m\u001b[0mk\u001b[0m\u001b[0;34m]\u001b[0m \u001b[0;34m*\u001b[0m \u001b[0mcos\u001b[0m\u001b[0;34m(\u001b[0m\u001b[0mself\u001b[0m\u001b[0;34m.\u001b[0m\u001b[0mgamma\u001b[0m\u001b[0;34m[\u001b[0m\u001b[0mj\u001b[0m\u001b[0;34m]\u001b[0m\u001b[0;34m[\u001b[0m\u001b[0mk\u001b[0m\u001b[0;34m]\u001b[0m\u001b[0;34m)\u001b[0m                 \u001b[0;34m+\u001b[0m \u001b[0mself\u001b[0m\u001b[0;34m.\u001b[0m\u001b[0ms\u001b[0m\u001b[0;34m[\u001b[0m\u001b[0mj\u001b[0m\u001b[0;34m]\u001b[0m\u001b[0;34m[\u001b[0m\u001b[0mk\u001b[0m\u001b[0;34m]\u001b[0m \u001b[0;34m*\u001b[0m \u001b[0mcos\u001b[0m\u001b[0;34m(\u001b[0m\u001b[0mself\u001b[0m\u001b[0;34m.\u001b[0m\u001b[0mgamma\u001b[0m\u001b[0;34m[\u001b[0m\u001b[0mi\u001b[0m\u001b[0;34m]\u001b[0m\u001b[0;34m[\u001b[0m\u001b[0mk\u001b[0m\u001b[0;34m]\u001b[0m\u001b[0;34m)\u001b[0m                  \u001b[0;34m-\u001b[0m \u001b[0mself\u001b[0m\u001b[0;34m.\u001b[0m\u001b[0mv\u001b[0m\u001b[0;34m[\u001b[0m\u001b[0mi\u001b[0m\u001b[0;34m]\u001b[0m \u001b[0;34m*\u001b[0m \u001b[0mcos\u001b[0m\u001b[0;34m(\u001b[0m\u001b[0mself\u001b[0m\u001b[0;34m.\u001b[0m\u001b[0mpsi\u001b[0m\u001b[0;34m[\u001b[0m\u001b[0mi\u001b[0m\u001b[0;34m]\u001b[0m\u001b[0;34m[\u001b[0m\u001b[0mk\u001b[0m\u001b[0;34m]\u001b[0m\u001b[0;34m)\u001b[0m \u001b[0;34m*\u001b[0m \u001b[0mcos\u001b[0m\u001b[0;34m(\u001b[0m\u001b[0mself\u001b[0m\u001b[0;34m.\u001b[0m\u001b[0mgamma\u001b[0m\u001b[0;34m[\u001b[0m\u001b[0mj\u001b[0m\u001b[0;34m]\u001b[0m\u001b[0;34m[\u001b[0m\u001b[0mk\u001b[0m\u001b[0;34m]\u001b[0m\u001b[0;34m)\u001b[0m                 \u001b[0;34m-\u001b[0m \u001b[0mself\u001b[0m\u001b[0;34m.\u001b[0m\u001b[0mv\u001b[0m\u001b[0;34m[\u001b[0m\u001b[0mj\u001b[0m\u001b[0;34m]\u001b[0m \u001b[0;34m*\u001b[0m \u001b[0mcos\u001b[0m\u001b[0;34m(\u001b[0m\u001b[0mself\u001b[0m\u001b[0;34m.\u001b[0m\u001b[0mpsi\u001b[0m\u001b[0;34m[\u001b[0m\u001b[0mj\u001b[0m\u001b[0;34m]\u001b[0m\u001b[0;34m[\u001b[0m\u001b[0mk\u001b[0m\u001b[0;34m]\u001b[0m\u001b[0;34m)\u001b[0m \u001b[0;34m*\u001b[0m \u001b[0mcos\u001b[0m\u001b[0;34m(\u001b[0m\u001b[0mself\u001b[0m\u001b[0;34m.\u001b[0m\u001b[0mgamma\u001b[0m\u001b[0;34m[\u001b[0m\u001b[0mi\u001b[0m\u001b[0;34m]\u001b[0m\u001b[0;34m[\u001b[0m\u001b[0mk\u001b[0m\u001b[0;34m]\u001b[0m\u001b[0;34m)\u001b[0m \u001b[0;34m)\u001b[0m                 \u001b[0;34m/\u001b[0m \u001b[0;34m(\u001b[0m\u001b[0mself\u001b[0m\u001b[0;34m.\u001b[0m\u001b[0md\u001b[0m\u001b[0;34m...\n\u001b[0;32m---> 63\u001b[0;31m     \u001b[0mself\u001b[0m\u001b[0;34m.\u001b[0m\u001b[0mw\u001b[0m\u001b[0;34m[\u001b[0m\u001b[0mk\u001b[0m\u001b[0;34m]\u001b[0m \u001b[0;34m=\u001b[0m \u001b[0;34m(\u001b[0m\u001b[0;34m-\u001b[0m \u001b[0mself\u001b[0m\u001b[0;34m.\u001b[0m\u001b[0ms\u001b[0m\u001b[0;34m[\u001b[0m\u001b[0mi\u001b[0m\u001b[0;34m]\u001b[0m\u001b[0;34m[\u001b[0m\u001b[0mk\u001b[0m\u001b[0;34m]\u001b[0m \u001b[0;34m*\u001b[0m \u001b[0mcos\u001b[0m\u001b[0;34m(\u001b[0m\u001b[0mself\u001b[0m\u001b[0;34m.\u001b[0m\u001b[0mgamma\u001b[0m\u001b[0;34m[\u001b[0m\u001b[0mj\u001b[0m\u001b[0;34m]\u001b[0m\u001b[0;34m[\u001b[0m\u001b[0mk\u001b[0m\u001b[0;34m]\u001b[0m\u001b[0;34m)\u001b[0m                 \u001b[0;34m+\u001b[0m \u001b[0mself\u001b[0m\u001b[0;34m.\u001b[0m\u001b[0ms\u001b[0m\u001b[0;34m[\u001b[0m\u001b[0mj\u001b[0m\u001b[0;34m]\u001b[0m\u001b[0;34m[\u001b[0m\u001b[0mk\u001b[0m\u001b[0;34m]\u001b[0m \u001b[0;34m*\u001b[0m \u001b[0mcos\u001b[0m\u001b[0;34m(\u001b[0m\u001b[0mself\u001b[0m\u001b[0;34m.\u001b[0m\u001b[0mgamma\u001b[0m\u001b[0;34m[\u001b[0m\u001b[0mi\u001b[0m\u001b[0;34m]\u001b[0m\u001b[0;34m[\u001b[0m\u001b[0mk\u001b[0m\u001b[0;34m]\u001b[0m\u001b[0;34m)\u001b[0m                  \u001b[0;34m-\u001b[0m \u001b[0mself\u001b[0m\u001b[0;34m.\u001b[0m\u001b[0mv\u001b[0m\u001b[0;34m[\u001b[0m\u001b[0mi\u001b[0m\u001b[0;34m]\u001b[0m \u001b[0;34m*\u001b[0m \u001b[0mcos\u001b[0m\u001b[0;34m(\u001b[0m\u001b[0mself\u001b[0m\u001b[0;34m.\u001b[0m\u001b[0mpsi\u001b[0m\u001b[0;34m[\u001b[0m\u001b[0mi\u001b[0m\u001b[0;34m]\u001b[0m\u001b[0;34m[\u001b[0m\u001b[0mk\u001b[0m\u001b[0;34m]\u001b[0m\u001b[0;34m)\u001b[0m \u001b[0;34m*\u001b[0m \u001b[0mcos\u001b[0m\u001b[0;34m(\u001b[0m\u001b[0mself\u001b[0m\u001b[0;34m.\u001b[0m\u001b[0mgamma\u001b[0m\u001b[0;34m[\u001b[0m\u001b[0mj\u001b[0m\u001b[0;34m]\u001b[0m\u001b[0;34m[\u001b[0m\u001b[0mk\u001b[0m\u001b[0;34m]\u001b[0m\u001b[0;34m)\u001b[0m                 \u001b[0;34m-\u001b[0m \u001b[0mself\u001b[0m\u001b[0;34m.\u001b[0m\u001b[0mv\u001b[0m\u001b[0;34m[\u001b[0m\u001b[0mj\u001b[0m\u001b[0;34m]\u001b[0m \u001b[0;34m*\u001b[0m \u001b[0mcos\u001b[0m\u001b[0;34m(\u001b[0m\u001b[0mself\u001b[0m\u001b[0;34m.\u001b[0m\u001b[0mpsi\u001b[0m\u001b[0;34m[\u001b[0m\u001b[0mj\u001b[0m\u001b[0;34m]\u001b[0m\u001b[0;34m[\u001b[0m\u001b[0mk\u001b[0m\u001b[0;34m]\u001b[0m\u001b[0;34m)\u001b[0m \u001b[0;34m*\u001b[0m \u001b[0mcos\u001b[0m\u001b[0;34m(\u001b[0m\u001b[0mself\u001b[0m\u001b[0;34m.\u001b[0m\u001b[0mgamma\u001b[0m\u001b[0;34m[\u001b[0m\u001b[0mi\u001b[0m\u001b[0;34m]\u001b[0m\u001b[0;34m[\u001b[0m\u001b[0mk\u001b[0m\u001b[0;34m]\u001b[0m\u001b[0;34m)\u001b[0m \u001b[0;34m)\u001b[0m                 \u001b[0;34m...\n\u001b[0m\u001b[1;32m     64\u001b[0m     \u001b[0;31m# Updating relative states: Eq. 5\u001b[0m\u001b[0;34m\u001b[0m\u001b[0;34m\u001b[0m\u001b[0;34m\u001b[0m\u001b[0m\n\u001b[1;32m     65\u001b[0m     \u001b[0mself\u001b[0m\u001b[0;34m.\u001b[0m\u001b[0mlDot\u001b[0m\u001b[0;34m[\u001b[0m\u001b[0mi\u001b[0m\u001b[0;34m]\u001b[0m\u001b[0;34m[\u001b[0m\u001b[0mk\u001b[0m\u001b[0;34m]\u001b[0m \u001b[0;34m=\u001b[0m \u001b[0mself\u001b[0m\u001b[0;34m.\u001b[0m\u001b[0mk1\u001b[0m\u001b[0;34m*\u001b[0m\u001b[0;34m(\u001b[0m\u001b[0mself\u001b[0m\u001b[0;34m.\u001b[0m\u001b[0ml_des\u001b[0m\u001b[0;34m[\u001b[0m\u001b[0mi\u001b[0m\u001b[0;34m]\u001b[0m\u001b[0;34m[\u001b[0m\u001b[0mk\u001b[0m\u001b[0;34m]\u001b[0m \u001b[0;34m-\u001b[0m \u001b[0mself\u001b[0m\u001b[0;34m.\u001b[0m\u001b[0ml\u001b[0m\u001b[0;34m[\u001b[0m\u001b[0mi\u001b[0m\u001b[0;34m]\u001b[0m\u001b[0;34m[\u001b[0m\u001b[0mk\u001b[0m\u001b[0;34m]\u001b[0m\u001b[0;34m)\u001b[0m\u001b[0;34m\u001b[0m\u001b[0;34m\u001b[0m\u001b[0m\n",
            "\u001b[0;31mValueError\u001b[0m: setting an array element with a sequence."
          ]
        }
      ]
    },
    {
      "cell_type": "markdown",
      "metadata": {
        "id": "9Jjezam53UGE",
        "colab_type": "text"
      },
      "source": [
        "# Building Statistical model of Supervisory logic"
      ]
    },
    {
      "cell_type": "markdown",
      "metadata": {
        "id": "KC4Mo3zz4Dvl",
        "colab_type": "text"
      },
      "source": [
        "## Making Queries to the Supervisor object"
      ]
    },
    {
      "cell_type": "code",
      "metadata": {
        "id": "v-0RRNwYNgRT",
        "colab_type": "code",
        "colab": {}
      },
      "source": [
        "#Import necessary packages\n",
        "import numpy as np\n",
        "import keras\n",
        "import tensorflow as tf\n",
        "from keras.datasets import mnist\n",
        "from keras.layers import Dense, Dropout\n",
        "from keras.models import Sequential\n",
        "import matplotlib.pyplot as plt\n",
        "from keras import backend as K"
      ],
      "execution_count": 0,
      "outputs": []
    },
    {
      "cell_type": "code",
      "metadata": {
        "id": "mh27QxSN0IGZ",
        "colab_type": "code",
        "colab": {}
      },
      "source": [
        "# Making Queries to the Supervisor\n",
        "nDim = 4\n",
        "nModes = 2\n",
        "mean = np.zeros(nDim)\n",
        "cov = np.eye(4)*100\n",
        "nQ = 15000\n",
        "# Collecting data from Queries\n",
        "data = np.zeros((nQ, nDim))\n",
        "labels = np.zeros(nQ)\n",
        "ctr = 0\n",
        "for i in range(nQ):\n",
        "  data[i,:] = np.random.multivariate_normal(mean,cov)\n",
        "  s = SUP.switch(data[i,:])\n",
        "  if s == 1: \n",
        "    ctr+=1\n",
        "    labels[i] = 1 \n",
        "k = np.random.choice(nQ)\n",
        "# Converting labels to one-hot-vectors\n",
        "labels = keras.utils.np_utils.to_categorical(labels, num_classes=nModes)\n",
        "# Splitting dataset\n",
        "data_train = data[0:10000,:]\n",
        "labels_train = labels[0:10000,:]\n",
        "data_test = data[10000:,:]\n",
        "labels_test = labels[10000:,:]"
      ],
      "execution_count": 0,
      "outputs": []
    },
    {
      "cell_type": "markdown",
      "metadata": {
        "id": "bU0OgI4M4Ftj",
        "colab_type": "text"
      },
      "source": [
        "## Defining Neural Network Architecture"
      ]
    },
    {
      "cell_type": "code",
      "metadata": {
        "id": "4oTfSSFm29Ri",
        "colab_type": "code",
        "colab": {}
      },
      "source": [
        "def NN_arch():\n",
        "  model = Sequential()\n",
        "\n",
        "  # Input Layer: accepts nDim number of inputs\n",
        "  model.add(Dense(units = nDim, \n",
        "                  use_bias = True, \n",
        "                  kernel_initializer = \"uniform\"))\n",
        "  # Second Layer with 3 units\n",
        "  model.add(Dense(units = 3,\n",
        "                  use_bias = True,\n",
        "                  kernel_initializer = \"uniform\",\n",
        "                  activation = \"relu\"))\n",
        "  model.add(Dropout(0.30))\n",
        "  '''\n",
        "  # Third Layer with 6 units\n",
        "  model.add(Dense(units = 6,\n",
        "                  use_bias = True,\n",
        "                  kernel_initializer = \"uniform\",\n",
        "                  activation = \"relu\"))\n",
        "  model.add(Dropout(0.30))\n",
        "  '''\n",
        "  # Output Layer with 2 units\n",
        "  model.add(Dense(units = nModes,\n",
        "                  activation = \"sigmoid\",\n",
        "                  kernel_initializer = \"uniform\"))\n",
        "  return model"
      ],
      "execution_count": 0,
      "outputs": []
    },
    {
      "cell_type": "markdown",
      "metadata": {
        "id": "fy1oUJAqER8i",
        "colab_type": "text"
      },
      "source": [
        "## Training model"
      ]
    },
    {
      "cell_type": "markdown",
      "metadata": {
        "id": "RUGcBZNdKz1x",
        "colab_type": "text"
      },
      "source": [
        "### Building Model"
      ]
    },
    {
      "cell_type": "code",
      "metadata": {
        "id": "Ooj7kAO-EUQa",
        "colab_type": "code",
        "outputId": "0a5528ce-b1cc-4315-d6b6-a993279b085d",
        "colab": {
          "base_uri": "https://localhost:8080/",
          "height": 306
        }
      },
      "source": [
        "supervisorApprox = NN_arch()\n",
        "supervisorApprox.build((None, nDim))\n",
        "print(supervisorApprox.summary())"
      ],
      "execution_count": 0,
      "outputs": [
        {
          "output_type": "stream",
          "text": [
            "Model: \"sequential_20\"\n",
            "_________________________________________________________________\n",
            "Layer (type)                 Output Shape              Param #   \n",
            "=================================================================\n",
            "dense_88 (Dense)             (None, 4)                 20        \n",
            "_________________________________________________________________\n",
            "dense_89 (Dense)             (None, 3)                 15        \n",
            "_________________________________________________________________\n",
            "dropout_6 (Dropout)          (None, 3)                 0         \n",
            "_________________________________________________________________\n",
            "dense_90 (Dense)             (None, 2)                 8         \n",
            "=================================================================\n",
            "Total params: 43\n",
            "Trainable params: 43\n",
            "Non-trainable params: 0\n",
            "_________________________________________________________________\n",
            "None\n"
          ],
          "name": "stdout"
        }
      ]
    },
    {
      "cell_type": "markdown",
      "metadata": {
        "id": "bJckMDL9K2Ub",
        "colab_type": "text"
      },
      "source": [
        "### Training model"
      ]
    },
    {
      "cell_type": "code",
      "metadata": {
        "id": "angXvmYEK29l",
        "colab_type": "code",
        "outputId": "05da30cb-b332-4596-db87-f6ba4af5bd2d",
        "colab": {
          "base_uri": "https://localhost:8080/",
          "height": 1000
        }
      },
      "source": [
        "print(data_train.shape)\n",
        "supervisorApprox.compile(loss=\"mean_squared_error\", \n",
        "                    optimizer = \"adam\", \n",
        "                    metrics = ['accuracy'])\n",
        "supervisorApprox_metaData = supervisorApprox.fit(\n",
        "                data_train, labels_train, \n",
        "                validation_data = (data_test, labels_test), \n",
        "                epochs = 50, \n",
        "                batch_size = 100, \n",
        "                shuffle = True)\n",
        "#Print accuracy of model on testing set after training \n",
        "scores = supervisorApprox.evaluate(data_test, labels_test)\n",
        "print(\"Accuracy: %0.4f%%\" %(scores[1]*100) )"
      ],
      "execution_count": 0,
      "outputs": [
        {
          "output_type": "stream",
          "text": [
            "(10000, 4)\n",
            "Train on 10000 samples, validate on 5000 samples\n",
            "Epoch 1/50\n",
            "10000/10000 [==============================] - 2s 193us/step - loss: 0.2318 - acc: 0.9668 - val_loss: 0.1985 - val_acc: 0.9764\n",
            "Epoch 2/50\n",
            "10000/10000 [==============================] - 0s 18us/step - loss: 0.1608 - acc: 0.9790 - val_loss: 0.1282 - val_acc: 0.9764\n",
            "Epoch 3/50\n",
            "10000/10000 [==============================] - 0s 19us/step - loss: 0.1274 - acc: 0.9790 - val_loss: 0.1106 - val_acc: 0.9764\n",
            "Epoch 4/50\n",
            "10000/10000 [==============================] - 0s 19us/step - loss: 0.1134 - acc: 0.9790 - val_loss: 0.0994 - val_acc: 0.9764\n",
            "Epoch 5/50\n",
            "10000/10000 [==============================] - 0s 21us/step - loss: 0.1037 - acc: 0.9790 - val_loss: 0.0903 - val_acc: 0.9764\n",
            "Epoch 6/50\n",
            "10000/10000 [==============================] - 0s 19us/step - loss: 0.0944 - acc: 0.9790 - val_loss: 0.0824 - val_acc: 0.9764\n",
            "Epoch 7/50\n",
            "10000/10000 [==============================] - 0s 18us/step - loss: 0.0865 - acc: 0.9790 - val_loss: 0.0752 - val_acc: 0.9764\n",
            "Epoch 8/50\n",
            "10000/10000 [==============================] - 0s 18us/step - loss: 0.0779 - acc: 0.9790 - val_loss: 0.0685 - val_acc: 0.9764\n",
            "Epoch 9/50\n",
            "10000/10000 [==============================] - 0s 18us/step - loss: 0.0713 - acc: 0.9790 - val_loss: 0.0611 - val_acc: 0.9764\n",
            "Epoch 10/50\n",
            "10000/10000 [==============================] - 0s 19us/step - loss: 0.0618 - acc: 0.9790 - val_loss: 0.0489 - val_acc: 0.9764\n",
            "Epoch 11/50\n",
            "10000/10000 [==============================] - 0s 18us/step - loss: 0.0389 - acc: 0.9790 - val_loss: 0.0232 - val_acc: 0.9764\n",
            "Epoch 12/50\n",
            "10000/10000 [==============================] - 0s 18us/step - loss: 0.0298 - acc: 0.9790 - val_loss: 0.0230 - val_acc: 0.9764\n",
            "Epoch 13/50\n",
            "10000/10000 [==============================] - 0s 18us/step - loss: 0.0296 - acc: 0.9790 - val_loss: 0.0230 - val_acc: 0.9764\n",
            "Epoch 14/50\n",
            "10000/10000 [==============================] - 0s 18us/step - loss: 0.0292 - acc: 0.9790 - val_loss: 0.0231 - val_acc: 0.9764\n",
            "Epoch 15/50\n",
            "10000/10000 [==============================] - 0s 18us/step - loss: 0.0284 - acc: 0.9790 - val_loss: 0.0231 - val_acc: 0.9764\n",
            "Epoch 16/50\n",
            "10000/10000 [==============================] - 0s 18us/step - loss: 0.0288 - acc: 0.9790 - val_loss: 0.0231 - val_acc: 0.9764\n",
            "Epoch 17/50\n",
            "10000/10000 [==============================] - 0s 19us/step - loss: 0.0287 - acc: 0.9790 - val_loss: 0.0231 - val_acc: 0.9764\n",
            "Epoch 18/50\n",
            "10000/10000 [==============================] - 0s 19us/step - loss: 0.0281 - acc: 0.9790 - val_loss: 0.0232 - val_acc: 0.9764\n",
            "Epoch 19/50\n",
            "10000/10000 [==============================] - 0s 19us/step - loss: 0.0286 - acc: 0.9790 - val_loss: 0.0232 - val_acc: 0.9764\n",
            "Epoch 20/50\n",
            "10000/10000 [==============================] - 0s 18us/step - loss: 0.0280 - acc: 0.9790 - val_loss: 0.0232 - val_acc: 0.9764\n",
            "Epoch 21/50\n",
            "10000/10000 [==============================] - 0s 18us/step - loss: 0.0279 - acc: 0.9790 - val_loss: 0.0232 - val_acc: 0.9764\n",
            "Epoch 22/50\n",
            "10000/10000 [==============================] - 0s 19us/step - loss: 0.0271 - acc: 0.9790 - val_loss: 0.0232 - val_acc: 0.9764\n",
            "Epoch 23/50\n",
            "10000/10000 [==============================] - 0s 19us/step - loss: 0.0274 - acc: 0.9790 - val_loss: 0.0232 - val_acc: 0.9764\n",
            "Epoch 24/50\n",
            "10000/10000 [==============================] - 0s 19us/step - loss: 0.0269 - acc: 0.9790 - val_loss: 0.0232 - val_acc: 0.9764\n",
            "Epoch 25/50\n",
            "10000/10000 [==============================] - 0s 18us/step - loss: 0.0271 - acc: 0.9790 - val_loss: 0.0232 - val_acc: 0.9764\n",
            "Epoch 26/50\n",
            "10000/10000 [==============================] - 0s 18us/step - loss: 0.0266 - acc: 0.9790 - val_loss: 0.0233 - val_acc: 0.9764\n",
            "Epoch 27/50\n",
            "10000/10000 [==============================] - 0s 19us/step - loss: 0.0265 - acc: 0.9790 - val_loss: 0.0233 - val_acc: 0.9764\n",
            "Epoch 28/50\n",
            "10000/10000 [==============================] - 0s 19us/step - loss: 0.0262 - acc: 0.9790 - val_loss: 0.0232 - val_acc: 0.9764\n",
            "Epoch 29/50\n",
            "10000/10000 [==============================] - 0s 18us/step - loss: 0.0257 - acc: 0.9790 - val_loss: 0.0233 - val_acc: 0.9764\n",
            "Epoch 30/50\n",
            "10000/10000 [==============================] - 0s 18us/step - loss: 0.0256 - acc: 0.9790 - val_loss: 0.0233 - val_acc: 0.9764\n",
            "Epoch 31/50\n",
            "10000/10000 [==============================] - 0s 19us/step - loss: 0.0259 - acc: 0.9790 - val_loss: 0.0233 - val_acc: 0.9764\n",
            "Epoch 32/50\n",
            "10000/10000 [==============================] - 0s 19us/step - loss: 0.0255 - acc: 0.9790 - val_loss: 0.0233 - val_acc: 0.9764\n",
            "Epoch 33/50\n",
            "10000/10000 [==============================] - 0s 19us/step - loss: 0.0255 - acc: 0.9790 - val_loss: 0.0233 - val_acc: 0.9764\n",
            "Epoch 34/50\n",
            "10000/10000 [==============================] - 0s 18us/step - loss: 0.0245 - acc: 0.9790 - val_loss: 0.0232 - val_acc: 0.9764\n",
            "Epoch 35/50\n",
            "10000/10000 [==============================] - 0s 19us/step - loss: 0.0248 - acc: 0.9790 - val_loss: 0.0232 - val_acc: 0.9764\n",
            "Epoch 36/50\n",
            "10000/10000 [==============================] - 0s 18us/step - loss: 0.0247 - acc: 0.9790 - val_loss: 0.0232 - val_acc: 0.9764\n",
            "Epoch 37/50\n",
            "10000/10000 [==============================] - 0s 18us/step - loss: 0.0246 - acc: 0.9790 - val_loss: 0.0232 - val_acc: 0.9764\n",
            "Epoch 38/50\n",
            "10000/10000 [==============================] - 0s 20us/step - loss: 0.0242 - acc: 0.9790 - val_loss: 0.0232 - val_acc: 0.9764\n",
            "Epoch 39/50\n",
            "10000/10000 [==============================] - 0s 20us/step - loss: 0.0241 - acc: 0.9790 - val_loss: 0.0232 - val_acc: 0.9764\n",
            "Epoch 40/50\n",
            "10000/10000 [==============================] - 0s 18us/step - loss: 0.0241 - acc: 0.9790 - val_loss: 0.0232 - val_acc: 0.9764\n",
            "Epoch 41/50\n",
            "10000/10000 [==============================] - 0s 19us/step - loss: 0.0238 - acc: 0.9790 - val_loss: 0.0233 - val_acc: 0.9764\n",
            "Epoch 42/50\n",
            "10000/10000 [==============================] - 0s 19us/step - loss: 0.0238 - acc: 0.9790 - val_loss: 0.0232 - val_acc: 0.9764\n",
            "Epoch 43/50\n",
            "10000/10000 [==============================] - 0s 19us/step - loss: 0.0235 - acc: 0.9790 - val_loss: 0.0232 - val_acc: 0.9764\n",
            "Epoch 44/50\n",
            "10000/10000 [==============================] - 0s 19us/step - loss: 0.0238 - acc: 0.9790 - val_loss: 0.0232 - val_acc: 0.9764\n",
            "Epoch 45/50\n",
            "10000/10000 [==============================] - 0s 19us/step - loss: 0.0231 - acc: 0.9790 - val_loss: 0.0232 - val_acc: 0.9764\n",
            "Epoch 46/50\n",
            "10000/10000 [==============================] - 0s 18us/step - loss: 0.0233 - acc: 0.9790 - val_loss: 0.0232 - val_acc: 0.9764\n",
            "Epoch 47/50\n",
            "10000/10000 [==============================] - 0s 20us/step - loss: 0.0229 - acc: 0.9790 - val_loss: 0.0232 - val_acc: 0.9764\n",
            "Epoch 48/50\n",
            "10000/10000 [==============================] - 0s 19us/step - loss: 0.0228 - acc: 0.9790 - val_loss: 0.0232 - val_acc: 0.9764\n",
            "Epoch 49/50\n",
            "10000/10000 [==============================] - 0s 18us/step - loss: 0.0230 - acc: 0.9790 - val_loss: 0.0232 - val_acc: 0.9764\n",
            "Epoch 50/50\n",
            "10000/10000 [==============================] - 0s 19us/step - loss: 0.0226 - acc: 0.9790 - val_loss: 0.0232 - val_acc: 0.9764\n",
            "5000/5000 [==============================] - 0s 24us/step\n",
            "Accuracy: 97.6400%\n"
          ],
          "name": "stdout"
        }
      ]
    },
    {
      "cell_type": "markdown",
      "metadata": {
        "id": "I6_y_C4CRNLw",
        "colab_type": "text"
      },
      "source": [
        "### Model Performance Plots"
      ]
    },
    {
      "cell_type": "code",
      "metadata": {
        "id": "5E8RuHsSPPe0",
        "colab_type": "code",
        "outputId": "8e6c7b0c-f4e0-473b-da0c-75aeb8e24a54",
        "colab": {
          "base_uri": "https://localhost:8080/",
          "height": 573
        }
      },
      "source": [
        "#Plot accuracy vs epoch\n",
        "plt.plot(supervisorApprox_metaData.history['acc'])\n",
        "plt.plot(supervisorApprox_metaData.history['val_acc'])\n",
        "plt.title('Supervisor Approximator Accuracy v/s Epoch')\n",
        "plt.xlabel('# Epoch')\n",
        "plt.ylabel('Accuracy')\n",
        "plt.legend(['train', 'test'], loc = 'lower right')\n",
        "plt.show()\n",
        "\n",
        "#Plot loss vs epoch\n",
        "plt.plot(supervisorApprox_metaData.history['loss'])\n",
        "plt.plot(supervisorApprox_metaData.history['val_loss'])\n",
        "plt.title('Supervisor Approximator Loss v/s Epoch')\n",
        "plt.xlabel('# Epoch')\n",
        "plt.ylabel('Loss')\n",
        "plt.legend(['train', 'test'], loc = 'upper right')\n",
        "plt.show()"
      ],
      "execution_count": 0,
      "outputs": [
        {
          "output_type": "display_data",
          "data": {
            "image/png": "[encoded data removed]",
            "text/plain": [
              "<Figure size 432x288 with 1 Axes>"
            ]
          },
          "metadata": {
            "tags": []
          }
        },
        {
          "output_type": "display_data",
          "data": {
            "image/png": "[encoded data removed]",
            "text/plain": [
              "<Figure size 432x288 with 1 Axes>"
            ]
          },
          "metadata": {
            "tags": []
          }
        }
      ]
    },
    {
      "cell_type": "markdown",
      "metadata": {
        "id": "mkAkptOJRRY7",
        "colab_type": "text"
      },
      "source": [
        "# Performing Attacks"
      ]
    },
    {
      "cell_type": "markdown",
      "metadata": {
        "id": "licccEVbogxi",
        "colab_type": "text"
      },
      "source": [
        "## Gradient Calculation for Statistical model of Supervisory logic"
      ]
    },
    {
      "cell_type": "code",
      "metadata": {
        "id": "3-RHDWbTRRjz",
        "colab_type": "code",
        "colab": {}
      },
      "source": [
        "grads = K.gradients(supervisorApprox.output, supervisorApprox.input)\n",
        "sess = K.get_session()\n",
        "xTest = data_train[1,:].reshape((1,4))\n",
        "def evalGrad(xIn):\n",
        "  G = sess.run(grads[0], \n",
        "                    feed_dict={supervisorApprox.input: xIn})\n",
        "  return G"
      ],
      "execution_count": 0,
      "outputs": []
    },
    {
      "cell_type": "markdown",
      "metadata": {
        "id": "6kXjiJ5j04w3",
        "colab_type": "text"
      },
      "source": [
        "## Attacking some point ***x***\n",
        "This is based on infinity norm attack, given by [ECE 559, Spring 2019 Lecture notes excerpts.](https://i.imgur.com/nycltSw.jpg)\n",
        "\n",
        "See [this paper](https://arxiv.org/pdf/1602.02697.pdf) for further details."
      ]
    },
    {
      "cell_type": "code",
      "metadata": {
        "id": "xetW5MjJ1AHC",
        "colab_type": "code",
        "colab": {}
      },
      "source": [
        "def attacker(grads, xCurrent, pertMax, normCase):\n",
        "# Inputs: \n",
        "# grads: gradient of trained model\n",
        "# xCurrent: current point to be perturbed\n",
        "# pertMax: maximum allowable perturbation, or maximum attack strength\n",
        "    gradientCurrent = evalGrad(xCurrent)\n",
        "    if normCase == 1:\n",
        "      # For infinity norm attack\n",
        "      perturbation = pertMax * np.sign(gradientCurrent)\n",
        "    elif normCase == 2:\n",
        "      # For L2 norm attack\n",
        "      perturbation = pertMax * (gradientCurrent/np.linalg.norm(gradientCurrent, 2))\n",
        "    return xPert"
      ],
      "execution_count": 0,
      "outputs": []
    },
    {
      "cell_type": "markdown",
      "metadata": {
        "id": "MWhNjIUn2w0f",
        "colab_type": "text"
      },
      "source": [
        "## Validating Attacker"
      ]
    },
    {
      "cell_type": "code",
      "metadata": {
        "id": "dggsdXsK20P6",
        "colab_type": "code",
        "colab": {}
      },
      "source": [
        ""
      ],
      "execution_count": 0,
      "outputs": []
    }
  ]
}